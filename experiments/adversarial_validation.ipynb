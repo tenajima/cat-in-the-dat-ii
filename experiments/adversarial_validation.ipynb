{
 "cells": [
  {
   "cell_type": "code",
   "execution_count": 1,
   "metadata": {},
   "outputs": [
    {
     "name": "stderr",
     "output_type": "stream",
     "text": [
      "/home/yuto/cat-in-the-dat-ii/.venv/lib/python3.7/site-packages/pandas/compat/__init__.py:117: UserWarning: Could not import the lzma module. Your installed Python is incomplete. Attempting to use lzma compression will result in a RuntimeError.\n",
      "  warnings.warn(msg)\n"
     ]
    }
   ],
   "source": [
    "import pandas as pd\n",
    "from nyaggle.validation import adversarial_validate"
   ]
  },
  {
   "cell_type": "code",
   "execution_count": 2,
   "metadata": {},
   "outputs": [],
   "source": [
    "import pandas as pd"
   ]
  },
  {
   "cell_type": "code",
   "execution_count": 3,
   "metadata": {},
   "outputs": [
    {
     "name": "stderr",
     "output_type": "stream",
     "text": [
      "2020-02-25 03:15:38,815 INFO luigi-interface : Loaded ['luigi.cfg']\n"
     ]
    }
   ],
   "source": [
    "data = pd.read_pickle(\n",
    "    \"./resources/train/preprocessed_data_091e2f91a8a13f7a3f290ea1f89eb3f8.pkl\"\n",
    ")"
   ]
  },
  {
   "cell_type": "code",
   "execution_count": 17,
   "metadata": {},
   "outputs": [],
   "source": [
    "drop_columns = list((\n",
    "    set(data.train_X.columns[data.train_X.columns.str.startswith(\"TargetEncode\")])\n",
    "    | set(data.train_X.columns[data.train_X.columns.str.startswith(\"CatBoostEncode\")])\n",
    "    | set(data.train_X.columns[data.train_X.columns.str.startswith(\"JamesSteinEncode\")])\n",
    "    | set(data.train_X.columns[data.train_X.columns.str.startswith(\"MEstimateEncode\")])\n",
    "    | set(data.train_X.columns[data.train_X.columns.str.startswith(\"WOEEncoder\")])\n",
    "))"
   ]
  },
  {
   "cell_type": "code",
   "execution_count": 18,
   "metadata": {},
   "outputs": [],
   "source": [
    "train = data.train_X.drop(columns=drop_columns)\n",
    "test = data.test_X.drop(columns=drop_columns)"
   ]
  },
  {
   "cell_type": "code",
   "execution_count": 19,
   "metadata": {},
   "outputs": [
    {
     "name": "stdout",
     "output_type": "stream",
     "text": [
      "Training until validation scores don't improve for 100 rounds\n"
     ]
    },
    {
     "name": "stderr",
     "output_type": "stream",
     "text": [
      "2020-02-25 03:20:48,571 INFO nyaggle.validation.cross_validate : Fold 0 score: 0.501093911396059\n",
      "2020-02-25 03:20:48,631 INFO nyaggle.validation.cross_validate : Overall score: 0.501093911396059\n"
     ]
    },
    {
     "name": "stdout",
     "output_type": "stream",
     "text": [
      "Early stopping, best iteration is:\n",
      "[12]\tvalid_0's binary_logloss: 0.673356\n"
     ]
    }
   ],
   "source": [
    "auc, importance = adversarial_validate(train, test, importance_type=\"gain\")"
   ]
  },
  {
   "cell_type": "code",
   "execution_count": 20,
   "metadata": {},
   "outputs": [
    {
     "data": {
      "text/plain": [
       "0.501093911396059"
      ]
     },
     "execution_count": 20,
     "metadata": {},
     "output_type": "execute_result"
    }
   ],
   "source": [
    "auc"
   ]
  },
  {
   "cell_type": "code",
   "execution_count": 21,
   "metadata": {},
   "outputs": [
    {
     "data": {
      "text/html": [
       "<div>\n",
       "<style scoped>\n",
       "    .dataframe tbody tr th:only-of-type {\n",
       "        vertical-align: middle;\n",
       "    }\n",
       "\n",
       "    .dataframe tbody tr th {\n",
       "        vertical-align: top;\n",
       "    }\n",
       "\n",
       "    .dataframe thead th {\n",
       "        text-align: right;\n",
       "    }\n",
       "</style>\n",
       "<table border=\"1\" class=\"dataframe\">\n",
       "  <thead>\n",
       "    <tr style=\"text-align: right;\">\n",
       "      <th></th>\n",
       "      <th>feature</th>\n",
       "      <th>importance</th>\n",
       "    </tr>\n",
       "  </thead>\n",
       "  <tbody>\n",
       "    <tr>\n",
       "      <th>0</th>\n",
       "      <td>Ordinary_ord_5</td>\n",
       "      <td>389.192351</td>\n",
       "    </tr>\n",
       "    <tr>\n",
       "      <th>1</th>\n",
       "      <td>Ordinary_ord_4</td>\n",
       "      <td>326.081149</td>\n",
       "    </tr>\n",
       "    <tr>\n",
       "      <th>2</th>\n",
       "      <td>Ordinary_ord_3</td>\n",
       "      <td>304.221831</td>\n",
       "    </tr>\n",
       "    <tr>\n",
       "      <th>3</th>\n",
       "      <td>month_sin</td>\n",
       "      <td>245.682050</td>\n",
       "    </tr>\n",
       "    <tr>\n",
       "      <th>4</th>\n",
       "      <td>Ord5_1</td>\n",
       "      <td>210.103721</td>\n",
       "    </tr>\n",
       "    <tr>\n",
       "      <th>5</th>\n",
       "      <td>Ordinary_ord_1</td>\n",
       "      <td>184.314450</td>\n",
       "    </tr>\n",
       "    <tr>\n",
       "      <th>6</th>\n",
       "      <td>day_cos</td>\n",
       "      <td>177.269511</td>\n",
       "    </tr>\n",
       "    <tr>\n",
       "      <th>7</th>\n",
       "      <td>Ordinary_ord_2</td>\n",
       "      <td>130.704080</td>\n",
       "    </tr>\n",
       "    <tr>\n",
       "      <th>8</th>\n",
       "      <td>Ordinary_ord_0</td>\n",
       "      <td>92.412790</td>\n",
       "    </tr>\n",
       "    <tr>\n",
       "      <th>9</th>\n",
       "      <td>OHE_bin_0_1.0</td>\n",
       "      <td>63.140229</td>\n",
       "    </tr>\n",
       "    <tr>\n",
       "      <th>10</th>\n",
       "      <td>OHE_ord_2_Freezing</td>\n",
       "      <td>53.039841</td>\n",
       "    </tr>\n",
       "    <tr>\n",
       "      <th>11</th>\n",
       "      <td>BinaryCategorical_bin_2</td>\n",
       "      <td>49.799201</td>\n",
       "    </tr>\n",
       "    <tr>\n",
       "      <th>12</th>\n",
       "      <td>OHE_bin_2_1.0</td>\n",
       "      <td>47.708469</td>\n",
       "    </tr>\n",
       "    <tr>\n",
       "      <th>13</th>\n",
       "      <td>OHE_nom_4_Bassoon</td>\n",
       "      <td>36.793329</td>\n",
       "    </tr>\n",
       "    <tr>\n",
       "      <th>14</th>\n",
       "      <td>OHE_ord_0_1.0</td>\n",
       "      <td>7.065430</td>\n",
       "    </tr>\n",
       "    <tr>\n",
       "      <th>15</th>\n",
       "      <td>OHE_ord_0_3.0</td>\n",
       "      <td>0.000000</td>\n",
       "    </tr>\n",
       "    <tr>\n",
       "      <th>16</th>\n",
       "      <td>OHE_ord_2_Lava Hot</td>\n",
       "      <td>0.000000</td>\n",
       "    </tr>\n",
       "    <tr>\n",
       "      <th>17</th>\n",
       "      <td>OHE_bin_2_0.0</td>\n",
       "      <td>0.000000</td>\n",
       "    </tr>\n",
       "  </tbody>\n",
       "</table>\n",
       "</div>"
      ],
      "text/plain": [
       "                    feature  importance\n",
       "0            Ordinary_ord_5  389.192351\n",
       "1            Ordinary_ord_4  326.081149\n",
       "2            Ordinary_ord_3  304.221831\n",
       "3                 month_sin  245.682050\n",
       "4                    Ord5_1  210.103721\n",
       "5            Ordinary_ord_1  184.314450\n",
       "6                   day_cos  177.269511\n",
       "7            Ordinary_ord_2  130.704080\n",
       "8            Ordinary_ord_0   92.412790\n",
       "9             OHE_bin_0_1.0   63.140229\n",
       "10       OHE_ord_2_Freezing   53.039841\n",
       "11  BinaryCategorical_bin_2   49.799201\n",
       "12            OHE_bin_2_1.0   47.708469\n",
       "13        OHE_nom_4_Bassoon   36.793329\n",
       "14            OHE_ord_0_1.0    7.065430\n",
       "15            OHE_ord_0_3.0    0.000000\n",
       "16       OHE_ord_2_Lava Hot    0.000000\n",
       "17            OHE_bin_2_0.0    0.000000"
      ]
     },
     "execution_count": 21,
     "metadata": {},
     "output_type": "execute_result"
    }
   ],
   "source": [
    "importance"
   ]
  },
  {
   "cell_type": "code",
   "execution_count": null,
   "metadata": {},
   "outputs": [],
   "source": []
  }
 ],
 "metadata": {
  "kernelspec": {
   "display_name": "Python 3",
   "language": "python",
   "name": "python3"
  },
  "language_info": {
   "codemirror_mode": {
    "name": "ipython",
    "version": 3
   },
   "file_extension": ".py",
   "mimetype": "text/x-python",
   "name": "python",
   "nbconvert_exporter": "python",
   "pygments_lexer": "ipython3",
   "version": "3.7.6"
  }
 },
 "nbformat": 4,
 "nbformat_minor": 4
}
