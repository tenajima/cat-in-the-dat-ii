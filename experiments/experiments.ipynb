{
 "cells": [
  {
   "cell_type": "code",
   "execution_count": 1,
   "metadata": {},
   "outputs": [],
   "source": [
    "import pandas as pd\n",
    "import numpy as np\n",
    "import luigi\n",
    "from dotenv import load_dotenv\n",
    "from thunderbolt import Thunderbolt"
   ]
  },
  {
   "cell_type": "code",
   "execution_count": 2,
   "metadata": {},
   "outputs": [],
   "source": [
    "pd.options.display.max_columns = 100"
   ]
  },
  {
   "cell_type": "code",
   "execution_count": 3,
   "metadata": {},
   "outputs": [],
   "source": [
    "%load_ext autoreload\n",
    "%autoreload 2"
   ]
  },
  {
   "cell_type": "code",
   "execution_count": 4,
   "metadata": {},
   "outputs": [],
   "source": [
    "from scripts.feature.dataset import GetDataSet\n",
    "from scripts.feature.get_feature import GetFeature, Nom0"
   ]
  },
  {
   "cell_type": "code",
   "execution_count": 5,
   "metadata": {},
   "outputs": [],
   "source": [
    "load_dotenv()\n",
    "luigi.configuration.LuigiConfigParser.add_config_path('./luigi.cfg')"
   ]
  },
  {
   "cell_type": "code",
   "execution_count": 6,
   "metadata": {},
   "outputs": [
    {
     "name": "stdout",
     "output_type": "stream",
     "text": [
      "0\n"
     ]
    }
   ],
   "source": [
    "!echo $NROWS"
   ]
  },
  {
   "cell_type": "code",
   "execution_count": null,
   "metadata": {},
   "outputs": [],
   "source": [
    "nrows = None\n",
    "train = pd.read_csv(\"../input/cat-in-the-dat-ii/train.csv\", nrows=nrows)\n",
    "test= pd.read_csv(\"../input/cat-in-the-dat-ii/test.csv\", nrows=nrows)"
   ]
  },
  {
   "cell_type": "code",
   "execution_count": null,
   "metadata": {},
   "outputs": [],
   "source": [
    "train['nom_0']"
   ]
  },
  {
   "cell_type": "code",
   "execution_count": null,
   "metadata": {},
   "outputs": [],
   "source": [
    "train.nunique()"
   ]
  },
  {
   "cell_type": "code",
   "execution_count": null,
   "metadata": {},
   "outputs": [],
   "source": [
    "train['nom_1'].unique()"
   ]
  },
  {
   "cell_type": "code",
   "execution_count": null,
   "metadata": {},
   "outputs": [],
   "source": [
    "pd.Categorical(train['nom_0'], categories=train['nom_0'].dropna().unique())"
   ]
  },
  {
   "cell_type": "code",
   "execution_count": null,
   "metadata": {},
   "outputs": [],
   "source": [
    "hoge = pd.Series(['hoge', 'fuga', None])\n",
    "hoge"
   ]
  },
  {
   "cell_type": "code",
   "execution_count": null,
   "metadata": {},
   "outputs": [],
   "source": [
    "fuga = pd.Series(['hoge', 'fuga', 'piyo'])\n",
    "fuga"
   ]
  },
  {
   "cell_type": "code",
   "execution_count": null,
   "metadata": {},
   "outputs": [],
   "source": [
    "pd.get_dummies(pd.Categorical(fuga, categories=hoge.dropna().unique()), dummy_na=True)"
   ]
  },
  {
   "cell_type": "code",
   "execution_count": null,
   "metadata": {},
   "outputs": [],
   "source": [
    "hoge"
   ]
  },
  {
   "cell_type": "code",
   "execution_count": null,
   "metadata": {},
   "outputs": [],
   "source": [
    "col = \"nom_4\"\n",
    "print(len(set(train[col]) | set(test[col])))\n",
    "set(train[col]) ^ set(test[col])"
   ]
  },
  {
   "cell_type": "code",
   "execution_count": null,
   "metadata": {},
   "outputs": [],
   "source": [
    "train['nom_4']"
   ]
  },
  {
   "cell_type": "code",
   "execution_count": null,
   "metadata": {},
   "outputs": [],
   "source": [
    "set(train) - set(test)"
   ]
  },
  {
   "cell_type": "code",
   "execution_count": null,
   "metadata": {},
   "outputs": [],
   "source": [
    "dataset['target']"
   ]
  },
  {
   "cell_type": "code",
   "execution_count": null,
   "metadata": {},
   "outputs": [],
   "source": [
    "train.fillna(0).groupby('month')[['target']].mean()"
   ]
  },
  {
   "cell_type": "code",
   "execution_count": null,
   "metadata": {},
   "outputs": [],
   "source": [
    "train.fillna(0).groupby('month')[['target']].sum()"
   ]
  },
  {
   "cell_type": "code",
   "execution_count": null,
   "metadata": {},
   "outputs": [],
   "source": [
    "luigi.build([Nom0()], local_scheduler=True)"
   ]
  },
  {
   "cell_type": "code",
   "execution_count": 7,
   "metadata": {},
   "outputs": [
    {
     "name": "stderr",
     "output_type": "stream",
     "text": [
      "2020-02-17 22:07:59,532 INFO luigi : logging configured by default settings\n",
      "DEBUG: Checking if GetFeature(features=[]) is complete\n",
      "2020-02-17 22:07:59,542 DEBUG luigi-interface : Checking if GetFeature(features=[]) is complete\n",
      "DEBUG: Checking if Target() is complete\n",
      "2020-02-17 22:07:59,593 DEBUG luigi-interface : Checking if Target() is complete\n",
      "DEBUG: Checking if Bin0() is complete\n",
      "2020-02-17 22:07:59,595 DEBUG luigi-interface : Checking if Bin0() is complete\n",
      "DEBUG: Checking if Bin1() is complete\n",
      "2020-02-17 22:07:59,599 DEBUG luigi-interface : Checking if Bin1() is complete\n",
      "DEBUG: Checking if Bin2() is complete\n",
      "2020-02-17 22:07:59,602 DEBUG luigi-interface : Checking if Bin2() is complete\n",
      "DEBUG: Checking if Bin3() is complete\n",
      "2020-02-17 22:07:59,615 DEBUG luigi-interface : Checking if Bin3() is complete\n",
      "DEBUG: Checking if Bin4() is complete\n",
      "2020-02-17 22:07:59,619 DEBUG luigi-interface : Checking if Bin4() is complete\n",
      "DEBUG: Checking if Ord0() is complete\n",
      "2020-02-17 22:07:59,626 DEBUG luigi-interface : Checking if Ord0() is complete\n",
      "DEBUG: Checking if Ord1() is complete\n",
      "2020-02-17 22:07:59,631 DEBUG luigi-interface : Checking if Ord1() is complete\n",
      "DEBUG: Checking if Ord2() is complete\n",
      "2020-02-17 22:07:59,634 DEBUG luigi-interface : Checking if Ord2() is complete\n",
      "DEBUG: Checking if Ord3() is complete\n",
      "2020-02-17 22:07:59,639 DEBUG luigi-interface : Checking if Ord3() is complete\n",
      "DEBUG: Checking if Ord4() is complete\n",
      "2020-02-17 22:07:59,642 DEBUG luigi-interface : Checking if Ord4() is complete\n",
      "DEBUG: Checking if Ord5() is complete\n",
      "2020-02-17 22:07:59,645 DEBUG luigi-interface : Checking if Ord5() is complete\n",
      "DEBUG: Checking if DaySinCos() is complete\n",
      "2020-02-17 22:07:59,649 DEBUG luigi-interface : Checking if DaySinCos() is complete\n",
      "DEBUG: Checking if MonthSinCos() is complete\n",
      "2020-02-17 22:07:59,654 DEBUG luigi-interface : Checking if MonthSinCos() is complete\n",
      "DEBUG: Checking if Nom0() is complete\n",
      "2020-02-17 22:07:59,657 DEBUG luigi-interface : Checking if Nom0() is complete\n",
      "DEBUG: Checking if Nom1() is complete\n",
      "2020-02-17 22:07:59,662 DEBUG luigi-interface : Checking if Nom1() is complete\n",
      "DEBUG: Checking if Nom2() is complete\n",
      "2020-02-17 22:07:59,666 DEBUG luigi-interface : Checking if Nom2() is complete\n",
      "DEBUG: Checking if Nom3() is complete\n",
      "2020-02-17 22:07:59,671 DEBUG luigi-interface : Checking if Nom3() is complete\n",
      "DEBUG: Checking if Nom4() is complete\n",
      "2020-02-17 22:07:59,674 DEBUG luigi-interface : Checking if Nom4() is complete\n",
      "INFO: Informed scheduler that task   GetFeature____083ddcb1e0   has status   PENDING\n",
      "2020-02-17 22:07:59,678 INFO luigi-interface : Informed scheduler that task   GetFeature____083ddcb1e0   has status   PENDING\n",
      "INFO: Informed scheduler that task   Nom4__99914b932b   has status   DONE\n",
      "2020-02-17 22:07:59,680 INFO luigi-interface : Informed scheduler that task   Nom4__99914b932b   has status   DONE\n",
      "INFO: Informed scheduler that task   Nom3__99914b932b   has status   DONE\n",
      "2020-02-17 22:07:59,683 INFO luigi-interface : Informed scheduler that task   Nom3__99914b932b   has status   DONE\n",
      "INFO: Informed scheduler that task   Nom2__99914b932b   has status   DONE\n",
      "2020-02-17 22:07:59,686 INFO luigi-interface : Informed scheduler that task   Nom2__99914b932b   has status   DONE\n",
      "INFO: Informed scheduler that task   Nom1__99914b932b   has status   DONE\n",
      "2020-02-17 22:07:59,690 INFO luigi-interface : Informed scheduler that task   Nom1__99914b932b   has status   DONE\n",
      "INFO: Informed scheduler that task   Nom0__99914b932b   has status   DONE\n",
      "2020-02-17 22:07:59,693 INFO luigi-interface : Informed scheduler that task   Nom0__99914b932b   has status   DONE\n",
      "INFO: Informed scheduler that task   MonthSinCos__99914b932b   has status   DONE\n",
      "2020-02-17 22:07:59,696 INFO luigi-interface : Informed scheduler that task   MonthSinCos__99914b932b   has status   DONE\n",
      "INFO: Informed scheduler that task   DaySinCos__99914b932b   has status   DONE\n",
      "2020-02-17 22:07:59,700 INFO luigi-interface : Informed scheduler that task   DaySinCos__99914b932b   has status   DONE\n",
      "INFO: Informed scheduler that task   Ord5__99914b932b   has status   DONE\n",
      "2020-02-17 22:07:59,703 INFO luigi-interface : Informed scheduler that task   Ord5__99914b932b   has status   DONE\n",
      "INFO: Informed scheduler that task   Ord4__99914b932b   has status   DONE\n",
      "2020-02-17 22:07:59,706 INFO luigi-interface : Informed scheduler that task   Ord4__99914b932b   has status   DONE\n",
      "INFO: Informed scheduler that task   Ord3__99914b932b   has status   DONE\n",
      "2020-02-17 22:07:59,717 INFO luigi-interface : Informed scheduler that task   Ord3__99914b932b   has status   DONE\n",
      "INFO: Informed scheduler that task   Ord2__99914b932b   has status   DONE\n",
      "2020-02-17 22:07:59,730 INFO luigi-interface : Informed scheduler that task   Ord2__99914b932b   has status   DONE\n",
      "INFO: Informed scheduler that task   Ord1__99914b932b   has status   DONE\n",
      "2020-02-17 22:07:59,740 INFO luigi-interface : Informed scheduler that task   Ord1__99914b932b   has status   DONE\n",
      "INFO: Informed scheduler that task   Ord0__99914b932b   has status   DONE\n",
      "2020-02-17 22:07:59,778 INFO luigi-interface : Informed scheduler that task   Ord0__99914b932b   has status   DONE\n",
      "INFO: Informed scheduler that task   Bin4__99914b932b   has status   DONE\n",
      "2020-02-17 22:07:59,780 INFO luigi-interface : Informed scheduler that task   Bin4__99914b932b   has status   DONE\n",
      "INFO: Informed scheduler that task   Bin3__99914b932b   has status   DONE\n",
      "2020-02-17 22:07:59,783 INFO luigi-interface : Informed scheduler that task   Bin3__99914b932b   has status   DONE\n",
      "INFO: Informed scheduler that task   Bin2__99914b932b   has status   DONE\n",
      "2020-02-17 22:07:59,794 INFO luigi-interface : Informed scheduler that task   Bin2__99914b932b   has status   DONE\n",
      "INFO: Informed scheduler that task   Bin1__99914b932b   has status   DONE\n",
      "2020-02-17 22:07:59,800 INFO luigi-interface : Informed scheduler that task   Bin1__99914b932b   has status   DONE\n",
      "INFO: Informed scheduler that task   Bin0__99914b932b   has status   DONE\n",
      "2020-02-17 22:07:59,806 INFO luigi-interface : Informed scheduler that task   Bin0__99914b932b   has status   DONE\n",
      "INFO: Informed scheduler that task   Target__99914b932b   has status   DONE\n",
      "2020-02-17 22:07:59,810 INFO luigi-interface : Informed scheduler that task   Target__99914b932b   has status   DONE\n",
      "INFO: Done scheduling tasks\n",
      "2020-02-17 22:07:59,813 INFO luigi-interface : Done scheduling tasks\n",
      "INFO: Running Worker with 1 processes\n",
      "2020-02-17 22:07:59,820 INFO luigi-interface : Running Worker with 1 processes\n",
      "DEBUG: Asking scheduler for work...\n",
      "2020-02-17 22:07:59,824 DEBUG luigi-interface : Asking scheduler for work...\n",
      "DEBUG: Pending tasks: 1\n",
      "2020-02-17 22:07:59,829 DEBUG luigi-interface : Pending tasks: 1\n",
      "INFO: [pid 69478] Worker Worker(salt=198465548, workers=1, host=tenajimachine.local, username=yuto, pid=69478) running   GetFeature(features=[])\n",
      "2020-02-17 22:07:59,840 INFO luigi-interface : [pid 69478] Worker Worker(salt=198465548, workers=1, host=tenajimachine.local, username=yuto, pid=69478) running   GetFeature(features=[])\n",
      "2020-02-17 22:07:59,890 INFO gokart.file_processor : writing a file with total_bytes=31...\n",
      "2020-02-17 22:07:59,891 INFO gokart.file_processor : writing bytes [0, 31)\n",
      "2020-02-17 22:07:59,894 INFO gokart.file_processor : done\n"
     ]
    },
    {
     "name": "stdout",
     "output_type": "stream",
     "text": [
      "Target\n",
      "Bin0\n",
      "Bin1\n",
      "Bin2\n",
      "Bin3\n",
      "Bin4\n",
      "Ord0\n",
      "Ord1\n",
      "Ord2\n",
      "Ord3\n",
      "Ord4\n",
      "Ord5\n",
      "DaySinCos\n",
      "MonthSinCos\n",
      "Nom0\n",
      "Nom1\n",
      "Nom2\n",
      "Nom3\n",
      "Nom4\n",
      "go dump\n"
     ]
    },
    {
     "name": "stderr",
     "output_type": "stream",
     "text": [
      "2020-02-17 22:08:32,622 INFO gokart.target : saving a large pdDataFrame with split_size=77\n",
      "100%|██████████| 77/77 [00:29<00:00,  2.64it/s]\n",
      "2020-02-17 22:09:04,310 INFO gokart.file_processor : writing a file with total_bytes=61...\n",
      "2020-02-17 22:09:04,313 INFO gokart.file_processor : writing bytes [0, 61)\n",
      "2020-02-17 22:09:04,315 INFO gokart.file_processor : done\n",
      "2020-02-17 22:09:54,272 INFO gokart.file_processor : writing a file with total_bytes=21...\n",
      "2020-02-17 22:09:54,273 INFO gokart.file_processor : writing bytes [0, 21)\n",
      "2020-02-17 22:09:54,274 INFO gokart.file_processor : done\n",
      "INFO: [pid 69478] Worker Worker(salt=198465548, workers=1, host=tenajimachine.local, username=yuto, pid=69478) done      GetFeature(features=[])\n",
      "2020-02-17 22:09:54,276 INFO luigi-interface : [pid 69478] Worker Worker(salt=198465548, workers=1, host=tenajimachine.local, username=yuto, pid=69478) done      GetFeature(features=[])\n",
      "2020-02-17 22:09:54,283 INFO gokart.file_processor : writing a file with total_bytes=99...\n",
      "2020-02-17 22:09:54,290 INFO gokart.file_processor : writing bytes [0, 99)\n",
      "2020-02-17 22:09:54,303 INFO gokart.file_processor : done\n",
      "DEBUG: 1 running tasks, waiting for next task to finish\n",
      "2020-02-17 22:09:54,309 DEBUG luigi-interface : 1 running tasks, waiting for next task to finish\n",
      "INFO: Informed scheduler that task   GetFeature____083ddcb1e0   has status   DONE\n",
      "2020-02-17 22:09:54,335 INFO luigi-interface : Informed scheduler that task   GetFeature____083ddcb1e0   has status   DONE\n",
      "DEBUG: Asking scheduler for work...\n",
      "2020-02-17 22:09:54,339 DEBUG luigi-interface : Asking scheduler for work...\n",
      "DEBUG: Done\n",
      "2020-02-17 22:09:54,355 DEBUG luigi-interface : Done\n",
      "DEBUG: There are no more tasks to run at this time\n",
      "2020-02-17 22:09:54,367 DEBUG luigi-interface : There are no more tasks to run at this time\n",
      "INFO: Worker Worker(salt=198465548, workers=1, host=tenajimachine.local, username=yuto, pid=69478) was stopped. Shutting down Keep-Alive thread\n",
      "2020-02-17 22:09:54,501 INFO luigi-interface : Worker Worker(salt=198465548, workers=1, host=tenajimachine.local, username=yuto, pid=69478) was stopped. Shutting down Keep-Alive thread\n",
      "INFO: \n",
      "===== Luigi Execution Summary =====\n",
      "\n",
      "Scheduled 20 tasks of which:\n",
      "* 19 complete ones were encountered:\n",
      "    - 1 Bin0(...)\n",
      "    - 1 Bin1(...)\n",
      "    - 1 Bin2(...)\n",
      "    - 1 Bin3(...)\n",
      "    - 1 Bin4(...)\n",
      "    ...\n",
      "* 1 ran successfully:\n",
      "    - 1 GetFeature(...)\n",
      "\n",
      "This progress looks :) because there were no failed tasks or missing dependencies\n",
      "\n",
      "===== Luigi Execution Summary =====\n",
      "\n",
      "2020-02-17 22:09:54,515 INFO luigi-interface : \n",
      "===== Luigi Execution Summary =====\n",
      "\n",
      "Scheduled 20 tasks of which:\n",
      "* 19 complete ones were encountered:\n",
      "    - 1 Bin0(...)\n",
      "    - 1 Bin1(...)\n",
      "    - 1 Bin2(...)\n",
      "    - 1 Bin3(...)\n",
      "    - 1 Bin4(...)\n",
      "    ...\n",
      "* 1 ran successfully:\n",
      "    - 1 GetFeature(...)\n",
      "\n",
      "This progress looks :) because there were no failed tasks or missing dependencies\n",
      "\n",
      "===== Luigi Execution Summary =====\n",
      "\n"
     ]
    },
    {
     "data": {
      "text/plain": [
       "True"
      ]
     },
     "execution_count": 7,
     "metadata": {},
     "output_type": "execute_result"
    }
   ],
   "source": [
    "luigi.build([GetFeature()], local_scheduler=True)"
   ]
  },
  {
   "cell_type": "code",
   "execution_count": null,
   "metadata": {},
   "outputs": [],
   "source": [
    "hoge = pd.read_pickle('./resources/scripts/feature/get_feature/Nom0_3c39b2400b56e01b6445809aeed84b03.pkl')"
   ]
  },
  {
   "cell_type": "code",
   "execution_count": null,
   "metadata": {},
   "outputs": [],
   "source": [
    "hoge"
   ]
  }
 ],
 "metadata": {
  "kernelspec": {
   "display_name": "Python 3",
   "language": "python",
   "name": "python3"
  },
  "language_info": {
   "codemirror_mode": {
    "name": "ipython",
    "version": 3
   },
   "file_extension": ".py",
   "mimetype": "text/x-python",
   "name": "python",
   "nbconvert_exporter": "python",
   "pygments_lexer": "ipython3",
   "version": "3.7.5"
  }
 },
 "nbformat": 4,
 "nbformat_minor": 4
}
