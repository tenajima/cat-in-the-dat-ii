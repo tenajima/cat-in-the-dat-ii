{
 "cells": [
  {
   "cell_type": "code",
   "execution_count": 1,
   "metadata": {},
   "outputs": [
    {
     "name": "stderr",
     "output_type": "stream",
     "text": [
      "/home/yuto/cat-in-the-dat-ii/.venv/lib/python3.7/site-packages/pandas/compat/__init__.py:117: UserWarning: Could not import the lzma module. Your installed Python is incomplete. Attempting to use lzma compression will result in a RuntimeError.\n",
      "  warnings.warn(msg)\n"
     ]
    }
   ],
   "source": [
    "import luigi\n",
    "import pandas as pd\n",
    "from dotenv import load_dotenv\n",
    "\n",
    "from scripts.train.train import TrainStratifiedKFold, Preprocess\n",
    "from scripts.submit.predict import Predict\n",
    "from scripts.feature.get_feature import GetFeature, TargetEncode\n",
    "from scripts.train.tuning import TuningLGB"
   ]
  },
  {
   "cell_type": "code",
   "execution_count": 2,
   "metadata": {},
   "outputs": [],
   "source": [
    "pd.options.display.max_columns = 100"
   ]
  },
  {
   "cell_type": "code",
   "execution_count": 3,
   "metadata": {},
   "outputs": [],
   "source": [
    "%load_ext autoreload\n",
    "%autoreload 2"
   ]
  },
  {
   "cell_type": "code",
   "execution_count": 4,
   "metadata": {},
   "outputs": [
    {
     "data": {
      "text/plain": [
       "True"
      ]
     },
     "execution_count": 4,
     "metadata": {},
     "output_type": "execute_result"
    }
   ],
   "source": [
    "load_dotenv()"
   ]
  },
  {
   "cell_type": "code",
   "execution_count": 5,
   "metadata": {},
   "outputs": [
    {
     "ename": "FileNotFoundError",
     "evalue": "[Errno 2] No such file or directory: './resources/scripts/train/tuning/TuningLGB_b0b161233d6587a97bc4952d65083e96.pkl'",
     "output_type": "error",
     "traceback": [
      "\u001b[0;31m---------------------------------------------------------------------------\u001b[0m",
      "\u001b[0;31mFileNotFoundError\u001b[0m                         Traceback (most recent call last)",
      "\u001b[0;32m<ipython-input-5-619e0407abf0>\u001b[0m in \u001b[0;36m<module>\u001b[0;34m\u001b[0m\n\u001b[0;32m----> 1\u001b[0;31m \u001b[0mpd\u001b[0m\u001b[0;34m.\u001b[0m\u001b[0mread_pickle\u001b[0m\u001b[0;34m(\u001b[0m\u001b[0;34m'./resources/scripts/train/tuning/TuningLGB_b0b161233d6587a97bc4952d65083e96.pkl'\u001b[0m\u001b[0;34m)\u001b[0m\u001b[0;34m[\u001b[0m\u001b[0;34m'best_params'\u001b[0m\u001b[0;34m]\u001b[0m\u001b[0;34m\u001b[0m\u001b[0;34m\u001b[0m\u001b[0m\n\u001b[0m",
      "\u001b[0;32m~/cat-in-the-dat-ii/.venv/lib/python3.7/site-packages/pandas/io/pickle.py\u001b[0m in \u001b[0;36mread_pickle\u001b[0;34m(filepath_or_buffer, compression)\u001b[0m\n\u001b[1;32m    168\u001b[0m     \u001b[0;32mif\u001b[0m \u001b[0;32mnot\u001b[0m \u001b[0misinstance\u001b[0m\u001b[0;34m(\u001b[0m\u001b[0mfp_or_buf\u001b[0m\u001b[0;34m,\u001b[0m \u001b[0mstr\u001b[0m\u001b[0;34m)\u001b[0m \u001b[0;32mand\u001b[0m \u001b[0mcompression\u001b[0m \u001b[0;34m==\u001b[0m \u001b[0;34m\"infer\"\u001b[0m\u001b[0;34m:\u001b[0m\u001b[0;34m\u001b[0m\u001b[0;34m\u001b[0m\u001b[0m\n\u001b[1;32m    169\u001b[0m         \u001b[0mcompression\u001b[0m \u001b[0;34m=\u001b[0m \u001b[0;32mNone\u001b[0m\u001b[0;34m\u001b[0m\u001b[0;34m\u001b[0m\u001b[0m\n\u001b[0;32m--> 170\u001b[0;31m     \u001b[0mf\u001b[0m\u001b[0;34m,\u001b[0m \u001b[0mfh\u001b[0m \u001b[0;34m=\u001b[0m \u001b[0mget_handle\u001b[0m\u001b[0;34m(\u001b[0m\u001b[0mfp_or_buf\u001b[0m\u001b[0;34m,\u001b[0m \u001b[0;34m\"rb\"\u001b[0m\u001b[0;34m,\u001b[0m \u001b[0mcompression\u001b[0m\u001b[0;34m=\u001b[0m\u001b[0mcompression\u001b[0m\u001b[0;34m,\u001b[0m \u001b[0mis_text\u001b[0m\u001b[0;34m=\u001b[0m\u001b[0;32mFalse\u001b[0m\u001b[0;34m)\u001b[0m\u001b[0;34m\u001b[0m\u001b[0;34m\u001b[0m\u001b[0m\n\u001b[0m\u001b[1;32m    171\u001b[0m \u001b[0;34m\u001b[0m\u001b[0m\n\u001b[1;32m    172\u001b[0m     \u001b[0;31m# 1) try standard library Pickle\u001b[0m\u001b[0;34m\u001b[0m\u001b[0;34m\u001b[0m\u001b[0;34m\u001b[0m\u001b[0m\n",
      "\u001b[0;32m~/cat-in-the-dat-ii/.venv/lib/python3.7/site-packages/pandas/io/common.py\u001b[0m in \u001b[0;36mget_handle\u001b[0;34m(path_or_buf, mode, encoding, compression, memory_map, is_text)\u001b[0m\n\u001b[1;32m    432\u001b[0m         \u001b[0;32melse\u001b[0m\u001b[0;34m:\u001b[0m\u001b[0;34m\u001b[0m\u001b[0;34m\u001b[0m\u001b[0m\n\u001b[1;32m    433\u001b[0m             \u001b[0;31m# Binary mode\u001b[0m\u001b[0;34m\u001b[0m\u001b[0;34m\u001b[0m\u001b[0;34m\u001b[0m\u001b[0m\n\u001b[0;32m--> 434\u001b[0;31m             \u001b[0mf\u001b[0m \u001b[0;34m=\u001b[0m \u001b[0mopen\u001b[0m\u001b[0;34m(\u001b[0m\u001b[0mpath_or_buf\u001b[0m\u001b[0;34m,\u001b[0m \u001b[0mmode\u001b[0m\u001b[0;34m)\u001b[0m\u001b[0;34m\u001b[0m\u001b[0;34m\u001b[0m\u001b[0m\n\u001b[0m\u001b[1;32m    435\u001b[0m         \u001b[0mhandles\u001b[0m\u001b[0;34m.\u001b[0m\u001b[0mappend\u001b[0m\u001b[0;34m(\u001b[0m\u001b[0mf\u001b[0m\u001b[0;34m)\u001b[0m\u001b[0;34m\u001b[0m\u001b[0;34m\u001b[0m\u001b[0m\n\u001b[1;32m    436\u001b[0m \u001b[0;34m\u001b[0m\u001b[0m\n",
      "\u001b[0;31mFileNotFoundError\u001b[0m: [Errno 2] No such file or directory: './resources/scripts/train/tuning/TuningLGB_b0b161233d6587a97bc4952d65083e96.pkl'"
     ]
    }
   ],
   "source": [
    "pd.read_pickle('./resources/scripts/train/tuning/TuningLGB_b0b161233d6587a97bc4952d65083e96.pkl')['best_params']"
   ]
  },
  {
   "cell_type": "code",
   "execution_count": 6,
   "metadata": {},
   "outputs": [
    {
     "name": "stderr",
     "output_type": "stream",
     "text": [
      "2020-02-25 09:44:53,669 INFO luigi : logging configured by default settings\n",
      "DEBUG: Checking if TuningLGB(random_state=110) is complete\n",
      "2020-02-25 09:44:53,675 DEBUG luigi-interface : Checking if TuningLGB(random_state=110) is complete\n",
      "INFO: Informed scheduler that task   TuningLGB_110_fadd22deb8   has status   DONE\n",
      "2020-02-25 09:44:53,753 INFO luigi-interface : Informed scheduler that task   TuningLGB_110_fadd22deb8   has status   DONE\n",
      "INFO: Done scheduling tasks\n",
      "2020-02-25 09:44:53,755 INFO luigi-interface : Done scheduling tasks\n",
      "INFO: Running Worker with 1 processes\n",
      "2020-02-25 09:44:53,757 INFO luigi-interface : Running Worker with 1 processes\n",
      "DEBUG: Asking scheduler for work...\n",
      "2020-02-25 09:44:53,759 DEBUG luigi-interface : Asking scheduler for work...\n",
      "DEBUG: Done\n",
      "2020-02-25 09:44:53,761 DEBUG luigi-interface : Done\n",
      "DEBUG: There are no more tasks to run at this time\n",
      "2020-02-25 09:44:53,764 DEBUG luigi-interface : There are no more tasks to run at this time\n",
      "INFO: Worker Worker(salt=270850824, workers=1, host=itohara, username=yuto, pid=3221) was stopped. Shutting down Keep-Alive thread\n",
      "2020-02-25 09:44:53,766 INFO luigi-interface : Worker Worker(salt=270850824, workers=1, host=itohara, username=yuto, pid=3221) was stopped. Shutting down Keep-Alive thread\n",
      "INFO: \n",
      "===== Luigi Execution Summary =====\n",
      "\n",
      "Scheduled 1 tasks of which:\n",
      "* 1 complete ones were encountered:\n",
      "    - 1 TuningLGB(...)\n",
      "\n",
      "Did not run any tasks\n",
      "This progress looks :) because there were no failed tasks or missing dependencies\n",
      "\n",
      "===== Luigi Execution Summary =====\n",
      "\n",
      "2020-02-25 09:44:53,769 INFO luigi-interface : \n",
      "===== Luigi Execution Summary =====\n",
      "\n",
      "Scheduled 1 tasks of which:\n",
      "* 1 complete ones were encountered:\n",
      "    - 1 TuningLGB(...)\n",
      "\n",
      "Did not run any tasks\n",
      "This progress looks :) because there were no failed tasks or missing dependencies\n",
      "\n",
      "===== Luigi Execution Summary =====\n",
      "\n"
     ]
    },
    {
     "data": {
      "text/plain": [
       "True"
      ]
     },
     "execution_count": 6,
     "metadata": {},
     "output_type": "execute_result"
    }
   ],
   "source": [
    "luigi.build([TuningLGB()], local_scheduler=True)"
   ]
  },
  {
   "cell_type": "code",
   "execution_count": 7,
   "metadata": {},
   "outputs": [
    {
     "name": "stderr",
     "output_type": "stream",
     "text": [
      "2020-02-25 09:44:57,252 INFO luigi : logging already configured\n",
      "DEBUG: Checking if Predict(random_state=110) is complete\n",
      "2020-02-25 09:44:57,278 DEBUG luigi-interface : Checking if Predict(random_state=110) is complete\n",
      "DEBUG: Checking if Preprocess(use_columns=[], drop_columns=[]) is complete\n",
      "2020-02-25 09:44:57,305 DEBUG luigi-interface : Checking if Preprocess(use_columns=[], drop_columns=[]) is complete\n",
      "DEBUG: Checking if TrainStratifiedKFold(random_state=110, params={\"objective\": \"binary\", \"learning_rate\": 0.01, \"metric\": \"binary\", \"lambda_l1\": 0.0, \"lambda_l2\": 0.0, \"num_leaves\": 3, \"feature_fraction\": 0.7, \"bagging_fraction\": 0.913193379727163, \"bagging_freq\": 6, \"min_child_samples\": 20}, model_type=lgb) is complete\n",
      "2020-02-25 09:44:57,317 DEBUG luigi-interface : Checking if TrainStratifiedKFold(random_state=110, params={\"objective\": \"binary\", \"learning_rate\": 0.01, \"metric\": \"binary\", \"lambda_l1\": 0.0, \"lambda_l2\": 0.0, \"num_leaves\": 3, \"feature_fraction\": 0.7, \"bagging_fraction\": 0.913193379727163, \"bagging_freq\": 6, \"min_child_samples\": 20}, model_type=lgb) is complete\n",
      "INFO: Informed scheduler that task   Predict_110_fadd22deb8   has status   PENDING\n",
      "2020-02-25 09:44:57,321 INFO luigi-interface : Informed scheduler that task   Predict_110_fadd22deb8   has status   PENDING\n",
      "INFO: Informed scheduler that task   TrainStratifiedKFold_lgb___objective____b_110_53a4baf29e   has status   DONE\n",
      "2020-02-25 09:44:57,323 INFO luigi-interface : Informed scheduler that task   TrainStratifiedKFold_lgb___objective____b_110_53a4baf29e   has status   DONE\n",
      "INFO: Informed scheduler that task   Preprocess_______eba3f946ba   has status   DONE\n",
      "2020-02-25 09:44:57,326 INFO luigi-interface : Informed scheduler that task   Preprocess_______eba3f946ba   has status   DONE\n",
      "INFO: Done scheduling tasks\n",
      "2020-02-25 09:44:57,328 INFO luigi-interface : Done scheduling tasks\n",
      "INFO: Running Worker with 1 processes\n",
      "2020-02-25 09:44:57,330 INFO luigi-interface : Running Worker with 1 processes\n",
      "DEBUG: Asking scheduler for work...\n",
      "2020-02-25 09:44:57,332 DEBUG luigi-interface : Asking scheduler for work...\n",
      "DEBUG: Pending tasks: 1\n",
      "2020-02-25 09:44:57,334 DEBUG luigi-interface : Pending tasks: 1\n",
      "INFO: [pid 3221] Worker Worker(salt=516920709, workers=1, host=itohara, username=yuto, pid=3221) running   Predict(random_state=110)\n",
      "2020-02-25 09:44:57,336 INFO luigi-interface : [pid 3221] Worker Worker(salt=516920709, workers=1, host=itohara, username=yuto, pid=3221) running   Predict(random_state=110)\n",
      "2020-02-25 09:44:57,591 INFO gokart.file_processor : writing a file with total_bytes=36...\n",
      "2020-02-25 09:44:57,592 INFO gokart.file_processor : writing bytes [0, 36)\n",
      "2020-02-25 09:44:57,593 INFO gokart.file_processor : done\n"
     ]
    },
    {
     "name": "stdout",
     "output_type": "stream",
     "text": [
      "          target\n",
      "id              \n",
      "600000  0.125486\n",
      "600001  0.269161\n",
      "600002  0.167192\n",
      "600003  0.122503\n",
      "600004  0.137645\n"
     ]
    },
    {
     "name": "stderr",
     "output_type": "stream",
     "text": [
      "2020-02-25 09:49:03,672 INFO gokart.file_processor : writing a file with total_bytes=21...\n",
      "2020-02-25 09:49:03,673 INFO gokart.file_processor : writing bytes [0, 21)\n",
      "2020-02-25 09:49:03,674 INFO gokart.file_processor : done\n",
      "INFO: [pid 3221] Worker Worker(salt=516920709, workers=1, host=itohara, username=yuto, pid=3221) done      Predict(random_state=110)\n",
      "2020-02-25 09:49:03,698 INFO luigi-interface : [pid 3221] Worker Worker(salt=516920709, workers=1, host=itohara, username=yuto, pid=3221) done      Predict(random_state=110)\n",
      "2020-02-25 09:49:03,729 INFO gokart.file_processor : writing a file with total_bytes=334...\n",
      "2020-02-25 09:49:03,730 INFO gokart.file_processor : writing bytes [0, 334)\n",
      "2020-02-25 09:49:03,730 INFO gokart.file_processor : done\n",
      "DEBUG: 1 running tasks, waiting for next task to finish\n",
      "2020-02-25 09:49:03,734 DEBUG luigi-interface : 1 running tasks, waiting for next task to finish\n",
      "INFO: Informed scheduler that task   Predict_110_fadd22deb8   has status   DONE\n",
      "2020-02-25 09:49:03,736 INFO luigi-interface : Informed scheduler that task   Predict_110_fadd22deb8   has status   DONE\n",
      "DEBUG: Asking scheduler for work...\n",
      "2020-02-25 09:49:03,737 DEBUG luigi-interface : Asking scheduler for work...\n",
      "DEBUG: Done\n",
      "2020-02-25 09:49:03,738 DEBUG luigi-interface : Done\n",
      "DEBUG: There are no more tasks to run at this time\n",
      "2020-02-25 09:49:03,740 DEBUG luigi-interface : There are no more tasks to run at this time\n",
      "INFO: Worker Worker(salt=516920709, workers=1, host=itohara, username=yuto, pid=3221) was stopped. Shutting down Keep-Alive thread\n",
      "2020-02-25 09:49:03,741 INFO luigi-interface : Worker Worker(salt=516920709, workers=1, host=itohara, username=yuto, pid=3221) was stopped. Shutting down Keep-Alive thread\n",
      "INFO: \n",
      "===== Luigi Execution Summary =====\n",
      "\n",
      "Scheduled 3 tasks of which:\n",
      "* 2 complete ones were encountered:\n",
      "    - 1 Preprocess(...)\n",
      "    - 1 TrainStratifiedKFold(...)\n",
      "* 1 ran successfully:\n",
      "    - 1 Predict(...)\n",
      "\n",
      "This progress looks :) because there were no failed tasks or missing dependencies\n",
      "\n",
      "===== Luigi Execution Summary =====\n",
      "\n",
      "2020-02-25 09:49:03,744 INFO luigi-interface : \n",
      "===== Luigi Execution Summary =====\n",
      "\n",
      "Scheduled 3 tasks of which:\n",
      "* 2 complete ones were encountered:\n",
      "    - 1 Preprocess(...)\n",
      "    - 1 TrainStratifiedKFold(...)\n",
      "* 1 ran successfully:\n",
      "    - 1 Predict(...)\n",
      "\n",
      "This progress looks :) because there were no failed tasks or missing dependencies\n",
      "\n",
      "===== Luigi Execution Summary =====\n",
      "\n"
     ]
    },
    {
     "data": {
      "text/plain": [
       "True"
      ]
     },
     "execution_count": 7,
     "metadata": {},
     "output_type": "execute_result"
    }
   ],
   "source": [
    "luigi.build([Predict()], local_scheduler=True)"
   ]
  },
  {
   "cell_type": "code",
   "execution_count": null,
   "metadata": {},
   "outputs": [],
   "source": [
    "pd.read_pickle('./resources/scripts/train/tuning/TuningLGB_dc577e07ed4e54ef8fcb48cfa6c831fd.pkl')['best_params']"
   ]
  },
  {
   "cell_type": "code",
   "execution_count": null,
   "metadata": {},
   "outputs": [],
   "source": [
    "luigi.build([GetFeature()], local_scheduler=True)"
   ]
  },
  {
   "cell_type": "code",
   "execution_count": null,
   "metadata": {},
   "outputs": [],
   "source": [
    "luigi.build([Predict()], local_scheduler=True)"
   ]
  },
  {
   "cell_type": "code",
   "execution_count": null,
   "metadata": {},
   "outputs": [],
   "source": []
  }
 ],
 "metadata": {
  "kernelspec": {
   "display_name": "Python 3",
   "language": "python",
   "name": "python3"
  },
  "language_info": {
   "codemirror_mode": {
    "name": "ipython",
    "version": 3
   },
   "file_extension": ".py",
   "mimetype": "text/x-python",
   "name": "python",
   "nbconvert_exporter": "python",
   "pygments_lexer": "ipython3",
   "version": "3.7.6"
  }
 },
 "nbformat": 4,
 "nbformat_minor": 4
}
