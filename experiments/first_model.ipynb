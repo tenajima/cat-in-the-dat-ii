{
 "cells": [
  {
   "cell_type": "code",
   "execution_count": 1,
   "metadata": {},
   "outputs": [],
   "source": [
    "import luigi\n",
    "import pandas as pd\n",
    "from dotenv import load_dotenv\n",
    "\n",
    "from scripts.train.train import TrainStratifiedKFold, Preprocess\n",
    "from scripts.submit.predict import Predict\n",
    "from scripts.feature.get_feature import GetFeature, TargetEncode"
   ]
  },
  {
   "cell_type": "code",
   "execution_count": 2,
   "metadata": {},
   "outputs": [],
   "source": [
    "pd.options.display.max_columns = 100"
   ]
  },
  {
   "cell_type": "code",
   "execution_count": 3,
   "metadata": {},
   "outputs": [],
   "source": [
    "%load_ext autoreload\n",
    "%autoreload 2"
   ]
  },
  {
   "cell_type": "code",
   "execution_count": 4,
   "metadata": {},
   "outputs": [
    {
     "data": {
      "text/plain": [
       "True"
      ]
     },
     "execution_count": 4,
     "metadata": {},
     "output_type": "execute_result"
    }
   ],
   "source": [
    "load_dotenv()"
   ]
  },
  {
   "cell_type": "code",
   "execution_count": 5,
   "metadata": {},
   "outputs": [
    {
     "name": "stderr",
     "output_type": "stream",
     "text": [
      "2020-02-22 21:30:33,145 INFO luigi : logging configured by default settings\n",
      "DEBUG: Checking if GetFeature(features=[]) is complete\n",
      "2020-02-22 21:30:33,150 DEBUG luigi-interface : Checking if GetFeature(features=[]) is complete\n",
      "INFO: Informed scheduler that task   GetFeature____083ddcb1e0   has status   DONE\n",
      "2020-02-22 21:30:33,247 INFO luigi-interface : Informed scheduler that task   GetFeature____083ddcb1e0   has status   DONE\n",
      "INFO: Done scheduling tasks\n",
      "2020-02-22 21:30:33,249 INFO luigi-interface : Done scheduling tasks\n",
      "INFO: Running Worker with 1 processes\n",
      "2020-02-22 21:30:33,252 INFO luigi-interface : Running Worker with 1 processes\n",
      "DEBUG: Asking scheduler for work...\n",
      "2020-02-22 21:30:33,255 DEBUG luigi-interface : Asking scheduler for work...\n",
      "DEBUG: Done\n",
      "2020-02-22 21:30:33,258 DEBUG luigi-interface : Done\n",
      "DEBUG: There are no more tasks to run at this time\n",
      "2020-02-22 21:30:33,261 DEBUG luigi-interface : There are no more tasks to run at this time\n",
      "INFO: Worker Worker(salt=862688439, workers=1, host=tenajimachine.local, username=yuto, pid=87171) was stopped. Shutting down Keep-Alive thread\n",
      "2020-02-22 21:30:33,266 INFO luigi-interface : Worker Worker(salt=862688439, workers=1, host=tenajimachine.local, username=yuto, pid=87171) was stopped. Shutting down Keep-Alive thread\n",
      "INFO: \n",
      "===== Luigi Execution Summary =====\n",
      "\n",
      "Scheduled 1 tasks of which:\n",
      "* 1 complete ones were encountered:\n",
      "    - 1 GetFeature(...)\n",
      "\n",
      "Did not run any tasks\n",
      "This progress looks :) because there were no failed tasks or missing dependencies\n",
      "\n",
      "===== Luigi Execution Summary =====\n",
      "\n",
      "2020-02-22 21:30:33,271 INFO luigi-interface : \n",
      "===== Luigi Execution Summary =====\n",
      "\n",
      "Scheduled 1 tasks of which:\n",
      "* 1 complete ones were encountered:\n",
      "    - 1 GetFeature(...)\n",
      "\n",
      "Did not run any tasks\n",
      "This progress looks :) because there were no failed tasks or missing dependencies\n",
      "\n",
      "===== Luigi Execution Summary =====\n",
      "\n"
     ]
    },
    {
     "data": {
      "text/plain": [
       "True"
      ]
     },
     "execution_count": 5,
     "metadata": {},
     "output_type": "execute_result"
    }
   ],
   "source": [
    "luigi.build([GetFeature()], local_scheduler=True)"
   ]
  },
  {
   "cell_type": "code",
   "execution_count": 6,
   "metadata": {},
   "outputs": [
    {
     "name": "stderr",
     "output_type": "stream",
     "text": [
      "2020-02-22 21:30:33,358 INFO luigi : logging already configured\n",
      "DEBUG: Checking if Predict(random_state=110) is complete\n",
      "2020-02-22 21:30:33,362 DEBUG luigi-interface : Checking if Predict(random_state=110) is complete\n",
      "DEBUG: Checking if Preprocess(use_columns=[], drop_columns=[]) is complete\n",
      "2020-02-22 21:30:33,373 DEBUG luigi-interface : Checking if Preprocess(use_columns=[], drop_columns=[]) is complete\n",
      "DEBUG: Checking if TrainStratifiedKFold(random_state=110, params={\"objective\": \"binary\", \"learning_rates\": 0.1, \"metric\": \"auc\", \"num_leaves\": 32, \"min_data_in_leaf\": 32, \"max_depth\": 8}, model_type=lgb) is complete\n",
      "2020-02-22 21:30:33,378 DEBUG luigi-interface : Checking if TrainStratifiedKFold(random_state=110, params={\"objective\": \"binary\", \"learning_rates\": 0.1, \"metric\": \"auc\", \"num_leaves\": 32, \"min_data_in_leaf\": 32, \"max_depth\": 8}, model_type=lgb) is complete\n",
      "INFO: Informed scheduler that task   Predict_110_fadd22deb8   has status   PENDING\n",
      "2020-02-22 21:30:33,382 INFO luigi-interface : Informed scheduler that task   Predict_110_fadd22deb8   has status   PENDING\n",
      "INFO: Informed scheduler that task   TrainStratifiedKFold_lgb___objective____b_110_c0bffd8ccc   has status   PENDING\n",
      "2020-02-22 21:30:33,388 INFO luigi-interface : Informed scheduler that task   TrainStratifiedKFold_lgb___objective____b_110_c0bffd8ccc   has status   PENDING\n",
      "DEBUG: Checking if GetFold(fold_type=sf, n_splits=5, random_state=110, shuffle=True) is complete\n",
      "2020-02-22 21:30:33,392 DEBUG luigi-interface : Checking if GetFold(fold_type=sf, n_splits=5, random_state=110, shuffle=True) is complete\n",
      "DEBUG: Checking if GetFeature(features=[]) is complete\n",
      "2020-02-22 21:30:33,395 DEBUG luigi-interface : Checking if GetFeature(features=[]) is complete\n",
      "INFO: Informed scheduler that task   Preprocess_______eba3f946ba   has status   PENDING\n",
      "2020-02-22 21:30:33,422 INFO luigi-interface : Informed scheduler that task   Preprocess_______eba3f946ba   has status   PENDING\n",
      "INFO: Informed scheduler that task   GetFeature____083ddcb1e0   has status   DONE\n",
      "2020-02-22 21:30:33,425 INFO luigi-interface : Informed scheduler that task   GetFeature____083ddcb1e0   has status   DONE\n",
      "INFO: Informed scheduler that task   GetFold_sf_5_110_7d7f86b4f4   has status   DONE\n",
      "2020-02-22 21:30:33,429 INFO luigi-interface : Informed scheduler that task   GetFold_sf_5_110_7d7f86b4f4   has status   DONE\n",
      "INFO: Done scheduling tasks\n",
      "2020-02-22 21:30:33,432 INFO luigi-interface : Done scheduling tasks\n",
      "INFO: Running Worker with 1 processes\n",
      "2020-02-22 21:30:33,435 INFO luigi-interface : Running Worker with 1 processes\n",
      "DEBUG: Asking scheduler for work...\n",
      "2020-02-22 21:30:33,439 DEBUG luigi-interface : Asking scheduler for work...\n",
      "DEBUG: Pending tasks: 3\n",
      "2020-02-22 21:30:33,443 DEBUG luigi-interface : Pending tasks: 3\n",
      "INFO: [pid 87171] Worker Worker(salt=132003787, workers=1, host=tenajimachine.local, username=yuto, pid=87171) running   Preprocess(use_columns=[], drop_columns=[])\n",
      "2020-02-22 21:30:33,465 INFO luigi-interface : [pid 87171] Worker Worker(salt=132003787, workers=1, host=tenajimachine.local, username=yuto, pid=87171) running   Preprocess(use_columns=[], drop_columns=[])\n",
      "2020-02-22 21:30:33,478 INFO gokart.file_processor : writing a file with total_bytes=52...\n",
      "2020-02-22 21:30:33,479 INFO gokart.file_processor : writing bytes [0, 52)\n",
      "2020-02-22 21:30:33,480 INFO gokart.file_processor : done\n",
      "2020-02-22 21:30:40,687 INFO gokart.file_processor : writing a file with total_bytes=615612000...\n",
      "2020-02-22 21:30:40,688 INFO gokart.file_processor : writing bytes [0, 615612000)\n",
      "2020-02-22 21:30:41,120 INFO gokart.file_processor : done\n",
      "2020-02-22 21:30:41,289 INFO gokart.file_processor : writing a file with total_bytes=21...\n",
      "2020-02-22 21:30:41,289 INFO gokart.file_processor : writing bytes [0, 21)\n",
      "2020-02-22 21:30:41,290 INFO gokart.file_processor : done\n",
      "INFO: [pid 87171] Worker Worker(salt=132003787, workers=1, host=tenajimachine.local, username=yuto, pid=87171) done      Preprocess(use_columns=[], drop_columns=[])\n",
      "2020-02-22 21:30:41,293 INFO luigi-interface : [pid 87171] Worker Worker(salt=132003787, workers=1, host=tenajimachine.local, username=yuto, pid=87171) done      Preprocess(use_columns=[], drop_columns=[])\n",
      "2020-02-22 21:30:41,297 INFO gokart.file_processor : writing a file with total_bytes=107...\n",
      "2020-02-22 21:30:41,298 INFO gokart.file_processor : writing bytes [0, 107)\n",
      "2020-02-22 21:30:41,300 INFO gokart.file_processor : done\n",
      "DEBUG: 1 running tasks, waiting for next task to finish\n",
      "2020-02-22 21:30:41,302 DEBUG luigi-interface : 1 running tasks, waiting for next task to finish\n",
      "INFO: Informed scheduler that task   Preprocess_______eba3f946ba   has status   DONE\n",
      "2020-02-22 21:30:41,306 INFO luigi-interface : Informed scheduler that task   Preprocess_______eba3f946ba   has status   DONE\n",
      "DEBUG: Asking scheduler for work...\n",
      "2020-02-22 21:30:41,311 DEBUG luigi-interface : Asking scheduler for work...\n",
      "DEBUG: Pending tasks: 2\n",
      "2020-02-22 21:30:41,316 DEBUG luigi-interface : Pending tasks: 2\n",
      "INFO: [pid 87171] Worker Worker(salt=132003787, workers=1, host=tenajimachine.local, username=yuto, pid=87171) running   TrainStratifiedKFold(random_state=110, params={\"objective\": \"binary\", \"learning_rates\": 0.1, \"metric\": \"auc\", \"num_leaves\": 32, \"min_data_in_leaf\": 32, \"max_depth\": 8}, model_type=lgb)\n",
      "2020-02-22 21:30:41,320 INFO luigi-interface : [pid 87171] Worker Worker(salt=132003787, workers=1, host=tenajimachine.local, username=yuto, pid=87171) running   TrainStratifiedKFold(random_state=110, params={\"objective\": \"binary\", \"learning_rates\": 0.1, \"metric\": \"auc\", \"num_leaves\": 32, \"min_data_in_leaf\": 32, \"max_depth\": 8}, model_type=lgb)\n",
      "2020-02-22 21:30:41,329 INFO gokart.file_processor : writing a file with total_bytes=189...\n",
      "2020-02-22 21:30:41,329 INFO gokart.file_processor : writing bytes [0, 189)\n",
      "2020-02-22 21:30:41,331 INFO gokart.file_processor : done\n",
      "2020-02-22 21:30:42,034 INFO scripts.model.model_lightgbm : train 1th model\n"
     ]
    },
    {
     "name": "stdout",
     "output_type": "stream",
     "text": [
      "Training until validation scores don't improve for 100 rounds\n",
      "[100]\ttraining's auc: 0.798118\tvalid_1's auc: 0.783864\n",
      "[200]\ttraining's auc: 0.806773\tvalid_1's auc: 0.784346\n"
     ]
    },
    {
     "name": "stderr",
     "output_type": "stream",
     "text": [
      "2020-02-22 21:31:15,883 INFO scripts.model.model_lightgbm : train 2th model\n"
     ]
    },
    {
     "name": "stdout",
     "output_type": "stream",
     "text": [
      "Early stopping, best iteration is:\n",
      "[141]\ttraining's auc: 0.80189\tvalid_1's auc: 0.784509\n",
      "Training until validation scores don't improve for 100 rounds\n",
      "[100]\ttraining's auc: 0.798073\tvalid_1's auc: 0.78418\n",
      "[200]\ttraining's auc: 0.806542\tvalid_1's auc: 0.784601\n"
     ]
    },
    {
     "name": "stderr",
     "output_type": "stream",
     "text": [
      "2020-02-22 21:31:50,501 INFO scripts.model.model_lightgbm : train 3th model\n"
     ]
    },
    {
     "name": "stdout",
     "output_type": "stream",
     "text": [
      "Early stopping, best iteration is:\n",
      "[156]\ttraining's auc: 0.802944\tvalid_1's auc: 0.784769\n",
      "Training until validation scores don't improve for 100 rounds\n",
      "[100]\ttraining's auc: 0.798018\tvalid_1's auc: 0.783733\n",
      "[200]\ttraining's auc: 0.806552\tvalid_1's auc: 0.78462\n"
     ]
    },
    {
     "name": "stderr",
     "output_type": "stream",
     "text": [
      "2020-02-22 21:32:27,856 INFO scripts.model.model_lightgbm : train 4th model\n"
     ]
    },
    {
     "name": "stdout",
     "output_type": "stream",
     "text": [
      "Early stopping, best iteration is:\n",
      "[181]\ttraining's auc: 0.805006\tvalid_1's auc: 0.784705\n",
      "Training until validation scores don't improve for 100 rounds\n",
      "[100]\ttraining's auc: 0.79873\tvalid_1's auc: 0.781322\n",
      "[200]\ttraining's auc: 0.807036\tvalid_1's auc: 0.78212\n"
     ]
    },
    {
     "name": "stderr",
     "output_type": "stream",
     "text": [
      "2020-02-22 21:33:04,095 INFO scripts.model.model_lightgbm : train 5th model\n"
     ]
    },
    {
     "name": "stdout",
     "output_type": "stream",
     "text": [
      "Early stopping, best iteration is:\n",
      "[164]\ttraining's auc: 0.804149\tvalid_1's auc: 0.782198\n",
      "Training until validation scores don't improve for 100 rounds\n",
      "[100]\ttraining's auc: 0.79779\tvalid_1's auc: 0.785009\n",
      "[200]\ttraining's auc: 0.806212\tvalid_1's auc: 0.785711\n"
     ]
    },
    {
     "name": "stderr",
     "output_type": "stream",
     "text": [
      "2020-02-22 21:33:39,161 INFO scripts.utils : delete ./tmp_model_1_fold.pkl ...\n",
      "2020-02-22 21:33:39,162 INFO scripts.utils : delete ./tmp_model_4_fold.pkl ...\n",
      "2020-02-22 21:33:39,163 INFO scripts.utils : delete ./tmp_model_5_fold.pkl ...\n",
      "2020-02-22 21:33:39,166 INFO scripts.utils : delete ./tmp_model_3_fold.pkl ...\n",
      "2020-02-22 21:33:39,169 INFO scripts.utils : delete ./tmp_model_2_fold.pkl ...\n",
      "2020-02-22 21:33:39,270 INFO gokart.file_processor : writing a file with total_bytes=2988963...\n",
      "2020-02-22 21:33:39,270 INFO gokart.file_processor : writing bytes [0, 2988963)\n",
      "2020-02-22 21:33:39,272 INFO gokart.file_processor : done\n"
     ]
    },
    {
     "name": "stdout",
     "output_type": "stream",
     "text": [
      "Early stopping, best iteration is:\n",
      "[158]\ttraining's auc: 0.802878\tvalid_1's auc: 0.785827\n"
     ]
    },
    {
     "name": "stderr",
     "output_type": "stream",
     "text": [
      "2020-02-22 21:33:39,350 INFO gokart.file_processor : writing a file with total_bytes=21...\n",
      "2020-02-22 21:33:39,353 INFO gokart.file_processor : writing bytes [0, 21)\n",
      "2020-02-22 21:33:39,353 INFO gokart.file_processor : done\n",
      "INFO: [pid 87171] Worker Worker(salt=132003787, workers=1, host=tenajimachine.local, username=yuto, pid=87171) done      TrainStratifiedKFold(random_state=110, params={\"objective\": \"binary\", \"learning_rates\": 0.1, \"metric\": \"auc\", \"num_leaves\": 32, \"min_data_in_leaf\": 32, \"max_depth\": 8}, model_type=lgb)\n",
      "2020-02-22 21:33:39,356 INFO luigi-interface : [pid 87171] Worker Worker(salt=132003787, workers=1, host=tenajimachine.local, username=yuto, pid=87171) done      TrainStratifiedKFold(random_state=110, params={\"objective\": \"binary\", \"learning_rates\": 0.1, \"metric\": \"auc\", \"num_leaves\": 32, \"min_data_in_leaf\": 32, \"max_depth\": 8}, model_type=lgb)\n",
      "2020-02-22 21:33:39,360 INFO gokart.file_processor : writing a file with total_bytes=96...\n",
      "2020-02-22 21:33:39,361 INFO gokart.file_processor : writing bytes [0, 96)\n",
      "2020-02-22 21:33:39,363 INFO gokart.file_processor : done\n",
      "DEBUG: 1 running tasks, waiting for next task to finish\n",
      "2020-02-22 21:33:39,365 DEBUG luigi-interface : 1 running tasks, waiting for next task to finish\n",
      "INFO: Informed scheduler that task   TrainStratifiedKFold_lgb___objective____b_110_c0bffd8ccc   has status   DONE\n",
      "2020-02-22 21:33:39,373 INFO luigi-interface : Informed scheduler that task   TrainStratifiedKFold_lgb___objective____b_110_c0bffd8ccc   has status   DONE\n",
      "DEBUG: Asking scheduler for work...\n",
      "2020-02-22 21:33:39,377 DEBUG luigi-interface : Asking scheduler for work...\n",
      "DEBUG: Pending tasks: 1\n",
      "2020-02-22 21:33:39,380 DEBUG luigi-interface : Pending tasks: 1\n",
      "INFO: [pid 87171] Worker Worker(salt=132003787, workers=1, host=tenajimachine.local, username=yuto, pid=87171) running   Predict(random_state=110)\n",
      "2020-02-22 21:33:39,383 INFO luigi-interface : [pid 87171] Worker Worker(salt=132003787, workers=1, host=tenajimachine.local, username=yuto, pid=87171) running   Predict(random_state=110)\n",
      "2020-02-22 21:33:39,388 INFO gokart.file_processor : writing a file with total_bytes=36...\n",
      "2020-02-22 21:33:39,389 INFO gokart.file_processor : writing bytes [0, 36)\n",
      "2020-02-22 21:33:39,391 INFO gokart.file_processor : done\n"
     ]
    },
    {
     "name": "stdout",
     "output_type": "stream",
     "text": [
      "          target\n",
      "id              \n",
      "600000  0.129381\n",
      "600001  0.300366\n",
      "600002  0.177418\n",
      "600003  0.137567\n",
      "600004  0.145152\n"
     ]
    },
    {
     "name": "stderr",
     "output_type": "stream",
     "text": [
      "2020-02-22 21:34:08,501 INFO gokart.file_processor : writing a file with total_bytes=21...\n",
      "2020-02-22 21:34:08,502 INFO gokart.file_processor : writing bytes [0, 21)\n",
      "2020-02-22 21:34:08,503 INFO gokart.file_processor : done\n",
      "INFO: [pid 87171] Worker Worker(salt=132003787, workers=1, host=tenajimachine.local, username=yuto, pid=87171) done      Predict(random_state=110)\n",
      "2020-02-22 21:34:08,504 INFO luigi-interface : [pid 87171] Worker Worker(salt=132003787, workers=1, host=tenajimachine.local, username=yuto, pid=87171) done      Predict(random_state=110)\n",
      "2020-02-22 21:34:08,510 INFO gokart.file_processor : writing a file with total_bytes=334...\n",
      "2020-02-22 21:34:08,512 INFO gokart.file_processor : writing bytes [0, 334)\n",
      "2020-02-22 21:34:08,513 INFO gokart.file_processor : done\n",
      "DEBUG: 1 running tasks, waiting for next task to finish\n",
      "2020-02-22 21:34:08,515 DEBUG luigi-interface : 1 running tasks, waiting for next task to finish\n",
      "INFO: Informed scheduler that task   Predict_110_fadd22deb8   has status   DONE\n",
      "2020-02-22 21:34:08,520 INFO luigi-interface : Informed scheduler that task   Predict_110_fadd22deb8   has status   DONE\n",
      "DEBUG: Asking scheduler for work...\n",
      "2020-02-22 21:34:08,526 DEBUG luigi-interface : Asking scheduler for work...\n",
      "DEBUG: Done\n",
      "2020-02-22 21:34:08,531 DEBUG luigi-interface : Done\n",
      "DEBUG: There are no more tasks to run at this time\n",
      "2020-02-22 21:34:08,533 DEBUG luigi-interface : There are no more tasks to run at this time\n",
      "INFO: Worker Worker(salt=132003787, workers=1, host=tenajimachine.local, username=yuto, pid=87171) was stopped. Shutting down Keep-Alive thread\n",
      "2020-02-22 21:34:08,536 INFO luigi-interface : Worker Worker(salt=132003787, workers=1, host=tenajimachine.local, username=yuto, pid=87171) was stopped. Shutting down Keep-Alive thread\n",
      "INFO: \n",
      "===== Luigi Execution Summary =====\n",
      "\n",
      "Scheduled 5 tasks of which:\n",
      "* 2 complete ones were encountered:\n",
      "    - 1 GetFeature(...)\n",
      "    - 1 GetFold(...)\n",
      "* 3 ran successfully:\n",
      "    - 1 Predict(...)\n",
      "    - 1 Preprocess(...)\n",
      "    - 1 TrainStratifiedKFold(...)\n",
      "\n",
      "This progress looks :) because there were no failed tasks or missing dependencies\n",
      "\n",
      "===== Luigi Execution Summary =====\n",
      "\n",
      "2020-02-22 21:34:08,541 INFO luigi-interface : \n",
      "===== Luigi Execution Summary =====\n",
      "\n",
      "Scheduled 5 tasks of which:\n",
      "* 2 complete ones were encountered:\n",
      "    - 1 GetFeature(...)\n",
      "    - 1 GetFold(...)\n",
      "* 3 ran successfully:\n",
      "    - 1 Predict(...)\n",
      "    - 1 Preprocess(...)\n",
      "    - 1 TrainStratifiedKFold(...)\n",
      "\n",
      "This progress looks :) because there were no failed tasks or missing dependencies\n",
      "\n",
      "===== Luigi Execution Summary =====\n",
      "\n"
     ]
    },
    {
     "data": {
      "text/plain": [
       "True"
      ]
     },
     "execution_count": 6,
     "metadata": {},
     "output_type": "execute_result"
    }
   ],
   "source": [
    "luigi.build([Predict()], local_scheduler=True)"
   ]
  },
  {
   "cell_type": "code",
   "execution_count": null,
   "metadata": {},
   "outputs": [],
   "source": [
    "data = pd.read_pickle('./resources/train/preprocessed_data_67599fa94395b33b7170624bc3fa22bf.pkl')"
   ]
  },
  {
   "cell_type": "code",
   "execution_count": null,
   "metadata": {},
   "outputs": [],
   "source": [
    "data.train_X"
   ]
  },
  {
   "cell_type": "code",
   "execution_count": null,
   "metadata": {},
   "outputs": [],
   "source": [
    "dataset = pd.read_pickle('./resources/scripts/feature/dataset/GetDataSet_db2de80f802c5ad0c20bace84dadb5bc.pkl').set_index('id')"
   ]
  },
  {
   "cell_type": "code",
   "execution_count": null,
   "metadata": {},
   "outputs": [],
   "source": [
    "dataset = dataset.convert_dtypes()"
   ]
  },
  {
   "cell_type": "code",
   "execution_count": null,
   "metadata": {},
   "outputs": [],
   "source": [
    "dataset.head(20)"
   ]
  },
  {
   "cell_type": "code",
   "execution_count": null,
   "metadata": {},
   "outputs": [],
   "source": [
    "dataset.columns"
   ]
  },
  {
   "cell_type": "code",
   "execution_count": null,
   "metadata": {},
   "outputs": [],
   "source": [
    "import category_encoders as ce"
   ]
  },
  {
   "cell_type": "code",
   "execution_count": null,
   "metadata": {},
   "outputs": [],
   "source": [
    "encoder = ce.TargetEncoder(cols='bin_0', smoothing=0)"
   ]
  },
  {
   "cell_type": "code",
   "execution_count": null,
   "metadata": {},
   "outputs": [],
   "source": [
    "trn_idx = [1, 8, 9, 10]\n",
    "val_idx = [15, 16, 17, 18, 19, 20]"
   ]
  },
  {
   "cell_type": "code",
   "execution_count": null,
   "metadata": {},
   "outputs": [],
   "source": [
    "encoder.fit(dataset.iloc[trn_idx], dataset['target'].iloc[trn_idx])"
   ]
  },
  {
   "cell_type": "code",
   "execution_count": null,
   "metadata": {},
   "outputs": [],
   "source": [
    "encoder.transform(dataset.iloc[val_idx])"
   ]
  },
  {
   "cell_type": "code",
   "execution_count": null,
   "metadata": {},
   "outputs": [],
   "source": []
  },
  {
   "cell_type": "code",
   "execution_count": null,
   "metadata": {},
   "outputs": [],
   "source": [
    "hoge = pd.read_pickle('./resources/scripts/feature/get_feature/TargetEncode_0a0d328f666ed2fa84ee274de168fe8c.pkl')"
   ]
  },
  {
   "cell_type": "code",
   "execution_count": null,
   "metadata": {},
   "outputs": [],
   "source": [
    "hoge"
   ]
  },
  {
   "cell_type": "code",
   "execution_count": null,
   "metadata": {},
   "outputs": [],
   "source": []
  }
 ],
 "metadata": {
  "kernelspec": {
   "display_name": "Python 3",
   "language": "python",
   "name": "python3"
  },
  "language_info": {
   "codemirror_mode": {
    "name": "ipython",
    "version": 3
   },
   "file_extension": ".py",
   "mimetype": "text/x-python",
   "name": "python",
   "nbconvert_exporter": "python",
   "pygments_lexer": "ipython3",
   "version": "3.7.6"
  }
 },
 "nbformat": 4,
 "nbformat_minor": 4
}
