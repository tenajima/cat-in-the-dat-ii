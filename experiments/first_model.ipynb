{
 "cells": [
  {
   "cell_type": "code",
   "execution_count": 1,
   "metadata": {},
   "outputs": [],
   "source": [
    "import luigi\n",
    "import pandas as pd\n",
    "from dotenv import load_dotenv\n",
    "\n",
    "from scripts.train.train import TrainStratifiedKFold, Preprocess\n",
    "from scripts.submit.predict import Predict\n",
    "from scripts.feature.get_feature import GetFeature, TargetEncode"
   ]
  },
  {
   "cell_type": "code",
   "execution_count": 2,
   "metadata": {},
   "outputs": [],
   "source": [
    "pd.options.display.max_columns = 100"
   ]
  },
  {
   "cell_type": "code",
   "execution_count": 3,
   "metadata": {},
   "outputs": [],
   "source": [
    "%load_ext autoreload\n",
    "%autoreload 2"
   ]
  },
  {
   "cell_type": "code",
   "execution_count": 4,
   "metadata": {},
   "outputs": [
    {
     "data": {
      "text/plain": [
       "True"
      ]
     },
     "execution_count": 4,
     "metadata": {},
     "output_type": "execute_result"
    }
   ],
   "source": [
    "load_dotenv()"
   ]
  },
  {
   "cell_type": "code",
   "execution_count": 5,
   "metadata": {},
   "outputs": [
    {
     "name": "stderr",
     "output_type": "stream",
     "text": [
      "2020-02-22 21:50:28,820 INFO luigi : logging configured by default settings\n",
      "DEBUG: Checking if GetFeature(features=[]) is complete\n",
      "2020-02-22 21:50:28,826 DEBUG luigi-interface : Checking if GetFeature(features=[]) is complete\n",
      "DEBUG: Checking if Target() is complete\n",
      "2020-02-22 21:50:28,965 DEBUG luigi-interface : Checking if Target() is complete\n",
      "DEBUG: Checking if Bin0() is complete\n",
      "2020-02-22 21:50:28,967 DEBUG luigi-interface : Checking if Bin0() is complete\n",
      "DEBUG: Checking if Bin1() is complete\n",
      "2020-02-22 21:50:28,974 DEBUG luigi-interface : Checking if Bin1() is complete\n",
      "DEBUG: Checking if Bin2() is complete\n",
      "2020-02-22 21:50:28,978 DEBUG luigi-interface : Checking if Bin2() is complete\n",
      "DEBUG: Checking if Bin3() is complete\n",
      "2020-02-22 21:50:28,991 DEBUG luigi-interface : Checking if Bin3() is complete\n",
      "DEBUG: Checking if Bin4() is complete\n",
      "2020-02-22 21:50:29,000 DEBUG luigi-interface : Checking if Bin4() is complete\n",
      "DEBUG: Checking if Ord0() is complete\n",
      "2020-02-22 21:50:29,030 DEBUG luigi-interface : Checking if Ord0() is complete\n",
      "DEBUG: Checking if Ord1() is complete\n",
      "2020-02-22 21:50:29,041 DEBUG luigi-interface : Checking if Ord1() is complete\n",
      "DEBUG: Checking if Ord2() is complete\n",
      "2020-02-22 21:50:29,069 DEBUG luigi-interface : Checking if Ord2() is complete\n",
      "DEBUG: Checking if Ord3() is complete\n",
      "2020-02-22 21:50:29,089 DEBUG luigi-interface : Checking if Ord3() is complete\n",
      "DEBUG: Checking if Ord4() is complete\n",
      "2020-02-22 21:50:29,112 DEBUG luigi-interface : Checking if Ord4() is complete\n",
      "DEBUG: Checking if Ord5() is complete\n",
      "2020-02-22 21:50:29,119 DEBUG luigi-interface : Checking if Ord5() is complete\n",
      "DEBUG: Checking if DaySinCos() is complete\n",
      "2020-02-22 21:50:29,131 DEBUG luigi-interface : Checking if DaySinCos() is complete\n",
      "DEBUG: Checking if MonthSinCos() is complete\n",
      "2020-02-22 21:50:29,139 DEBUG luigi-interface : Checking if MonthSinCos() is complete\n",
      "DEBUG: Checking if OHEBin0() is complete\n",
      "2020-02-22 21:50:29,145 DEBUG luigi-interface : Checking if OHEBin0() is complete\n",
      "DEBUG: Checking if OHEBin1() is complete\n",
      "2020-02-22 21:50:29,156 DEBUG luigi-interface : Checking if OHEBin1() is complete\n",
      "DEBUG: Checking if OHEBin2() is complete\n",
      "2020-02-22 21:50:29,165 DEBUG luigi-interface : Checking if OHEBin2() is complete\n",
      "DEBUG: Checking if OHEBin3() is complete\n",
      "2020-02-22 21:50:29,170 DEBUG luigi-interface : Checking if OHEBin3() is complete\n",
      "DEBUG: Checking if OHEBin4() is complete\n",
      "2020-02-22 21:50:29,180 DEBUG luigi-interface : Checking if OHEBin4() is complete\n",
      "DEBUG: Checking if OHEOrd0() is complete\n",
      "2020-02-22 21:50:29,202 DEBUG luigi-interface : Checking if OHEOrd0() is complete\n",
      "DEBUG: Checking if OHEOrd1() is complete\n",
      "2020-02-22 21:50:29,212 DEBUG luigi-interface : Checking if OHEOrd1() is complete\n",
      "DEBUG: Checking if OHEOrd2() is complete\n",
      "2020-02-22 21:50:29,218 DEBUG luigi-interface : Checking if OHEOrd2() is complete\n",
      "DEBUG: Checking if OHEOrd3() is complete\n",
      "2020-02-22 21:50:29,223 DEBUG luigi-interface : Checking if OHEOrd3() is complete\n",
      "DEBUG: Checking if OHEOrd4() is complete\n",
      "2020-02-22 21:50:29,235 DEBUG luigi-interface : Checking if OHEOrd4() is complete\n",
      "DEBUG: Checking if OHEOrd5() is complete\n",
      "2020-02-22 21:50:29,243 DEBUG luigi-interface : Checking if OHEOrd5() is complete\n",
      "DEBUG: Checking if Nom0() is complete\n",
      "2020-02-22 21:50:29,256 DEBUG luigi-interface : Checking if Nom0() is complete\n",
      "DEBUG: Checking if Nom1() is complete\n",
      "2020-02-22 21:50:29,264 DEBUG luigi-interface : Checking if Nom1() is complete\n",
      "DEBUG: Checking if Nom2() is complete\n",
      "2020-02-22 21:50:29,269 DEBUG luigi-interface : Checking if Nom2() is complete\n",
      "DEBUG: Checking if Nom3() is complete\n",
      "2020-02-22 21:50:29,276 DEBUG luigi-interface : Checking if Nom3() is complete\n",
      "DEBUG: Checking if Nom4() is complete\n",
      "2020-02-22 21:50:29,281 DEBUG luigi-interface : Checking if Nom4() is complete\n",
      "DEBUG: Checking if CENom1() is complete\n",
      "2020-02-22 21:50:29,288 DEBUG luigi-interface : Checking if CENom1() is complete\n",
      "DEBUG: Checking if CENom2() is complete\n",
      "2020-02-22 21:50:29,294 DEBUG luigi-interface : Checking if CENom2() is complete\n",
      "DEBUG: Checking if CENom3() is complete\n",
      "2020-02-22 21:50:29,304 DEBUG luigi-interface : Checking if CENom3() is complete\n",
      "DEBUG: Checking if CENom4() is complete\n",
      "2020-02-22 21:50:29,309 DEBUG luigi-interface : Checking if CENom4() is complete\n",
      "DEBUG: Checking if CENom5() is complete\n",
      "2020-02-22 21:50:29,313 DEBUG luigi-interface : Checking if CENom5() is complete\n",
      "DEBUG: Checking if CENom6() is complete\n",
      "2020-02-22 21:50:29,318 DEBUG luigi-interface : Checking if CENom6() is complete\n",
      "DEBUG: Checking if CENom7() is complete\n",
      "2020-02-22 21:50:29,323 DEBUG luigi-interface : Checking if CENom7() is complete\n",
      "DEBUG: Checking if CENom8() is complete\n",
      "2020-02-22 21:50:29,327 DEBUG luigi-interface : Checking if CENom8() is complete\n",
      "DEBUG: Checking if CENom9() is complete\n",
      "2020-02-22 21:50:29,331 DEBUG luigi-interface : Checking if CENom9() is complete\n",
      "DEBUG: Checking if TargetEncode(target_columns=bin_0,bin_1,bin_2,bin_3,bin_4,nom_0,nom_1,nom_2,nom_3,nom_4,nom_5,nom_6,nom_7,nom_8,nom_9,ord_0,ord_1,ord_2,ord_3,ord_4,ord_5,day,month, smoothing=0.2) is complete\n",
      "2020-02-22 21:50:29,337 DEBUG luigi-interface : Checking if TargetEncode(target_columns=bin_0,bin_1,bin_2,bin_3,bin_4,nom_0,nom_1,nom_2,nom_3,nom_4,nom_5,nom_6,nom_7,nom_8,nom_9,ord_0,ord_1,ord_2,ord_3,ord_4,ord_5,day,month, smoothing=0.2) is complete\n",
      "DEBUG: Checking if CatBoostEncode(target_columns=bin_0,bin_1,bin_2,bin_3,bin_4,nom_0,nom_1,nom_2,nom_3,nom_4,nom_5,nom_6,nom_7,nom_8,nom_9,ord_0,ord_1,ord_2,ord_3,ord_4,ord_5,day,month) is complete\n",
      "2020-02-22 21:50:29,341 DEBUG luigi-interface : Checking if CatBoostEncode(target_columns=bin_0,bin_1,bin_2,bin_3,bin_4,nom_0,nom_1,nom_2,nom_3,nom_4,nom_5,nom_6,nom_7,nom_8,nom_9,ord_0,ord_1,ord_2,ord_3,ord_4,ord_5,day,month) is complete\n",
      "DEBUG: Checking if JamesSteinEncode(target_columns=bin_0,bin_1,bin_2,bin_3,bin_4,nom_0,nom_1,nom_2,nom_3,nom_4,nom_5,nom_6,nom_7,nom_8,nom_9,ord_0,ord_1,ord_2,ord_3,ord_4,ord_5,day,month) is complete\n",
      "2020-02-22 21:50:29,345 DEBUG luigi-interface : Checking if JamesSteinEncode(target_columns=bin_0,bin_1,bin_2,bin_3,bin_4,nom_0,nom_1,nom_2,nom_3,nom_4,nom_5,nom_6,nom_7,nom_8,nom_9,ord_0,ord_1,ord_2,ord_3,ord_4,ord_5,day,month) is complete\n",
      "DEBUG: Checking if MEstimateEncoder(target_columns=bin_0,bin_1,bin_2,bin_3,bin_4,nom_0,nom_1,nom_2,nom_3,nom_4,nom_5,nom_6,nom_7,nom_8,nom_9,ord_0,ord_1,ord_2,ord_3,ord_4,ord_5,day,month) is complete\n",
      "2020-02-22 21:50:29,350 DEBUG luigi-interface : Checking if MEstimateEncoder(target_columns=bin_0,bin_1,bin_2,bin_3,bin_4,nom_0,nom_1,nom_2,nom_3,nom_4,nom_5,nom_6,nom_7,nom_8,nom_9,ord_0,ord_1,ord_2,ord_3,ord_4,ord_5,day,month) is complete\n",
      "DEBUG: Checking if WOEEncoder(target_columns=bin_0,bin_1,bin_2,bin_3,bin_4,nom_0,nom_1,nom_2,nom_3,nom_4,nom_5,nom_6,nom_7,nom_8,nom_9,ord_0,ord_1,ord_2,ord_3,ord_4,ord_5,day,month) is complete\n",
      "2020-02-22 21:50:29,356 DEBUG luigi-interface : Checking if WOEEncoder(target_columns=bin_0,bin_1,bin_2,bin_3,bin_4,nom_0,nom_1,nom_2,nom_3,nom_4,nom_5,nom_6,nom_7,nom_8,nom_9,ord_0,ord_1,ord_2,ord_3,ord_4,ord_5,day,month) is complete\n",
      "INFO: Informed scheduler that task   GetFeature____083ddcb1e0   has status   PENDING\n",
      "2020-02-22 21:50:29,362 INFO luigi-interface : Informed scheduler that task   GetFeature____083ddcb1e0   has status   PENDING\n",
      "DEBUG: Checking if GetDataSet(nrows=0, random_state=110) is complete\n",
      "2020-02-22 21:50:29,369 DEBUG luigi-interface : Checking if GetDataSet(nrows=0, random_state=110) is complete\n",
      "DEBUG: Checking if GetFold(fold_type=sf, n_splits=5, random_state=110, shuffle=True) is complete\n",
      "2020-02-22 21:50:29,372 DEBUG luigi-interface : Checking if GetFold(fold_type=sf, n_splits=5, random_state=110, shuffle=True) is complete\n",
      "INFO: Informed scheduler that task   WOEEncoder_bin_0_bin_1_bin__038ed69825   has status   PENDING\n",
      "2020-02-22 21:50:29,377 INFO luigi-interface : Informed scheduler that task   WOEEncoder_bin_0_bin_1_bin__038ed69825   has status   PENDING\n",
      "INFO: Informed scheduler that task   GetFold_sf_5_110_7d7f86b4f4   has status   DONE\n",
      "2020-02-22 21:50:29,381 INFO luigi-interface : Informed scheduler that task   GetFold_sf_5_110_7d7f86b4f4   has status   DONE\n",
      "INFO: Informed scheduler that task   GetDataSet_0_110_06f4dc0e20   has status   DONE\n",
      "2020-02-22 21:50:29,385 INFO luigi-interface : Informed scheduler that task   GetDataSet_0_110_06f4dc0e20   has status   DONE\n",
      "INFO: Informed scheduler that task   MEstimateEncoder_bin_0_bin_1_bin__038ed69825   has status   PENDING\n",
      "2020-02-22 21:50:29,400 INFO luigi-interface : Informed scheduler that task   MEstimateEncoder_bin_0_bin_1_bin__038ed69825   has status   PENDING\n",
      "INFO: Informed scheduler that task   JamesSteinEncode_bin_0_bin_1_bin__038ed69825   has status   PENDING\n",
      "2020-02-22 21:50:29,416 INFO luigi-interface : Informed scheduler that task   JamesSteinEncode_bin_0_bin_1_bin__038ed69825   has status   PENDING\n",
      "INFO: Informed scheduler that task   CatBoostEncode_bin_0_bin_1_bin__038ed69825   has status   PENDING\n",
      "2020-02-22 21:50:29,426 INFO luigi-interface : Informed scheduler that task   CatBoostEncode_bin_0_bin_1_bin__038ed69825   has status   PENDING\n",
      "INFO: Informed scheduler that task   TargetEncode_0_2_bin_0_bin_1_bin__c9f7d0de90   has status   DONE\n",
      "2020-02-22 21:50:29,433 INFO luigi-interface : Informed scheduler that task   TargetEncode_0_2_bin_0_bin_1_bin__c9f7d0de90   has status   DONE\n",
      "INFO: Informed scheduler that task   CENom9__99914b932b   has status   DONE\n",
      "2020-02-22 21:50:29,447 INFO luigi-interface : Informed scheduler that task   CENom9__99914b932b   has status   DONE\n",
      "INFO: Informed scheduler that task   CENom8__99914b932b   has status   DONE\n",
      "2020-02-22 21:50:29,451 INFO luigi-interface : Informed scheduler that task   CENom8__99914b932b   has status   DONE\n",
      "INFO: Informed scheduler that task   CENom7__99914b932b   has status   DONE\n",
      "2020-02-22 21:50:29,463 INFO luigi-interface : Informed scheduler that task   CENom7__99914b932b   has status   DONE\n",
      "INFO: Informed scheduler that task   CENom6__99914b932b   has status   DONE\n",
      "2020-02-22 21:50:29,473 INFO luigi-interface : Informed scheduler that task   CENom6__99914b932b   has status   DONE\n",
      "INFO: Informed scheduler that task   CENom5__99914b932b   has status   DONE\n",
      "2020-02-22 21:50:29,488 INFO luigi-interface : Informed scheduler that task   CENom5__99914b932b   has status   DONE\n",
      "INFO: Informed scheduler that task   CENom4__99914b932b   has status   DONE\n",
      "2020-02-22 21:50:29,497 INFO luigi-interface : Informed scheduler that task   CENom4__99914b932b   has status   DONE\n",
      "INFO: Informed scheduler that task   CENom3__99914b932b   has status   DONE\n",
      "2020-02-22 21:50:29,502 INFO luigi-interface : Informed scheduler that task   CENom3__99914b932b   has status   DONE\n",
      "INFO: Informed scheduler that task   CENom2__99914b932b   has status   DONE\n",
      "2020-02-22 21:50:29,507 INFO luigi-interface : Informed scheduler that task   CENom2__99914b932b   has status   DONE\n",
      "INFO: Informed scheduler that task   CENom1__99914b932b   has status   DONE\n",
      "2020-02-22 21:50:29,510 INFO luigi-interface : Informed scheduler that task   CENom1__99914b932b   has status   DONE\n",
      "INFO: Informed scheduler that task   Nom4__99914b932b   has status   DONE\n",
      "2020-02-22 21:50:29,513 INFO luigi-interface : Informed scheduler that task   Nom4__99914b932b   has status   DONE\n",
      "INFO: Informed scheduler that task   Nom3__99914b932b   has status   DONE\n",
      "2020-02-22 21:50:29,516 INFO luigi-interface : Informed scheduler that task   Nom3__99914b932b   has status   DONE\n",
      "INFO: Informed scheduler that task   Nom2__99914b932b   has status   DONE\n",
      "2020-02-22 21:50:29,519 INFO luigi-interface : Informed scheduler that task   Nom2__99914b932b   has status   DONE\n",
      "INFO: Informed scheduler that task   Nom1__99914b932b   has status   DONE\n",
      "2020-02-22 21:50:29,524 INFO luigi-interface : Informed scheduler that task   Nom1__99914b932b   has status   DONE\n",
      "INFO: Informed scheduler that task   Nom0__99914b932b   has status   DONE\n",
      "2020-02-22 21:50:29,531 INFO luigi-interface : Informed scheduler that task   Nom0__99914b932b   has status   DONE\n",
      "INFO: Informed scheduler that task   OHEOrd5__99914b932b   has status   DONE\n",
      "2020-02-22 21:50:29,535 INFO luigi-interface : Informed scheduler that task   OHEOrd5__99914b932b   has status   DONE\n",
      "INFO: Informed scheduler that task   OHEOrd4__99914b932b   has status   DONE\n",
      "2020-02-22 21:50:29,544 INFO luigi-interface : Informed scheduler that task   OHEOrd4__99914b932b   has status   DONE\n",
      "INFO: Informed scheduler that task   OHEOrd3__99914b932b   has status   DONE\n",
      "2020-02-22 21:50:29,546 INFO luigi-interface : Informed scheduler that task   OHEOrd3__99914b932b   has status   DONE\n",
      "INFO: Informed scheduler that task   OHEOrd2__99914b932b   has status   DONE\n",
      "2020-02-22 21:50:29,553 INFO luigi-interface : Informed scheduler that task   OHEOrd2__99914b932b   has status   DONE\n",
      "INFO: Informed scheduler that task   OHEOrd1__99914b932b   has status   DONE\n",
      "2020-02-22 21:50:29,560 INFO luigi-interface : Informed scheduler that task   OHEOrd1__99914b932b   has status   DONE\n",
      "INFO: Informed scheduler that task   OHEOrd0__99914b932b   has status   DONE\n",
      "2020-02-22 21:50:29,566 INFO luigi-interface : Informed scheduler that task   OHEOrd0__99914b932b   has status   DONE\n",
      "INFO: Informed scheduler that task   OHEBin4__99914b932b   has status   DONE\n",
      "2020-02-22 21:50:29,578 INFO luigi-interface : Informed scheduler that task   OHEBin4__99914b932b   has status   DONE\n",
      "INFO: Informed scheduler that task   OHEBin3__99914b932b   has status   DONE\n",
      "2020-02-22 21:50:29,592 INFO luigi-interface : Informed scheduler that task   OHEBin3__99914b932b   has status   DONE\n",
      "INFO: Informed scheduler that task   OHEBin2__99914b932b   has status   DONE\n",
      "2020-02-22 21:50:29,607 INFO luigi-interface : Informed scheduler that task   OHEBin2__99914b932b   has status   DONE\n",
      "INFO: Informed scheduler that task   OHEBin1__99914b932b   has status   DONE\n",
      "2020-02-22 21:50:29,611 INFO luigi-interface : Informed scheduler that task   OHEBin1__99914b932b   has status   DONE\n",
      "INFO: Informed scheduler that task   OHEBin0__99914b932b   has status   DONE\n",
      "2020-02-22 21:50:29,615 INFO luigi-interface : Informed scheduler that task   OHEBin0__99914b932b   has status   DONE\n",
      "INFO: Informed scheduler that task   MonthSinCos__99914b932b   has status   DONE\n",
      "2020-02-22 21:50:29,622 INFO luigi-interface : Informed scheduler that task   MonthSinCos__99914b932b   has status   DONE\n",
      "INFO: Informed scheduler that task   DaySinCos__99914b932b   has status   DONE\n",
      "2020-02-22 21:50:29,626 INFO luigi-interface : Informed scheduler that task   DaySinCos__99914b932b   has status   DONE\n",
      "INFO: Informed scheduler that task   Ord5__99914b932b   has status   DONE\n",
      "2020-02-22 21:50:29,629 INFO luigi-interface : Informed scheduler that task   Ord5__99914b932b   has status   DONE\n",
      "INFO: Informed scheduler that task   Ord4__99914b932b   has status   DONE\n",
      "2020-02-22 21:50:29,644 INFO luigi-interface : Informed scheduler that task   Ord4__99914b932b   has status   DONE\n",
      "INFO: Informed scheduler that task   Ord3__99914b932b   has status   DONE\n",
      "2020-02-22 21:50:29,663 INFO luigi-interface : Informed scheduler that task   Ord3__99914b932b   has status   DONE\n",
      "INFO: Informed scheduler that task   Ord2__99914b932b   has status   DONE\n",
      "2020-02-22 21:50:29,673 INFO luigi-interface : Informed scheduler that task   Ord2__99914b932b   has status   DONE\n",
      "INFO: Informed scheduler that task   Ord1__99914b932b   has status   DONE\n",
      "2020-02-22 21:50:29,685 INFO luigi-interface : Informed scheduler that task   Ord1__99914b932b   has status   DONE\n",
      "INFO: Informed scheduler that task   Ord0__99914b932b   has status   DONE\n",
      "2020-02-22 21:50:29,693 INFO luigi-interface : Informed scheduler that task   Ord0__99914b932b   has status   DONE\n",
      "INFO: Informed scheduler that task   Bin4__99914b932b   has status   DONE\n",
      "2020-02-22 21:50:29,696 INFO luigi-interface : Informed scheduler that task   Bin4__99914b932b   has status   DONE\n",
      "INFO: Informed scheduler that task   Bin3__99914b932b   has status   DONE\n",
      "2020-02-22 21:50:29,699 INFO luigi-interface : Informed scheduler that task   Bin3__99914b932b   has status   DONE\n",
      "INFO: Informed scheduler that task   Bin2__99914b932b   has status   DONE\n",
      "2020-02-22 21:50:29,704 INFO luigi-interface : Informed scheduler that task   Bin2__99914b932b   has status   DONE\n",
      "INFO: Informed scheduler that task   Bin1__99914b932b   has status   DONE\n",
      "2020-02-22 21:50:29,708 INFO luigi-interface : Informed scheduler that task   Bin1__99914b932b   has status   DONE\n",
      "INFO: Informed scheduler that task   Bin0__99914b932b   has status   DONE\n",
      "2020-02-22 21:50:29,713 INFO luigi-interface : Informed scheduler that task   Bin0__99914b932b   has status   DONE\n",
      "INFO: Informed scheduler that task   Target__99914b932b   has status   DONE\n",
      "2020-02-22 21:50:29,719 INFO luigi-interface : Informed scheduler that task   Target__99914b932b   has status   DONE\n",
      "INFO: Done scheduling tasks\n",
      "2020-02-22 21:50:29,730 INFO luigi-interface : Done scheduling tasks\n",
      "INFO: Running Worker with 1 processes\n",
      "2020-02-22 21:50:29,738 INFO luigi-interface : Running Worker with 1 processes\n",
      "DEBUG: Asking scheduler for work...\n",
      "2020-02-22 21:50:29,742 DEBUG luigi-interface : Asking scheduler for work...\n",
      "DEBUG: Pending tasks: 5\n",
      "2020-02-22 21:50:29,746 DEBUG luigi-interface : Pending tasks: 5\n",
      "INFO: [pid 13186] Worker Worker(salt=564889151, workers=1, host=tenajimachine.local, username=yuto, pid=13186) running   JamesSteinEncode(target_columns=bin_0,bin_1,bin_2,bin_3,bin_4,nom_0,nom_1,nom_2,nom_3,nom_4,nom_5,nom_6,nom_7,nom_8,nom_9,ord_0,ord_1,ord_2,ord_3,ord_4,ord_5,day,month)\n",
      "2020-02-22 21:50:29,750 INFO luigi-interface : [pid 13186] Worker Worker(salt=564889151, workers=1, host=tenajimachine.local, username=yuto, pid=13186) running   JamesSteinEncode(target_columns=bin_0,bin_1,bin_2,bin_3,bin_4,nom_0,nom_1,nom_2,nom_3,nom_4,nom_5,nom_6,nom_7,nom_8,nom_9,ord_0,ord_1,ord_2,ord_3,ord_4,ord_5,day,month)\n",
      "2020-02-22 21:50:29,778 INFO gokart.file_processor : writing a file with total_bytes=170...\n",
      "2020-02-22 21:50:29,779 INFO gokart.file_processor : writing bytes [0, 170)\n",
      "2020-02-22 21:50:29,781 INFO gokart.file_processor : done\n"
     ]
    },
    {
     "name": "stdout",
     "output_type": "stream",
     "text": [
      "Mem. usage decreased to 183.11 Mb (0.0% reduction)\n"
     ]
    },
    {
     "name": "stderr",
     "output_type": "stream",
     "text": [
      "2020-02-22 21:51:57,142 INFO gokart.file_processor : writing a file with total_bytes=192001401...\n",
      "2020-02-22 21:51:57,143 INFO gokart.file_processor : writing bytes [0, 192001401)\n",
      "2020-02-22 21:51:57,239 INFO gokart.file_processor : done\n",
      "2020-02-22 21:51:57,399 INFO gokart.file_processor : writing a file with total_bytes=21...\n",
      "2020-02-22 21:51:57,400 INFO gokart.file_processor : writing bytes [0, 21)\n",
      "2020-02-22 21:51:57,401 INFO gokart.file_processor : done\n",
      "INFO: [pid 13186] Worker Worker(salt=564889151, workers=1, host=tenajimachine.local, username=yuto, pid=13186) done      JamesSteinEncode(target_columns=bin_0,bin_1,bin_2,bin_3,bin_4,nom_0,nom_1,nom_2,nom_3,nom_4,nom_5,nom_6,nom_7,nom_8,nom_9,ord_0,ord_1,ord_2,ord_3,ord_4,ord_5,day,month)\n",
      "2020-02-22 21:51:57,403 INFO luigi-interface : [pid 13186] Worker Worker(salt=564889151, workers=1, host=tenajimachine.local, username=yuto, pid=13186) done      JamesSteinEncode(target_columns=bin_0,bin_1,bin_2,bin_3,bin_4,nom_0,nom_1,nom_2,nom_3,nom_4,nom_5,nom_6,nom_7,nom_8,nom_9,ord_0,ord_1,ord_2,ord_3,ord_4,ord_5,day,month)\n",
      "2020-02-22 21:51:57,407 INFO gokart.file_processor : writing a file with total_bytes=126...\n",
      "2020-02-22 21:51:57,408 INFO gokart.file_processor : writing bytes [0, 126)\n",
      "2020-02-22 21:51:57,411 INFO gokart.file_processor : done\n",
      "DEBUG: 1 running tasks, waiting for next task to finish\n",
      "2020-02-22 21:51:57,415 DEBUG luigi-interface : 1 running tasks, waiting for next task to finish\n",
      "INFO: Informed scheduler that task   JamesSteinEncode_bin_0_bin_1_bin__038ed69825   has status   DONE\n",
      "2020-02-22 21:51:57,422 INFO luigi-interface : Informed scheduler that task   JamesSteinEncode_bin_0_bin_1_bin__038ed69825   has status   DONE\n",
      "DEBUG: Asking scheduler for work...\n",
      "2020-02-22 21:51:57,425 DEBUG luigi-interface : Asking scheduler for work...\n",
      "DEBUG: Pending tasks: 4\n",
      "2020-02-22 21:51:57,427 DEBUG luigi-interface : Pending tasks: 4\n",
      "INFO: [pid 13186] Worker Worker(salt=564889151, workers=1, host=tenajimachine.local, username=yuto, pid=13186) running   CatBoostEncode(target_columns=bin_0,bin_1,bin_2,bin_3,bin_4,nom_0,nom_1,nom_2,nom_3,nom_4,nom_5,nom_6,nom_7,nom_8,nom_9,ord_0,ord_1,ord_2,ord_3,ord_4,ord_5,day,month)\n",
      "2020-02-22 21:51:57,431 INFO luigi-interface : [pid 13186] Worker Worker(salt=564889151, workers=1, host=tenajimachine.local, username=yuto, pid=13186) running   CatBoostEncode(target_columns=bin_0,bin_1,bin_2,bin_3,bin_4,nom_0,nom_1,nom_2,nom_3,nom_4,nom_5,nom_6,nom_7,nom_8,nom_9,ord_0,ord_1,ord_2,ord_3,ord_4,ord_5,day,month)\n",
      "2020-02-22 21:51:57,439 INFO gokart.file_processor : writing a file with total_bytes=170...\n",
      "2020-02-22 21:51:57,444 INFO gokart.file_processor : writing bytes [0, 170)\n",
      "2020-02-22 21:51:57,456 INFO gokart.file_processor : done\n"
     ]
    },
    {
     "name": "stdout",
     "output_type": "stream",
     "text": [
      "Mem. usage decreased to 183.11 Mb (0.0% reduction)\n"
     ]
    },
    {
     "name": "stderr",
     "output_type": "stream",
     "text": [
      "2020-02-22 21:54:03,027 INFO gokart.file_processor : writing a file with total_bytes=192001355...\n",
      "2020-02-22 21:54:03,028 INFO gokart.file_processor : writing bytes [0, 192001355)\n",
      "2020-02-22 21:54:03,116 INFO gokart.file_processor : done\n",
      "2020-02-22 21:54:03,253 INFO gokart.file_processor : writing a file with total_bytes=21...\n",
      "2020-02-22 21:54:03,254 INFO gokart.file_processor : writing bytes [0, 21)\n",
      "2020-02-22 21:54:03,255 INFO gokart.file_processor : done\n",
      "INFO: [pid 13186] Worker Worker(salt=564889151, workers=1, host=tenajimachine.local, username=yuto, pid=13186) done      CatBoostEncode(target_columns=bin_0,bin_1,bin_2,bin_3,bin_4,nom_0,nom_1,nom_2,nom_3,nom_4,nom_5,nom_6,nom_7,nom_8,nom_9,ord_0,ord_1,ord_2,ord_3,ord_4,ord_5,day,month)\n",
      "2020-02-22 21:54:03,256 INFO luigi-interface : [pid 13186] Worker Worker(salt=564889151, workers=1, host=tenajimachine.local, username=yuto, pid=13186) done      CatBoostEncode(target_columns=bin_0,bin_1,bin_2,bin_3,bin_4,nom_0,nom_1,nom_2,nom_3,nom_4,nom_5,nom_6,nom_7,nom_8,nom_9,ord_0,ord_1,ord_2,ord_3,ord_4,ord_5,day,month)\n",
      "2020-02-22 21:54:03,260 INFO gokart.file_processor : writing a file with total_bytes=124...\n",
      "2020-02-22 21:54:03,261 INFO gokart.file_processor : writing bytes [0, 124)\n",
      "2020-02-22 21:54:03,262 INFO gokart.file_processor : done\n",
      "DEBUG: 1 running tasks, waiting for next task to finish\n",
      "2020-02-22 21:54:03,265 DEBUG luigi-interface : 1 running tasks, waiting for next task to finish\n",
      "INFO: Informed scheduler that task   CatBoostEncode_bin_0_bin_1_bin__038ed69825   has status   DONE\n",
      "2020-02-22 21:54:03,268 INFO luigi-interface : Informed scheduler that task   CatBoostEncode_bin_0_bin_1_bin__038ed69825   has status   DONE\n",
      "DEBUG: Asking scheduler for work...\n",
      "2020-02-22 21:54:03,272 DEBUG luigi-interface : Asking scheduler for work...\n",
      "DEBUG: Pending tasks: 3\n",
      "2020-02-22 21:54:03,274 DEBUG luigi-interface : Pending tasks: 3\n",
      "INFO: [pid 13186] Worker Worker(salt=564889151, workers=1, host=tenajimachine.local, username=yuto, pid=13186) running   WOEEncoder(target_columns=bin_0,bin_1,bin_2,bin_3,bin_4,nom_0,nom_1,nom_2,nom_3,nom_4,nom_5,nom_6,nom_7,nom_8,nom_9,ord_0,ord_1,ord_2,ord_3,ord_4,ord_5,day,month)\n",
      "2020-02-22 21:54:03,276 INFO luigi-interface : [pid 13186] Worker Worker(salt=564889151, workers=1, host=tenajimachine.local, username=yuto, pid=13186) running   WOEEncoder(target_columns=bin_0,bin_1,bin_2,bin_3,bin_4,nom_0,nom_1,nom_2,nom_3,nom_4,nom_5,nom_6,nom_7,nom_8,nom_9,ord_0,ord_1,ord_2,ord_3,ord_4,ord_5,day,month)\n",
      "2020-02-22 21:54:03,282 INFO gokart.file_processor : writing a file with total_bytes=170...\n",
      "2020-02-22 21:54:03,283 INFO gokart.file_processor : writing bytes [0, 170)\n",
      "2020-02-22 21:54:03,284 INFO gokart.file_processor : done\n"
     ]
    },
    {
     "name": "stdout",
     "output_type": "stream",
     "text": [
      "Mem. usage decreased to 183.11 Mb (0.0% reduction)\n"
     ]
    },
    {
     "name": "stderr",
     "output_type": "stream",
     "text": [
      "2020-02-22 21:55:32,985 INFO gokart.file_processor : writing a file with total_bytes=192001240...\n",
      "2020-02-22 21:55:32,986 INFO gokart.file_processor : writing bytes [0, 192001240)\n",
      "2020-02-22 21:55:33,085 INFO gokart.file_processor : done\n",
      "2020-02-22 21:55:33,242 INFO gokart.file_processor : writing a file with total_bytes=21...\n",
      "2020-02-22 21:55:33,243 INFO gokart.file_processor : writing bytes [0, 21)\n",
      "2020-02-22 21:55:33,243 INFO gokart.file_processor : done\n",
      "INFO: [pid 13186] Worker Worker(salt=564889151, workers=1, host=tenajimachine.local, username=yuto, pid=13186) done      WOEEncoder(target_columns=bin_0,bin_1,bin_2,bin_3,bin_4,nom_0,nom_1,nom_2,nom_3,nom_4,nom_5,nom_6,nom_7,nom_8,nom_9,ord_0,ord_1,ord_2,ord_3,ord_4,ord_5,day,month)\n",
      "2020-02-22 21:55:33,247 INFO luigi-interface : [pid 13186] Worker Worker(salt=564889151, workers=1, host=tenajimachine.local, username=yuto, pid=13186) done      WOEEncoder(target_columns=bin_0,bin_1,bin_2,bin_3,bin_4,nom_0,nom_1,nom_2,nom_3,nom_4,nom_5,nom_6,nom_7,nom_8,nom_9,ord_0,ord_1,ord_2,ord_3,ord_4,ord_5,day,month)\n",
      "2020-02-22 21:55:33,251 INFO gokart.file_processor : writing a file with total_bytes=120...\n",
      "2020-02-22 21:55:33,252 INFO gokart.file_processor : writing bytes [0, 120)\n",
      "2020-02-22 21:55:33,256 INFO gokart.file_processor : done\n",
      "DEBUG: 1 running tasks, waiting for next task to finish\n",
      "2020-02-22 21:55:33,258 DEBUG luigi-interface : 1 running tasks, waiting for next task to finish\n",
      "INFO: Informed scheduler that task   WOEEncoder_bin_0_bin_1_bin__038ed69825   has status   DONE\n",
      "2020-02-22 21:55:33,263 INFO luigi-interface : Informed scheduler that task   WOEEncoder_bin_0_bin_1_bin__038ed69825   has status   DONE\n",
      "DEBUG: Asking scheduler for work...\n",
      "2020-02-22 21:55:33,271 DEBUG luigi-interface : Asking scheduler for work...\n",
      "DEBUG: Pending tasks: 2\n",
      "2020-02-22 21:55:33,275 DEBUG luigi-interface : Pending tasks: 2\n",
      "INFO: [pid 13186] Worker Worker(salt=564889151, workers=1, host=tenajimachine.local, username=yuto, pid=13186) running   MEstimateEncoder(target_columns=bin_0,bin_1,bin_2,bin_3,bin_4,nom_0,nom_1,nom_2,nom_3,nom_4,nom_5,nom_6,nom_7,nom_8,nom_9,ord_0,ord_1,ord_2,ord_3,ord_4,ord_5,day,month)\n",
      "2020-02-22 21:55:33,277 INFO luigi-interface : [pid 13186] Worker Worker(salt=564889151, workers=1, host=tenajimachine.local, username=yuto, pid=13186) running   MEstimateEncoder(target_columns=bin_0,bin_1,bin_2,bin_3,bin_4,nom_0,nom_1,nom_2,nom_3,nom_4,nom_5,nom_6,nom_7,nom_8,nom_9,ord_0,ord_1,ord_2,ord_3,ord_4,ord_5,day,month)\n",
      "2020-02-22 21:55:33,290 INFO gokart.file_processor : writing a file with total_bytes=170...\n",
      "2020-02-22 21:55:33,290 INFO gokart.file_processor : writing bytes [0, 170)\n",
      "2020-02-22 21:55:33,292 INFO gokart.file_processor : done\n"
     ]
    },
    {
     "name": "stdout",
     "output_type": "stream",
     "text": [
      "Mem. usage decreased to 183.11 Mb (0.0% reduction)\n"
     ]
    },
    {
     "name": "stderr",
     "output_type": "stream",
     "text": [
      "2020-02-22 21:57:12,951 INFO gokart.file_processor : writing a file with total_bytes=192001378...\n",
      "2020-02-22 21:57:12,952 INFO gokart.file_processor : writing bytes [0, 192001378)\n",
      "2020-02-22 21:57:13,071 INFO gokart.file_processor : done\n",
      "2020-02-22 21:57:13,200 INFO gokart.file_processor : writing a file with total_bytes=21...\n",
      "2020-02-22 21:57:13,201 INFO gokart.file_processor : writing bytes [0, 21)\n",
      "2020-02-22 21:57:13,201 INFO gokart.file_processor : done\n",
      "INFO: [pid 13186] Worker Worker(salt=564889151, workers=1, host=tenajimachine.local, username=yuto, pid=13186) done      MEstimateEncoder(target_columns=bin_0,bin_1,bin_2,bin_3,bin_4,nom_0,nom_1,nom_2,nom_3,nom_4,nom_5,nom_6,nom_7,nom_8,nom_9,ord_0,ord_1,ord_2,ord_3,ord_4,ord_5,day,month)\n",
      "2020-02-22 21:57:13,205 INFO luigi-interface : [pid 13186] Worker Worker(salt=564889151, workers=1, host=tenajimachine.local, username=yuto, pid=13186) done      MEstimateEncoder(target_columns=bin_0,bin_1,bin_2,bin_3,bin_4,nom_0,nom_1,nom_2,nom_3,nom_4,nom_5,nom_6,nom_7,nom_8,nom_9,ord_0,ord_1,ord_2,ord_3,ord_4,ord_5,day,month)\n",
      "2020-02-22 21:57:13,208 INFO gokart.file_processor : writing a file with total_bytes=126...\n",
      "2020-02-22 21:57:13,214 INFO gokart.file_processor : writing bytes [0, 126)\n",
      "2020-02-22 21:57:13,215 INFO gokart.file_processor : done\n",
      "DEBUG: 1 running tasks, waiting for next task to finish\n",
      "2020-02-22 21:57:13,217 DEBUG luigi-interface : 1 running tasks, waiting for next task to finish\n",
      "INFO: Informed scheduler that task   MEstimateEncoder_bin_0_bin_1_bin__038ed69825   has status   DONE\n",
      "2020-02-22 21:57:13,225 INFO luigi-interface : Informed scheduler that task   MEstimateEncoder_bin_0_bin_1_bin__038ed69825   has status   DONE\n",
      "DEBUG: Asking scheduler for work...\n",
      "2020-02-22 21:57:13,227 DEBUG luigi-interface : Asking scheduler for work...\n",
      "DEBUG: Pending tasks: 1\n",
      "2020-02-22 21:57:13,234 DEBUG luigi-interface : Pending tasks: 1\n",
      "INFO: [pid 13186] Worker Worker(salt=564889151, workers=1, host=tenajimachine.local, username=yuto, pid=13186) running   GetFeature(features=[])\n",
      "2020-02-22 21:57:13,237 INFO luigi-interface : [pid 13186] Worker Worker(salt=564889151, workers=1, host=tenajimachine.local, username=yuto, pid=13186) running   GetFeature(features=[])\n",
      "2020-02-22 21:57:13,269 INFO gokart.file_processor : writing a file with total_bytes=31...\n",
      "2020-02-22 21:57:13,270 INFO gokart.file_processor : writing bytes [0, 31)\n",
      "2020-02-22 21:57:13,271 INFO gokart.file_processor : done\n",
      "2020-02-22 21:57:32,162 INFO gokart.target : saving a large pdDataFrame with split_size=53\n",
      "100%|██████████| 53/53 [00:03<00:00, 14.25it/s]\n",
      "2020-02-22 21:57:36,092 INFO gokart.file_processor : writing a file with total_bytes=61...\n",
      "2020-02-22 21:57:36,093 INFO gokart.file_processor : writing bytes [0, 61)\n",
      "2020-02-22 21:57:36,094 INFO gokart.file_processor : done\n",
      "2020-02-22 21:58:16,725 INFO gokart.file_processor : writing a file with total_bytes=21...\n",
      "2020-02-22 21:58:16,726 INFO gokart.file_processor : writing bytes [0, 21)\n",
      "2020-02-22 21:58:16,726 INFO gokart.file_processor : done\n",
      "INFO: [pid 13186] Worker Worker(salt=564889151, workers=1, host=tenajimachine.local, username=yuto, pid=13186) done      GetFeature(features=[])\n",
      "2020-02-22 21:58:16,728 INFO luigi-interface : [pid 13186] Worker Worker(salt=564889151, workers=1, host=tenajimachine.local, username=yuto, pid=13186) done      GetFeature(features=[])\n",
      "2020-02-22 21:58:16,761 INFO gokart.file_processor : writing a file with total_bytes=99...\n",
      "2020-02-22 21:58:16,793 INFO gokart.file_processor : writing bytes [0, 99)\n",
      "2020-02-22 21:58:16,796 INFO gokart.file_processor : done\n",
      "DEBUG: 1 running tasks, waiting for next task to finish\n",
      "2020-02-22 21:58:16,798 DEBUG luigi-interface : 1 running tasks, waiting for next task to finish\n",
      "INFO: Informed scheduler that task   GetFeature____083ddcb1e0   has status   DONE\n",
      "2020-02-22 21:58:16,805 INFO luigi-interface : Informed scheduler that task   GetFeature____083ddcb1e0   has status   DONE\n",
      "DEBUG: Asking scheduler for work...\n",
      "2020-02-22 21:58:16,808 DEBUG luigi-interface : Asking scheduler for work...\n",
      "DEBUG: Done\n",
      "2020-02-22 21:58:16,812 DEBUG luigi-interface : Done\n",
      "DEBUG: There are no more tasks to run at this time\n",
      "2020-02-22 21:58:16,815 DEBUG luigi-interface : There are no more tasks to run at this time\n",
      "INFO: Worker Worker(salt=564889151, workers=1, host=tenajimachine.local, username=yuto, pid=13186) was stopped. Shutting down Keep-Alive thread\n",
      "2020-02-22 21:58:16,818 INFO luigi-interface : Worker Worker(salt=564889151, workers=1, host=tenajimachine.local, username=yuto, pid=13186) was stopped. Shutting down Keep-Alive thread\n",
      "INFO: \n",
      "===== Luigi Execution Summary =====\n",
      "\n",
      "Scheduled 47 tasks of which:\n",
      "* 42 complete ones were encountered:\n",
      "    - 1 Bin0(...)\n",
      "    - 1 Bin1(...)\n",
      "    - 1 Bin2(...)\n",
      "    - 1 Bin3(...)\n",
      "    - 1 Bin4(...)\n",
      "    ...\n",
      "* 5 ran successfully:\n",
      "    - 1 CatBoostEncode(...)\n",
      "    - 1 GetFeature(...)\n",
      "    - 1 JamesSteinEncode(...)\n",
      "    - 1 MEstimateEncoder(...)\n",
      "    - 1 WOEEncoder(...)\n",
      "\n",
      "This progress looks :) because there were no failed tasks or missing dependencies\n",
      "\n",
      "===== Luigi Execution Summary =====\n",
      "\n",
      "2020-02-22 21:58:16,827 INFO luigi-interface : \n",
      "===== Luigi Execution Summary =====\n",
      "\n",
      "Scheduled 47 tasks of which:\n",
      "* 42 complete ones were encountered:\n",
      "    - 1 Bin0(...)\n",
      "    - 1 Bin1(...)\n",
      "    - 1 Bin2(...)\n",
      "    - 1 Bin3(...)\n",
      "    - 1 Bin4(...)\n",
      "    ...\n",
      "* 5 ran successfully:\n",
      "    - 1 CatBoostEncode(...)\n",
      "    - 1 GetFeature(...)\n",
      "    - 1 JamesSteinEncode(...)\n",
      "    - 1 MEstimateEncoder(...)\n",
      "    - 1 WOEEncoder(...)\n",
      "\n",
      "This progress looks :) because there were no failed tasks or missing dependencies\n",
      "\n",
      "===== Luigi Execution Summary =====\n",
      "\n"
     ]
    },
    {
     "data": {
      "text/plain": [
       "True"
      ]
     },
     "execution_count": 5,
     "metadata": {},
     "output_type": "execute_result"
    }
   ],
   "source": [
    "luigi.build([GetFeature()], local_scheduler=True)"
   ]
  },
  {
   "cell_type": "code",
   "execution_count": 6,
   "metadata": {},
   "outputs": [
    {
     "name": "stderr",
     "output_type": "stream",
     "text": [
      "2020-02-22 21:58:17,033 INFO luigi : logging already configured\n",
      "DEBUG: Checking if Predict(random_state=110) is complete\n",
      "2020-02-22 21:58:17,124 DEBUG luigi-interface : Checking if Predict(random_state=110) is complete\n",
      "DEBUG: Checking if Preprocess(use_columns=[], drop_columns=[]) is complete\n",
      "2020-02-22 21:58:17,160 DEBUG luigi-interface : Checking if Preprocess(use_columns=[], drop_columns=[]) is complete\n",
      "DEBUG: Checking if TrainStratifiedKFold(random_state=110, params={\"objective\": \"binary\", \"learning_rates\": 0.1, \"metric\": \"auc\", \"num_leaves\": 32, \"min_data_in_leaf\": 32, \"max_depth\": 8}, model_type=lgb) is complete\n",
      "2020-02-22 21:58:17,168 DEBUG luigi-interface : Checking if TrainStratifiedKFold(random_state=110, params={\"objective\": \"binary\", \"learning_rates\": 0.1, \"metric\": \"auc\", \"num_leaves\": 32, \"min_data_in_leaf\": 32, \"max_depth\": 8}, model_type=lgb) is complete\n",
      "INFO: Informed scheduler that task   Predict_110_fadd22deb8   has status   PENDING\n",
      "2020-02-22 21:58:17,175 INFO luigi-interface : Informed scheduler that task   Predict_110_fadd22deb8   has status   PENDING\n",
      "INFO: Informed scheduler that task   TrainStratifiedKFold_lgb___objective____b_110_c0bffd8ccc   has status   PENDING\n",
      "2020-02-22 21:58:17,179 INFO luigi-interface : Informed scheduler that task   TrainStratifiedKFold_lgb___objective____b_110_c0bffd8ccc   has status   PENDING\n",
      "DEBUG: Checking if GetFold(fold_type=sf, n_splits=5, random_state=110, shuffle=True) is complete\n",
      "2020-02-22 21:58:17,190 DEBUG luigi-interface : Checking if GetFold(fold_type=sf, n_splits=5, random_state=110, shuffle=True) is complete\n",
      "DEBUG: Checking if GetFeature(features=[]) is complete\n",
      "2020-02-22 21:58:17,193 DEBUG luigi-interface : Checking if GetFeature(features=[]) is complete\n",
      "INFO: Informed scheduler that task   Preprocess_______eba3f946ba   has status   PENDING\n",
      "2020-02-22 21:58:17,200 INFO luigi-interface : Informed scheduler that task   Preprocess_______eba3f946ba   has status   PENDING\n",
      "INFO: Informed scheduler that task   GetFeature____083ddcb1e0   has status   DONE\n",
      "2020-02-22 21:58:17,203 INFO luigi-interface : Informed scheduler that task   GetFeature____083ddcb1e0   has status   DONE\n",
      "INFO: Informed scheduler that task   GetFold_sf_5_110_7d7f86b4f4   has status   DONE\n",
      "2020-02-22 21:58:17,211 INFO luigi-interface : Informed scheduler that task   GetFold_sf_5_110_7d7f86b4f4   has status   DONE\n",
      "INFO: Done scheduling tasks\n",
      "2020-02-22 21:58:17,217 INFO luigi-interface : Done scheduling tasks\n",
      "INFO: Running Worker with 1 processes\n",
      "2020-02-22 21:58:17,219 INFO luigi-interface : Running Worker with 1 processes\n",
      "DEBUG: Asking scheduler for work...\n",
      "2020-02-22 21:58:17,224 DEBUG luigi-interface : Asking scheduler for work...\n",
      "DEBUG: Pending tasks: 3\n",
      "2020-02-22 21:58:17,231 DEBUG luigi-interface : Pending tasks: 3\n",
      "INFO: [pid 13186] Worker Worker(salt=933140496, workers=1, host=tenajimachine.local, username=yuto, pid=13186) running   Preprocess(use_columns=[], drop_columns=[])\n",
      "2020-02-22 21:58:17,237 INFO luigi-interface : [pid 13186] Worker Worker(salt=933140496, workers=1, host=tenajimachine.local, username=yuto, pid=13186) running   Preprocess(use_columns=[], drop_columns=[])\n",
      "2020-02-22 21:58:17,248 INFO gokart.file_processor : writing a file with total_bytes=52...\n",
      "2020-02-22 21:58:17,250 INFO gokart.file_processor : writing bytes [0, 52)\n",
      "2020-02-22 21:58:17,252 INFO gokart.file_processor : done\n",
      "2020-02-22 21:58:38,362 INFO gokart.file_processor : writing a file with total_bytes=1351617006...\n",
      "2020-02-22 21:58:38,363 INFO gokart.file_processor : writing bytes [0, 1073741824)\n",
      "2020-02-22 21:58:41,801 INFO gokart.file_processor : writing a file with total_bytes=1351617006...\n",
      "2020-02-22 21:58:41,802 INFO gokart.file_processor : writing bytes [1073741824, 1351617006)\n",
      "2020-02-22 21:58:42,264 INFO gokart.file_processor : done\n",
      "2020-02-22 21:58:42,687 INFO gokart.file_processor : writing a file with total_bytes=21...\n",
      "2020-02-22 21:58:42,688 INFO gokart.file_processor : writing bytes [0, 21)\n",
      "2020-02-22 21:58:42,688 INFO gokart.file_processor : done\n",
      "INFO: [pid 13186] Worker Worker(salt=933140496, workers=1, host=tenajimachine.local, username=yuto, pid=13186) done      Preprocess(use_columns=[], drop_columns=[])\n",
      "2020-02-22 21:58:42,693 INFO luigi-interface : [pid 13186] Worker Worker(salt=933140496, workers=1, host=tenajimachine.local, username=yuto, pid=13186) done      Preprocess(use_columns=[], drop_columns=[])\n",
      "2020-02-22 21:58:42,699 INFO gokart.file_processor : writing a file with total_bytes=107...\n",
      "2020-02-22 21:58:42,701 INFO gokart.file_processor : writing bytes [0, 107)\n",
      "2020-02-22 21:58:42,708 INFO gokart.file_processor : done\n",
      "DEBUG: 1 running tasks, waiting for next task to finish\n",
      "2020-02-22 21:58:42,726 DEBUG luigi-interface : 1 running tasks, waiting for next task to finish\n",
      "INFO: Informed scheduler that task   Preprocess_______eba3f946ba   has status   DONE\n",
      "2020-02-22 21:58:42,786 INFO luigi-interface : Informed scheduler that task   Preprocess_______eba3f946ba   has status   DONE\n",
      "DEBUG: Asking scheduler for work...\n",
      "2020-02-22 21:58:42,789 DEBUG luigi-interface : Asking scheduler for work...\n",
      "DEBUG: Pending tasks: 2\n",
      "2020-02-22 21:58:42,802 DEBUG luigi-interface : Pending tasks: 2\n",
      "INFO: [pid 13186] Worker Worker(salt=933140496, workers=1, host=tenajimachine.local, username=yuto, pid=13186) running   TrainStratifiedKFold(random_state=110, params={\"objective\": \"binary\", \"learning_rates\": 0.1, \"metric\": \"auc\", \"num_leaves\": 32, \"min_data_in_leaf\": 32, \"max_depth\": 8}, model_type=lgb)\n",
      "2020-02-22 21:58:42,828 INFO luigi-interface : [pid 13186] Worker Worker(salt=933140496, workers=1, host=tenajimachine.local, username=yuto, pid=13186) running   TrainStratifiedKFold(random_state=110, params={\"objective\": \"binary\", \"learning_rates\": 0.1, \"metric\": \"auc\", \"num_leaves\": 32, \"min_data_in_leaf\": 32, \"max_depth\": 8}, model_type=lgb)\n",
      "2020-02-22 21:58:42,860 INFO gokart.file_processor : writing a file with total_bytes=189...\n",
      "2020-02-22 21:58:42,871 INFO gokart.file_processor : writing bytes [0, 189)\n",
      "2020-02-22 21:58:42,874 INFO gokart.file_processor : done\n",
      "2020-02-22 21:58:44,659 INFO scripts.model.model_lightgbm : train 1th model\n"
     ]
    },
    {
     "name": "stdout",
     "output_type": "stream",
     "text": [
      "Training until validation scores don't improve for 100 rounds\n",
      "[100]\ttraining's auc: 0.79818\tvalid_1's auc: 0.784373\n",
      "[200]\ttraining's auc: 0.806805\tvalid_1's auc: 0.785042\n"
     ]
    },
    {
     "name": "stderr",
     "output_type": "stream",
     "text": [
      "2020-02-22 21:59:45,117 INFO scripts.model.model_lightgbm : train 2th model\n"
     ]
    },
    {
     "name": "stdout",
     "output_type": "stream",
     "text": [
      "Early stopping, best iteration is:\n",
      "[162]\ttraining's auc: 0.803795\tvalid_1's auc: 0.785192\n",
      "Training until validation scores don't improve for 100 rounds\n",
      "[100]\ttraining's auc: 0.798126\tvalid_1's auc: 0.784344\n",
      "[200]\ttraining's auc: 0.806699\tvalid_1's auc: 0.785159\n"
     ]
    },
    {
     "name": "stderr",
     "output_type": "stream",
     "text": [
      "2020-02-22 22:00:43,592 INFO scripts.model.model_lightgbm : train 3th model\n"
     ]
    },
    {
     "name": "stdout",
     "output_type": "stream",
     "text": [
      "Early stopping, best iteration is:\n",
      "[156]\ttraining's auc: 0.80309\tvalid_1's auc: 0.785288\n",
      "Training until validation scores don't improve for 100 rounds\n",
      "[100]\ttraining's auc: 0.798288\tvalid_1's auc: 0.784109\n",
      "[200]\ttraining's auc: 0.806828\tvalid_1's auc: 0.784761\n"
     ]
    },
    {
     "name": "stderr",
     "output_type": "stream",
     "text": [
      "2020-02-22 22:01:40,992 INFO scripts.model.model_lightgbm : train 4th model\n"
     ]
    },
    {
     "name": "stdout",
     "output_type": "stream",
     "text": [
      "Early stopping, best iteration is:\n",
      "[141]\ttraining's auc: 0.801944\tvalid_1's auc: 0.784913\n",
      "Training until validation scores don't improve for 100 rounds\n",
      "[100]\ttraining's auc: 0.799038\tvalid_1's auc: 0.781773\n",
      "[200]\ttraining's auc: 0.807496\tvalid_1's auc: 0.78236\n"
     ]
    },
    {
     "name": "stderr",
     "output_type": "stream",
     "text": [
      "2020-02-22 22:02:43,659 INFO scripts.model.model_lightgbm : train 5th model\n"
     ]
    },
    {
     "name": "stdout",
     "output_type": "stream",
     "text": [
      "Early stopping, best iteration is:\n",
      "[159]\ttraining's auc: 0.804187\tvalid_1's auc: 0.782523\n",
      "Training until validation scores don't improve for 100 rounds\n",
      "[100]\ttraining's auc: 0.797896\tvalid_1's auc: 0.785138\n",
      "[200]\ttraining's auc: 0.806358\tvalid_1's auc: 0.785874\n"
     ]
    },
    {
     "name": "stderr",
     "output_type": "stream",
     "text": [
      "2020-02-22 22:03:44,338 INFO scripts.utils : delete ./tmp_model_1_fold.pkl ...\n",
      "2020-02-22 22:03:44,339 INFO scripts.utils : delete ./tmp_model_4_fold.pkl ...\n",
      "2020-02-22 22:03:44,340 INFO scripts.utils : delete ./tmp_model_5_fold.pkl ...\n",
      "2020-02-22 22:03:44,343 INFO scripts.utils : delete ./tmp_model_3_fold.pkl ...\n",
      "2020-02-22 22:03:44,344 INFO scripts.utils : delete ./tmp_model_2_fold.pkl ...\n"
     ]
    },
    {
     "name": "stdout",
     "output_type": "stream",
     "text": [
      "Early stopping, best iteration is:\n",
      "[164]\ttraining's auc: 0.803513\tvalid_1's auc: 0.785991\n"
     ]
    },
    {
     "name": "stderr",
     "output_type": "stream",
     "text": [
      "2020-02-22 22:03:44,515 INFO gokart.file_processor : writing a file with total_bytes=2958764...\n",
      "2020-02-22 22:03:44,516 INFO gokart.file_processor : writing bytes [0, 2958764)\n",
      "2020-02-22 22:03:44,519 INFO gokart.file_processor : done\n",
      "2020-02-22 22:03:44,616 INFO gokart.file_processor : writing a file with total_bytes=21...\n",
      "2020-02-22 22:03:44,617 INFO gokart.file_processor : writing bytes [0, 21)\n",
      "2020-02-22 22:03:44,617 INFO gokart.file_processor : done\n",
      "INFO: [pid 13186] Worker Worker(salt=933140496, workers=1, host=tenajimachine.local, username=yuto, pid=13186) done      TrainStratifiedKFold(random_state=110, params={\"objective\": \"binary\", \"learning_rates\": 0.1, \"metric\": \"auc\", \"num_leaves\": 32, \"min_data_in_leaf\": 32, \"max_depth\": 8}, model_type=lgb)\n",
      "2020-02-22 22:03:44,621 INFO luigi-interface : [pid 13186] Worker Worker(salt=933140496, workers=1, host=tenajimachine.local, username=yuto, pid=13186) done      TrainStratifiedKFold(random_state=110, params={\"objective\": \"binary\", \"learning_rates\": 0.1, \"metric\": \"auc\", \"num_leaves\": 32, \"min_data_in_leaf\": 32, \"max_depth\": 8}, model_type=lgb)\n",
      "2020-02-22 22:03:44,625 INFO gokart.file_processor : writing a file with total_bytes=96...\n",
      "2020-02-22 22:03:44,633 INFO gokart.file_processor : writing bytes [0, 96)\n",
      "2020-02-22 22:03:44,639 INFO gokart.file_processor : done\n",
      "DEBUG: 1 running tasks, waiting for next task to finish\n",
      "2020-02-22 22:03:44,643 DEBUG luigi-interface : 1 running tasks, waiting for next task to finish\n",
      "INFO: Informed scheduler that task   TrainStratifiedKFold_lgb___objective____b_110_c0bffd8ccc   has status   DONE\n",
      "2020-02-22 22:03:44,647 INFO luigi-interface : Informed scheduler that task   TrainStratifiedKFold_lgb___objective____b_110_c0bffd8ccc   has status   DONE\n",
      "DEBUG: Asking scheduler for work...\n",
      "2020-02-22 22:03:44,653 DEBUG luigi-interface : Asking scheduler for work...\n",
      "DEBUG: Pending tasks: 1\n",
      "2020-02-22 22:03:44,656 DEBUG luigi-interface : Pending tasks: 1\n",
      "INFO: [pid 13186] Worker Worker(salt=933140496, workers=1, host=tenajimachine.local, username=yuto, pid=13186) running   Predict(random_state=110)\n",
      "2020-02-22 22:03:44,660 INFO luigi-interface : [pid 13186] Worker Worker(salt=933140496, workers=1, host=tenajimachine.local, username=yuto, pid=13186) running   Predict(random_state=110)\n",
      "2020-02-22 22:03:44,673 INFO gokart.file_processor : writing a file with total_bytes=36...\n",
      "2020-02-22 22:03:44,674 INFO gokart.file_processor : writing bytes [0, 36)\n",
      "2020-02-22 22:03:44,678 INFO gokart.file_processor : done\n"
     ]
    },
    {
     "name": "stdout",
     "output_type": "stream",
     "text": [
      "          target\n",
      "id              \n",
      "600000  0.117298\n",
      "600001  0.271737\n",
      "600002  0.159366\n",
      "600003  0.130287\n",
      "600004  0.144685\n"
     ]
    },
    {
     "name": "stderr",
     "output_type": "stream",
     "text": [
      "2020-02-22 22:04:20,041 INFO gokart.file_processor : writing a file with total_bytes=21...\n",
      "2020-02-22 22:04:20,042 INFO gokart.file_processor : writing bytes [0, 21)\n",
      "2020-02-22 22:04:20,044 INFO gokart.file_processor : done\n",
      "INFO: [pid 13186] Worker Worker(salt=933140496, workers=1, host=tenajimachine.local, username=yuto, pid=13186) done      Predict(random_state=110)\n",
      "2020-02-22 22:04:20,048 INFO luigi-interface : [pid 13186] Worker Worker(salt=933140496, workers=1, host=tenajimachine.local, username=yuto, pid=13186) done      Predict(random_state=110)\n",
      "2020-02-22 22:04:20,064 INFO gokart.file_processor : writing a file with total_bytes=334...\n",
      "2020-02-22 22:04:20,070 INFO gokart.file_processor : writing bytes [0, 334)\n",
      "2020-02-22 22:04:20,071 INFO gokart.file_processor : done\n",
      "DEBUG: 1 running tasks, waiting for next task to finish\n",
      "2020-02-22 22:04:20,075 DEBUG luigi-interface : 1 running tasks, waiting for next task to finish\n",
      "INFO: Informed scheduler that task   Predict_110_fadd22deb8   has status   DONE\n",
      "2020-02-22 22:04:20,079 INFO luigi-interface : Informed scheduler that task   Predict_110_fadd22deb8   has status   DONE\n",
      "DEBUG: Asking scheduler for work...\n",
      "2020-02-22 22:04:20,086 DEBUG luigi-interface : Asking scheduler for work...\n",
      "DEBUG: Done\n",
      "2020-02-22 22:04:20,088 DEBUG luigi-interface : Done\n",
      "DEBUG: There are no more tasks to run at this time\n",
      "2020-02-22 22:04:20,096 DEBUG luigi-interface : There are no more tasks to run at this time\n",
      "INFO: Worker Worker(salt=933140496, workers=1, host=tenajimachine.local, username=yuto, pid=13186) was stopped. Shutting down Keep-Alive thread\n",
      "2020-02-22 22:04:20,104 INFO luigi-interface : Worker Worker(salt=933140496, workers=1, host=tenajimachine.local, username=yuto, pid=13186) was stopped. Shutting down Keep-Alive thread\n",
      "INFO: \n",
      "===== Luigi Execution Summary =====\n",
      "\n",
      "Scheduled 5 tasks of which:\n",
      "* 2 complete ones were encountered:\n",
      "    - 1 GetFeature(...)\n",
      "    - 1 GetFold(...)\n",
      "* 3 ran successfully:\n",
      "    - 1 Predict(...)\n",
      "    - 1 Preprocess(...)\n",
      "    - 1 TrainStratifiedKFold(...)\n",
      "\n",
      "This progress looks :) because there were no failed tasks or missing dependencies\n",
      "\n",
      "===== Luigi Execution Summary =====\n",
      "\n",
      "2020-02-22 22:04:20,111 INFO luigi-interface : \n",
      "===== Luigi Execution Summary =====\n",
      "\n",
      "Scheduled 5 tasks of which:\n",
      "* 2 complete ones were encountered:\n",
      "    - 1 GetFeature(...)\n",
      "    - 1 GetFold(...)\n",
      "* 3 ran successfully:\n",
      "    - 1 Predict(...)\n",
      "    - 1 Preprocess(...)\n",
      "    - 1 TrainStratifiedKFold(...)\n",
      "\n",
      "This progress looks :) because there were no failed tasks or missing dependencies\n",
      "\n",
      "===== Luigi Execution Summary =====\n",
      "\n"
     ]
    },
    {
     "data": {
      "text/plain": [
       "True"
      ]
     },
     "execution_count": 6,
     "metadata": {},
     "output_type": "execute_result"
    }
   ],
   "source": [
    "luigi.build([Predict()], local_scheduler=True)"
   ]
  },
  {
   "cell_type": "code",
   "execution_count": 7,
   "metadata": {},
   "outputs": [
    {
     "ename": "FileNotFoundError",
     "evalue": "[Errno 2] No such file or directory: './resources/train/preprocessed_data_67599fa94395b33b7170624bc3fa22bf.pkl'",
     "output_type": "error",
     "traceback": [
      "\u001b[0;31m---------------------------------------------------------------------------\u001b[0m",
      "\u001b[0;31mFileNotFoundError\u001b[0m                         Traceback (most recent call last)",
      "\u001b[0;32m<ipython-input-7-f0c0e2f7d5c9>\u001b[0m in \u001b[0;36m<module>\u001b[0;34m\u001b[0m\n\u001b[0;32m----> 1\u001b[0;31m \u001b[0mdata\u001b[0m \u001b[0;34m=\u001b[0m \u001b[0mpd\u001b[0m\u001b[0;34m.\u001b[0m\u001b[0mread_pickle\u001b[0m\u001b[0;34m(\u001b[0m\u001b[0;34m'./resources/train/preprocessed_data_67599fa94395b33b7170624bc3fa22bf.pkl'\u001b[0m\u001b[0;34m)\u001b[0m\u001b[0;34m\u001b[0m\u001b[0;34m\u001b[0m\u001b[0m\n\u001b[0m",
      "\u001b[0;32m~/Documents/kaggler/cat-in-the-dat-ii/.venv/lib/python3.7/site-packages/pandas/io/pickle.py\u001b[0m in \u001b[0;36mread_pickle\u001b[0;34m(filepath_or_buffer, compression)\u001b[0m\n\u001b[1;32m    168\u001b[0m     \u001b[0;32mif\u001b[0m \u001b[0;32mnot\u001b[0m \u001b[0misinstance\u001b[0m\u001b[0;34m(\u001b[0m\u001b[0mfp_or_buf\u001b[0m\u001b[0;34m,\u001b[0m \u001b[0mstr\u001b[0m\u001b[0;34m)\u001b[0m \u001b[0;32mand\u001b[0m \u001b[0mcompression\u001b[0m \u001b[0;34m==\u001b[0m \u001b[0;34m\"infer\"\u001b[0m\u001b[0;34m:\u001b[0m\u001b[0;34m\u001b[0m\u001b[0;34m\u001b[0m\u001b[0m\n\u001b[1;32m    169\u001b[0m         \u001b[0mcompression\u001b[0m \u001b[0;34m=\u001b[0m \u001b[0;32mNone\u001b[0m\u001b[0;34m\u001b[0m\u001b[0;34m\u001b[0m\u001b[0m\n\u001b[0;32m--> 170\u001b[0;31m     \u001b[0mf\u001b[0m\u001b[0;34m,\u001b[0m \u001b[0mfh\u001b[0m \u001b[0;34m=\u001b[0m \u001b[0mget_handle\u001b[0m\u001b[0;34m(\u001b[0m\u001b[0mfp_or_buf\u001b[0m\u001b[0;34m,\u001b[0m \u001b[0;34m\"rb\"\u001b[0m\u001b[0;34m,\u001b[0m \u001b[0mcompression\u001b[0m\u001b[0;34m=\u001b[0m\u001b[0mcompression\u001b[0m\u001b[0;34m,\u001b[0m \u001b[0mis_text\u001b[0m\u001b[0;34m=\u001b[0m\u001b[0;32mFalse\u001b[0m\u001b[0;34m)\u001b[0m\u001b[0;34m\u001b[0m\u001b[0;34m\u001b[0m\u001b[0m\n\u001b[0m\u001b[1;32m    171\u001b[0m \u001b[0;34m\u001b[0m\u001b[0m\n\u001b[1;32m    172\u001b[0m     \u001b[0;31m# 1) try standard library Pickle\u001b[0m\u001b[0;34m\u001b[0m\u001b[0;34m\u001b[0m\u001b[0;34m\u001b[0m\u001b[0m\n",
      "\u001b[0;32m~/Documents/kaggler/cat-in-the-dat-ii/.venv/lib/python3.7/site-packages/pandas/io/common.py\u001b[0m in \u001b[0;36mget_handle\u001b[0;34m(path_or_buf, mode, encoding, compression, memory_map, is_text)\u001b[0m\n\u001b[1;32m    432\u001b[0m         \u001b[0;32melse\u001b[0m\u001b[0;34m:\u001b[0m\u001b[0;34m\u001b[0m\u001b[0;34m\u001b[0m\u001b[0m\n\u001b[1;32m    433\u001b[0m             \u001b[0;31m# Binary mode\u001b[0m\u001b[0;34m\u001b[0m\u001b[0;34m\u001b[0m\u001b[0;34m\u001b[0m\u001b[0m\n\u001b[0;32m--> 434\u001b[0;31m             \u001b[0mf\u001b[0m \u001b[0;34m=\u001b[0m \u001b[0mopen\u001b[0m\u001b[0;34m(\u001b[0m\u001b[0mpath_or_buf\u001b[0m\u001b[0;34m,\u001b[0m \u001b[0mmode\u001b[0m\u001b[0;34m)\u001b[0m\u001b[0;34m\u001b[0m\u001b[0;34m\u001b[0m\u001b[0m\n\u001b[0m\u001b[1;32m    435\u001b[0m         \u001b[0mhandles\u001b[0m\u001b[0;34m.\u001b[0m\u001b[0mappend\u001b[0m\u001b[0;34m(\u001b[0m\u001b[0mf\u001b[0m\u001b[0;34m)\u001b[0m\u001b[0;34m\u001b[0m\u001b[0;34m\u001b[0m\u001b[0m\n\u001b[1;32m    436\u001b[0m \u001b[0;34m\u001b[0m\u001b[0m\n",
      "\u001b[0;31mFileNotFoundError\u001b[0m: [Errno 2] No such file or directory: './resources/train/preprocessed_data_67599fa94395b33b7170624bc3fa22bf.pkl'"
     ]
    }
   ],
   "source": [
    "data = pd.read_pickle('./resources/train/preprocessed_data_67599fa94395b33b7170624bc3fa22bf.pkl')"
   ]
  },
  {
   "cell_type": "code",
   "execution_count": null,
   "metadata": {},
   "outputs": [],
   "source": [
    "data.train_X"
   ]
  },
  {
   "cell_type": "code",
   "execution_count": null,
   "metadata": {},
   "outputs": [],
   "source": [
    "dataset = pd.read_pickle('./resources/scripts/feature/dataset/GetDataSet_db2de80f802c5ad0c20bace84dadb5bc.pkl').set_index('id')"
   ]
  },
  {
   "cell_type": "code",
   "execution_count": null,
   "metadata": {},
   "outputs": [],
   "source": [
    "dataset = dataset.convert_dtypes()"
   ]
  },
  {
   "cell_type": "code",
   "execution_count": null,
   "metadata": {},
   "outputs": [],
   "source": [
    "dataset.head(20)"
   ]
  },
  {
   "cell_type": "code",
   "execution_count": null,
   "metadata": {},
   "outputs": [],
   "source": [
    "dataset.columns"
   ]
  },
  {
   "cell_type": "code",
   "execution_count": null,
   "metadata": {},
   "outputs": [],
   "source": [
    "import category_encoders as ce"
   ]
  },
  {
   "cell_type": "code",
   "execution_count": null,
   "metadata": {},
   "outputs": [],
   "source": [
    "encoder = ce.TargetEncoder(cols='bin_0', smoothing=0)"
   ]
  },
  {
   "cell_type": "code",
   "execution_count": null,
   "metadata": {},
   "outputs": [],
   "source": [
    "trn_idx = [1, 8, 9, 10]\n",
    "val_idx = [15, 16, 17, 18, 19, 20]"
   ]
  },
  {
   "cell_type": "code",
   "execution_count": null,
   "metadata": {},
   "outputs": [],
   "source": [
    "encoder.fit(dataset.iloc[trn_idx], dataset['target'].iloc[trn_idx])"
   ]
  },
  {
   "cell_type": "code",
   "execution_count": null,
   "metadata": {},
   "outputs": [],
   "source": [
    "encoder.transform(dataset.iloc[val_idx])"
   ]
  },
  {
   "cell_type": "code",
   "execution_count": null,
   "metadata": {},
   "outputs": [],
   "source": []
  },
  {
   "cell_type": "code",
   "execution_count": null,
   "metadata": {},
   "outputs": [],
   "source": [
    "hoge = pd.read_pickle('./resources/scripts/feature/get_feature/TargetEncode_0a0d328f666ed2fa84ee274de168fe8c.pkl')"
   ]
  },
  {
   "cell_type": "code",
   "execution_count": null,
   "metadata": {},
   "outputs": [],
   "source": [
    "hoge"
   ]
  },
  {
   "cell_type": "code",
   "execution_count": null,
   "metadata": {},
   "outputs": [],
   "source": []
  }
 ],
 "metadata": {
  "kernelspec": {
   "display_name": "Python 3",
   "language": "python",
   "name": "python3"
  },
  "language_info": {
   "codemirror_mode": {
    "name": "ipython",
    "version": 3
   },
   "file_extension": ".py",
   "mimetype": "text/x-python",
   "name": "python",
   "nbconvert_exporter": "python",
   "pygments_lexer": "ipython3",
   "version": "3.7.6"
  }
 },
 "nbformat": 4,
 "nbformat_minor": 4
}
