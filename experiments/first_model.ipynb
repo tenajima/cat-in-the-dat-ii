{
 "cells": [
  {
   "cell_type": "code",
   "execution_count": 1,
   "metadata": {},
   "outputs": [],
   "source": [
    "import luigi\n",
    "import pandas as pd\n",
    "from dotenv import load_dotenv\n",
    "\n",
    "from scripts.train.train import TrainStratifiedKFold, Preprocess\n",
    "from scripts.submit.predict import Predict\n",
    "from scripts.feature.get_feature import GetFeature, Nom0"
   ]
  },
  {
   "cell_type": "code",
   "execution_count": 2,
   "metadata": {},
   "outputs": [],
   "source": [
    "pd.options.display.max_columns = 100"
   ]
  },
  {
   "cell_type": "code",
   "execution_count": 3,
   "metadata": {},
   "outputs": [],
   "source": [
    "%load_ext autoreload\n",
    "%autoreload 2"
   ]
  },
  {
   "cell_type": "code",
   "execution_count": 4,
   "metadata": {},
   "outputs": [
    {
     "data": {
      "text/plain": [
       "True"
      ]
     },
     "execution_count": 4,
     "metadata": {},
     "output_type": "execute_result"
    }
   ],
   "source": [
    "load_dotenv()"
   ]
  },
  {
   "cell_type": "code",
   "execution_count": 5,
   "metadata": {},
   "outputs": [
    {
     "name": "stderr",
     "output_type": "stream",
     "text": [
      "2020-02-21 00:25:45,793 INFO luigi : logging configured by default settings\n",
      "DEBUG: Checking if GetFeature(features=[]) is complete\n",
      "2020-02-21 00:25:45,804 DEBUG luigi-interface : Checking if GetFeature(features=[]) is complete\n",
      "INFO: Informed scheduler that task   GetFeature____083ddcb1e0   has status   DONE\n",
      "2020-02-21 00:25:45,895 INFO luigi-interface : Informed scheduler that task   GetFeature____083ddcb1e0   has status   DONE\n",
      "INFO: Done scheduling tasks\n",
      "2020-02-21 00:25:45,897 INFO luigi-interface : Done scheduling tasks\n",
      "INFO: Running Worker with 1 processes\n",
      "2020-02-21 00:25:45,899 INFO luigi-interface : Running Worker with 1 processes\n",
      "DEBUG: Asking scheduler for work...\n",
      "2020-02-21 00:25:45,900 DEBUG luigi-interface : Asking scheduler for work...\n",
      "DEBUG: Done\n",
      "2020-02-21 00:25:45,903 DEBUG luigi-interface : Done\n",
      "DEBUG: There are no more tasks to run at this time\n",
      "2020-02-21 00:25:45,906 DEBUG luigi-interface : There are no more tasks to run at this time\n",
      "INFO: Worker Worker(salt=967449628, workers=1, host=tenajimachine, username=yuto, pid=61649) was stopped. Shutting down Keep-Alive thread\n",
      "2020-02-21 00:25:45,914 INFO luigi-interface : Worker Worker(salt=967449628, workers=1, host=tenajimachine, username=yuto, pid=61649) was stopped. Shutting down Keep-Alive thread\n",
      "INFO: \n",
      "===== Luigi Execution Summary =====\n",
      "\n",
      "Scheduled 1 tasks of which:\n",
      "* 1 complete ones were encountered:\n",
      "    - 1 GetFeature(...)\n",
      "\n",
      "Did not run any tasks\n",
      "This progress looks :) because there were no failed tasks or missing dependencies\n",
      "\n",
      "===== Luigi Execution Summary =====\n",
      "\n",
      "2020-02-21 00:25:45,924 INFO luigi-interface : \n",
      "===== Luigi Execution Summary =====\n",
      "\n",
      "Scheduled 1 tasks of which:\n",
      "* 1 complete ones were encountered:\n",
      "    - 1 GetFeature(...)\n",
      "\n",
      "Did not run any tasks\n",
      "This progress looks :) because there were no failed tasks or missing dependencies\n",
      "\n",
      "===== Luigi Execution Summary =====\n",
      "\n"
     ]
    },
    {
     "data": {
      "text/plain": [
       "True"
      ]
     },
     "execution_count": 5,
     "metadata": {},
     "output_type": "execute_result"
    }
   ],
   "source": [
    "luigi.build([GetFeature()], local_scheduler=True)"
   ]
  },
  {
   "cell_type": "code",
   "execution_count": 7,
   "metadata": {},
   "outputs": [
    {
     "name": "stderr",
     "output_type": "stream",
     "text": [
      "2020-02-21 00:27:01,070 INFO luigi : logging already configured\n",
      "DEBUG: Checking if Predict(random_state=110) is complete\n",
      "2020-02-21 00:27:01,082 DEBUG luigi-interface : Checking if Predict(random_state=110) is complete\n",
      "DEBUG: Checking if Preprocess(use_columns=[], drop_columns=[]) is complete\n",
      "2020-02-21 00:27:01,092 DEBUG luigi-interface : Checking if Preprocess(use_columns=[], drop_columns=[]) is complete\n",
      "DEBUG: Checking if TrainStratifiedKFold(random_state=110, params={\"objective\": \"binary\", \"learning_rates\": 0.1, \"metric\": \"auc\", \"num_leaves\": 32, \"min_data_in_leaf\": 32, \"max_depth\": 8}, model_type=lgb) is complete\n",
      "2020-02-21 00:27:01,121 DEBUG luigi-interface : Checking if TrainStratifiedKFold(random_state=110, params={\"objective\": \"binary\", \"learning_rates\": 0.1, \"metric\": \"auc\", \"num_leaves\": 32, \"min_data_in_leaf\": 32, \"max_depth\": 8}, model_type=lgb) is complete\n",
      "INFO: Informed scheduler that task   Predict_110_fadd22deb8   has status   PENDING\n",
      "2020-02-21 00:27:01,134 INFO luigi-interface : Informed scheduler that task   Predict_110_fadd22deb8   has status   PENDING\n",
      "INFO: Informed scheduler that task   TrainStratifiedKFold_lgb___objective____b_110_c0bffd8ccc   has status   PENDING\n",
      "2020-02-21 00:27:01,149 INFO luigi-interface : Informed scheduler that task   TrainStratifiedKFold_lgb___objective____b_110_c0bffd8ccc   has status   PENDING\n",
      "DEBUG: Checking if GetFold(fold_type=sf, n_splits=5, random_state=110, shuffle=True) is complete\n",
      "2020-02-21 00:27:01,153 DEBUG luigi-interface : Checking if GetFold(fold_type=sf, n_splits=5, random_state=110, shuffle=True) is complete\n",
      "DEBUG: Checking if GetFeature(features=[]) is complete\n",
      "2020-02-21 00:27:01,156 DEBUG luigi-interface : Checking if GetFeature(features=[]) is complete\n",
      "INFO: Informed scheduler that task   Preprocess_______eba3f946ba   has status   PENDING\n",
      "2020-02-21 00:27:01,159 INFO luigi-interface : Informed scheduler that task   Preprocess_______eba3f946ba   has status   PENDING\n",
      "INFO: Informed scheduler that task   GetFeature____083ddcb1e0   has status   DONE\n",
      "2020-02-21 00:27:01,162 INFO luigi-interface : Informed scheduler that task   GetFeature____083ddcb1e0   has status   DONE\n",
      "INFO: Informed scheduler that task   GetFold_sf_5_110_7d7f86b4f4   has status   PENDING\n",
      "2020-02-21 00:27:01,165 INFO luigi-interface : Informed scheduler that task   GetFold_sf_5_110_7d7f86b4f4   has status   PENDING\n",
      "INFO: Done scheduling tasks\n",
      "2020-02-21 00:27:01,167 INFO luigi-interface : Done scheduling tasks\n",
      "INFO: Running Worker with 1 processes\n",
      "2020-02-21 00:27:01,170 INFO luigi-interface : Running Worker with 1 processes\n",
      "DEBUG: Asking scheduler for work...\n",
      "2020-02-21 00:27:01,173 DEBUG luigi-interface : Asking scheduler for work...\n",
      "DEBUG: Pending tasks: 4\n",
      "2020-02-21 00:27:01,175 DEBUG luigi-interface : Pending tasks: 4\n",
      "INFO: [pid 61649] Worker Worker(salt=304891286, workers=1, host=tenajimachine, username=yuto, pid=61649) running   GetFold(fold_type=sf, n_splits=5, random_state=110, shuffle=True)\n",
      "2020-02-21 00:27:01,176 INFO luigi-interface : [pid 61649] Worker Worker(salt=304891286, workers=1, host=tenajimachine, username=yuto, pid=61649) running   GetFold(fold_type=sf, n_splits=5, random_state=110, shuffle=True)\n",
      "2020-02-21 00:27:01,179 INFO gokart.file_processor : writing a file with total_bytes=86...\n",
      "2020-02-21 00:27:01,180 INFO gokart.file_processor : writing bytes [0, 86)\n",
      "2020-02-21 00:27:01,181 INFO gokart.file_processor : done\n",
      "2020-02-21 00:27:01,196 INFO gokart.file_processor : writing a file with total_bytes=114...\n",
      "2020-02-21 00:27:01,197 INFO gokart.file_processor : writing bytes [0, 114)\n",
      "2020-02-21 00:27:01,198 INFO gokart.file_processor : done\n",
      "2020-02-21 00:27:01,202 INFO gokart.file_processor : writing a file with total_bytes=21...\n",
      "2020-02-21 00:27:01,203 INFO gokart.file_processor : writing bytes [0, 21)\n",
      "2020-02-21 00:27:01,204 INFO gokart.file_processor : done\n",
      "INFO: [pid 61649] Worker Worker(salt=304891286, workers=1, host=tenajimachine, username=yuto, pid=61649) done      GetFold(fold_type=sf, n_splits=5, random_state=110, shuffle=True)\n",
      "2020-02-21 00:27:01,206 INFO luigi-interface : [pid 61649] Worker Worker(salt=304891286, workers=1, host=tenajimachine, username=yuto, pid=61649) done      GetFold(fold_type=sf, n_splits=5, random_state=110, shuffle=True)\n",
      "2020-02-21 00:27:01,210 INFO gokart.file_processor : writing a file with total_bytes=108...\n",
      "2020-02-21 00:27:01,212 INFO gokart.file_processor : writing bytes [0, 108)\n",
      "2020-02-21 00:27:01,213 INFO gokart.file_processor : done\n",
      "DEBUG: 1 running tasks, waiting for next task to finish\n",
      "2020-02-21 00:27:01,216 DEBUG luigi-interface : 1 running tasks, waiting for next task to finish\n",
      "INFO: Informed scheduler that task   GetFold_sf_5_110_7d7f86b4f4   has status   DONE\n",
      "2020-02-21 00:27:01,218 INFO luigi-interface : Informed scheduler that task   GetFold_sf_5_110_7d7f86b4f4   has status   DONE\n",
      "DEBUG: Asking scheduler for work...\n",
      "2020-02-21 00:27:01,220 DEBUG luigi-interface : Asking scheduler for work...\n",
      "DEBUG: Pending tasks: 3\n",
      "2020-02-21 00:27:01,222 DEBUG luigi-interface : Pending tasks: 3\n",
      "INFO: [pid 61649] Worker Worker(salt=304891286, workers=1, host=tenajimachine, username=yuto, pid=61649) running   Preprocess(use_columns=[], drop_columns=[])\n",
      "2020-02-21 00:27:01,225 INFO luigi-interface : [pid 61649] Worker Worker(salt=304891286, workers=1, host=tenajimachine, username=yuto, pid=61649) running   Preprocess(use_columns=[], drop_columns=[])\n",
      "2020-02-21 00:27:01,233 INFO gokart.file_processor : writing a file with total_bytes=52...\n",
      "2020-02-21 00:27:01,233 INFO gokart.file_processor : writing bytes [0, 52)\n",
      "2020-02-21 00:27:01,235 INFO gokart.file_processor : done\n",
      "2020-02-21 00:27:06,771 INFO gokart.file_processor : writing a file with total_bytes=431610777...\n",
      "2020-02-21 00:27:06,772 INFO gokart.file_processor : writing bytes [0, 431610777)\n",
      "2020-02-21 00:27:07,098 INFO gokart.file_processor : done\n",
      "2020-02-21 00:27:07,258 INFO gokart.file_processor : writing a file with total_bytes=21...\n",
      "2020-02-21 00:27:07,259 INFO gokart.file_processor : writing bytes [0, 21)\n",
      "2020-02-21 00:27:07,259 INFO gokart.file_processor : done\n",
      "INFO: [pid 61649] Worker Worker(salt=304891286, workers=1, host=tenajimachine, username=yuto, pid=61649) done      Preprocess(use_columns=[], drop_columns=[])\n",
      "2020-02-21 00:27:07,261 INFO luigi-interface : [pid 61649] Worker Worker(salt=304891286, workers=1, host=tenajimachine, username=yuto, pid=61649) done      Preprocess(use_columns=[], drop_columns=[])\n",
      "2020-02-21 00:27:07,265 INFO gokart.file_processor : writing a file with total_bytes=107...\n",
      "2020-02-21 00:27:07,266 INFO gokart.file_processor : writing bytes [0, 107)\n",
      "2020-02-21 00:27:07,268 INFO gokart.file_processor : done\n",
      "DEBUG: 1 running tasks, waiting for next task to finish\n",
      "2020-02-21 00:27:07,270 DEBUG luigi-interface : 1 running tasks, waiting for next task to finish\n",
      "INFO: Informed scheduler that task   Preprocess_______eba3f946ba   has status   DONE\n",
      "2020-02-21 00:27:07,275 INFO luigi-interface : Informed scheduler that task   Preprocess_______eba3f946ba   has status   DONE\n",
      "DEBUG: Asking scheduler for work...\n",
      "2020-02-21 00:27:07,290 DEBUG luigi-interface : Asking scheduler for work...\n",
      "DEBUG: Pending tasks: 2\n",
      "2020-02-21 00:27:07,293 DEBUG luigi-interface : Pending tasks: 2\n",
      "INFO: [pid 61649] Worker Worker(salt=304891286, workers=1, host=tenajimachine, username=yuto, pid=61649) running   TrainStratifiedKFold(random_state=110, params={\"objective\": \"binary\", \"learning_rates\": 0.1, \"metric\": \"auc\", \"num_leaves\": 32, \"min_data_in_leaf\": 32, \"max_depth\": 8}, model_type=lgb)\n",
      "2020-02-21 00:27:07,299 INFO luigi-interface : [pid 61649] Worker Worker(salt=304891286, workers=1, host=tenajimachine, username=yuto, pid=61649) running   TrainStratifiedKFold(random_state=110, params={\"objective\": \"binary\", \"learning_rates\": 0.1, \"metric\": \"auc\", \"num_leaves\": 32, \"min_data_in_leaf\": 32, \"max_depth\": 8}, model_type=lgb)\n",
      "2020-02-21 00:27:07,324 INFO gokart.file_processor : writing a file with total_bytes=189...\n",
      "2020-02-21 00:27:07,330 INFO gokart.file_processor : writing bytes [0, 189)\n",
      "2020-02-21 00:27:07,334 INFO gokart.file_processor : done\n",
      "2020-02-21 00:27:07,873 INFO scripts.model.model_lightgbm : train 1th model\n"
     ]
    },
    {
     "name": "stdout",
     "output_type": "stream",
     "text": [
      "Training until validation scores don't improve for 100 rounds\n",
      "[100]\ttraining's auc: 0.77054\tvalid_1's auc: 0.76002\n",
      "[200]\ttraining's auc: 0.784024\tvalid_1's auc: 0.766376\n",
      "[300]\ttraining's auc: 0.793431\tvalid_1's auc: 0.768402\n",
      "[400]\ttraining's auc: 0.801613\tvalid_1's auc: 0.770059\n",
      "[500]\ttraining's auc: 0.808597\tvalid_1's auc: 0.770847\n",
      "[600]\ttraining's auc: 0.814764\tvalid_1's auc: 0.771153\n",
      "Early stopping, best iteration is:\n",
      "[557]\ttraining's auc: 0.812228\tvalid_1's auc: 0.77123\n"
     ]
    },
    {
     "name": "stderr",
     "output_type": "stream",
     "text": [
      "2020-02-21 00:28:11,740 INFO scripts.model.model_lightgbm : train 2th model\n"
     ]
    },
    {
     "name": "stdout",
     "output_type": "stream",
     "text": [
      "Training until validation scores don't improve for 100 rounds\n",
      "[100]\ttraining's auc: 0.770205\tvalid_1's auc: 0.761283\n",
      "[200]\ttraining's auc: 0.784159\tvalid_1's auc: 0.768011\n",
      "[300]\ttraining's auc: 0.793608\tvalid_1's auc: 0.770146\n",
      "[400]\ttraining's auc: 0.801258\tvalid_1's auc: 0.771197\n",
      "[500]\ttraining's auc: 0.808518\tvalid_1's auc: 0.772159\n",
      "[600]\ttraining's auc: 0.814971\tvalid_1's auc: 0.772644\n"
     ]
    },
    {
     "name": "stderr",
     "output_type": "stream",
     "text": [
      "2020-02-21 00:29:21,780 INFO scripts.model.model_lightgbm : train 3th model\n"
     ]
    },
    {
     "name": "stdout",
     "output_type": "stream",
     "text": [
      "Early stopping, best iteration is:\n",
      "[595]\ttraining's auc: 0.814662\tvalid_1's auc: 0.77267\n",
      "Training until validation scores don't improve for 100 rounds\n",
      "[100]\ttraining's auc: 0.769864\tvalid_1's auc: 0.760489\n",
      "[200]\ttraining's auc: 0.783569\tvalid_1's auc: 0.767161\n",
      "[300]\ttraining's auc: 0.793177\tvalid_1's auc: 0.769926\n",
      "[400]\ttraining's auc: 0.801254\tvalid_1's auc: 0.771357\n",
      "[500]\ttraining's auc: 0.808156\tvalid_1's auc: 0.771757\n",
      "[600]\ttraining's auc: 0.814311\tvalid_1's auc: 0.772089\n",
      "[700]\ttraining's auc: 0.820451\tvalid_1's auc: 0.771977\n"
     ]
    },
    {
     "name": "stderr",
     "output_type": "stream",
     "text": [
      "2020-02-21 00:30:29,925 INFO scripts.model.model_lightgbm : train 4th model\n"
     ]
    },
    {
     "name": "stdout",
     "output_type": "stream",
     "text": [
      "Early stopping, best iteration is:\n",
      "[666]\ttraining's auc: 0.81844\tvalid_1's auc: 0.772148\n",
      "Training until validation scores don't improve for 100 rounds\n",
      "[100]\ttraining's auc: 0.77018\tvalid_1's auc: 0.757341\n",
      "[200]\ttraining's auc: 0.783763\tvalid_1's auc: 0.764115\n",
      "[300]\ttraining's auc: 0.793602\tvalid_1's auc: 0.766892\n",
      "[400]\ttraining's auc: 0.801519\tvalid_1's auc: 0.768068\n",
      "[500]\ttraining's auc: 0.808595\tvalid_1's auc: 0.768891\n",
      "[600]\ttraining's auc: 0.815108\tvalid_1's auc: 0.768953\n"
     ]
    },
    {
     "name": "stderr",
     "output_type": "stream",
     "text": [
      "2020-02-21 00:31:30,094 INFO scripts.model.model_lightgbm : train 5th model\n"
     ]
    },
    {
     "name": "stdout",
     "output_type": "stream",
     "text": [
      "Early stopping, best iteration is:\n",
      "[566]\ttraining's auc: 0.813098\tvalid_1's auc: 0.769204\n",
      "Training until validation scores don't improve for 100 rounds\n",
      "[100]\ttraining's auc: 0.770376\tvalid_1's auc: 0.76151\n",
      "[200]\ttraining's auc: 0.783616\tvalid_1's auc: 0.768229\n",
      "[300]\ttraining's auc: 0.793047\tvalid_1's auc: 0.770805\n",
      "[400]\ttraining's auc: 0.800595\tvalid_1's auc: 0.77203\n",
      "[500]\ttraining's auc: 0.807748\tvalid_1's auc: 0.772859\n",
      "[600]\ttraining's auc: 0.813782\tvalid_1's auc: 0.772889\n",
      "[700]\ttraining's auc: 0.819848\tvalid_1's auc: 0.773368\n",
      "[800]\ttraining's auc: 0.82556\tvalid_1's auc: 0.773308\n",
      "Early stopping, best iteration is:\n",
      "[728]\ttraining's auc: 0.821441\tvalid_1's auc: 0.773447\n"
     ]
    },
    {
     "name": "stderr",
     "output_type": "stream",
     "text": [
      "2020-02-21 00:33:11,020 INFO scripts.utils : delete ./tmp_model_1_fold.pkl ...\n",
      "2020-02-21 00:33:11,021 INFO scripts.utils : delete ./tmp_model_4_fold.pkl ...\n",
      "2020-02-21 00:33:11,023 INFO scripts.utils : delete ./tmp_model_5_fold.pkl ...\n",
      "2020-02-21 00:33:11,025 INFO scripts.utils : delete ./tmp_model_3_fold.pkl ...\n",
      "2020-02-21 00:33:11,026 INFO scripts.utils : delete ./tmp_model_2_fold.pkl ...\n",
      "2020-02-21 00:33:11,657 INFO gokart.file_processor : writing a file with total_bytes=11208349...\n",
      "2020-02-21 00:33:11,659 INFO gokart.file_processor : writing bytes [0, 11208349)\n",
      "2020-02-21 00:33:11,666 INFO gokart.file_processor : done\n",
      "2020-02-21 00:33:11,709 INFO gokart.file_processor : writing a file with total_bytes=21...\n",
      "2020-02-21 00:33:11,710 INFO gokart.file_processor : writing bytes [0, 21)\n",
      "2020-02-21 00:33:11,711 INFO gokart.file_processor : done\n",
      "INFO: [pid 61649] Worker Worker(salt=304891286, workers=1, host=tenajimachine, username=yuto, pid=61649) done      TrainStratifiedKFold(random_state=110, params={\"objective\": \"binary\", \"learning_rates\": 0.1, \"metric\": \"auc\", \"num_leaves\": 32, \"min_data_in_leaf\": 32, \"max_depth\": 8}, model_type=lgb)\n",
      "2020-02-21 00:33:11,713 INFO luigi-interface : [pid 61649] Worker Worker(salt=304891286, workers=1, host=tenajimachine, username=yuto, pid=61649) done      TrainStratifiedKFold(random_state=110, params={\"objective\": \"binary\", \"learning_rates\": 0.1, \"metric\": \"auc\", \"num_leaves\": 32, \"min_data_in_leaf\": 32, \"max_depth\": 8}, model_type=lgb)\n",
      "2020-02-21 00:33:11,717 INFO gokart.file_processor : writing a file with total_bytes=96...\n",
      "2020-02-21 00:33:11,718 INFO gokart.file_processor : writing bytes [0, 96)\n",
      "2020-02-21 00:33:11,719 INFO gokart.file_processor : done\n",
      "DEBUG: 1 running tasks, waiting for next task to finish\n",
      "2020-02-21 00:33:11,723 DEBUG luigi-interface : 1 running tasks, waiting for next task to finish\n",
      "INFO: Informed scheduler that task   TrainStratifiedKFold_lgb___objective____b_110_c0bffd8ccc   has status   DONE\n",
      "2020-02-21 00:33:11,726 INFO luigi-interface : Informed scheduler that task   TrainStratifiedKFold_lgb___objective____b_110_c0bffd8ccc   has status   DONE\n",
      "DEBUG: Asking scheduler for work...\n",
      "2020-02-21 00:33:11,728 DEBUG luigi-interface : Asking scheduler for work...\n",
      "DEBUG: Pending tasks: 1\n",
      "2020-02-21 00:33:11,730 DEBUG luigi-interface : Pending tasks: 1\n",
      "INFO: [pid 61649] Worker Worker(salt=304891286, workers=1, host=tenajimachine, username=yuto, pid=61649) running   Predict(random_state=110)\n",
      "2020-02-21 00:33:11,732 INFO luigi-interface : [pid 61649] Worker Worker(salt=304891286, workers=1, host=tenajimachine, username=yuto, pid=61649) running   Predict(random_state=110)\n",
      "2020-02-21 00:33:11,740 INFO gokart.file_processor : writing a file with total_bytes=36...\n",
      "2020-02-21 00:33:11,741 INFO gokart.file_processor : writing bytes [0, 36)\n",
      "2020-02-21 00:33:11,742 INFO gokart.file_processor : done\n"
     ]
    },
    {
     "name": "stdout",
     "output_type": "stream",
     "text": [
      "          target\n",
      "id              \n",
      "600000  0.203124\n",
      "600001  0.234453\n",
      "600002  0.184666\n",
      "600003  0.117676\n",
      "600004  0.179090\n"
     ]
    },
    {
     "name": "stderr",
     "output_type": "stream",
     "text": [
      "2020-02-21 00:34:03,506 INFO gokart.file_processor : writing a file with total_bytes=21...\n",
      "2020-02-21 00:34:03,507 INFO gokart.file_processor : writing bytes [0, 21)\n",
      "2020-02-21 00:34:03,507 INFO gokart.file_processor : done\n",
      "INFO: [pid 61649] Worker Worker(salt=304891286, workers=1, host=tenajimachine, username=yuto, pid=61649) done      Predict(random_state=110)\n",
      "2020-02-21 00:34:03,509 INFO luigi-interface : [pid 61649] Worker Worker(salt=304891286, workers=1, host=tenajimachine, username=yuto, pid=61649) done      Predict(random_state=110)\n",
      "2020-02-21 00:34:03,513 INFO gokart.file_processor : writing a file with total_bytes=334...\n",
      "2020-02-21 00:34:03,516 INFO gokart.file_processor : writing bytes [0, 334)\n",
      "2020-02-21 00:34:03,519 INFO gokart.file_processor : done\n",
      "DEBUG: 1 running tasks, waiting for next task to finish\n",
      "2020-02-21 00:34:03,522 DEBUG luigi-interface : 1 running tasks, waiting for next task to finish\n",
      "INFO: Informed scheduler that task   Predict_110_fadd22deb8   has status   DONE\n",
      "2020-02-21 00:34:03,535 INFO luigi-interface : Informed scheduler that task   Predict_110_fadd22deb8   has status   DONE\n",
      "DEBUG: Asking scheduler for work...\n",
      "2020-02-21 00:34:03,538 DEBUG luigi-interface : Asking scheduler for work...\n",
      "DEBUG: Done\n",
      "2020-02-21 00:34:03,542 DEBUG luigi-interface : Done\n",
      "DEBUG: There are no more tasks to run at this time\n",
      "2020-02-21 00:34:03,550 DEBUG luigi-interface : There are no more tasks to run at this time\n",
      "INFO: Worker Worker(salt=304891286, workers=1, host=tenajimachine, username=yuto, pid=61649) was stopped. Shutting down Keep-Alive thread\n",
      "2020-02-21 00:34:03,556 INFO luigi-interface : Worker Worker(salt=304891286, workers=1, host=tenajimachine, username=yuto, pid=61649) was stopped. Shutting down Keep-Alive thread\n",
      "INFO: \n",
      "===== Luigi Execution Summary =====\n",
      "\n",
      "Scheduled 5 tasks of which:\n",
      "* 1 complete ones were encountered:\n",
      "    - 1 GetFeature(...)\n",
      "* 4 ran successfully:\n",
      "    - 1 GetFold(...)\n",
      "    - 1 Predict(...)\n",
      "    - 1 Preprocess(...)\n",
      "    - 1 TrainStratifiedKFold(...)\n",
      "\n",
      "This progress looks :) because there were no failed tasks or missing dependencies\n",
      "\n",
      "===== Luigi Execution Summary =====\n",
      "\n",
      "2020-02-21 00:34:03,574 INFO luigi-interface : \n",
      "===== Luigi Execution Summary =====\n",
      "\n",
      "Scheduled 5 tasks of which:\n",
      "* 1 complete ones were encountered:\n",
      "    - 1 GetFeature(...)\n",
      "* 4 ran successfully:\n",
      "    - 1 GetFold(...)\n",
      "    - 1 Predict(...)\n",
      "    - 1 Preprocess(...)\n",
      "    - 1 TrainStratifiedKFold(...)\n",
      "\n",
      "This progress looks :) because there were no failed tasks or missing dependencies\n",
      "\n",
      "===== Luigi Execution Summary =====\n",
      "\n"
     ]
    },
    {
     "data": {
      "text/plain": [
       "True"
      ]
     },
     "execution_count": 7,
     "metadata": {},
     "output_type": "execute_result"
    }
   ],
   "source": [
    "luigi.build([Predict()], local_scheduler=True)"
   ]
  },
  {
   "cell_type": "code",
   "execution_count": null,
   "metadata": {},
   "outputs": [],
   "source": [
    "data = pd.read_pickle('./resources/train/preprocessed_data_67599fa94395b33b7170624bc3fa22bf.pkl')"
   ]
  },
  {
   "cell_type": "code",
   "execution_count": null,
   "metadata": {},
   "outputs": [],
   "source": [
    "data.train_X"
   ]
  },
  {
   "cell_type": "code",
   "execution_count": null,
   "metadata": {},
   "outputs": [],
   "source": [
    "hoge = pd.read_pickle('./resources/scripts/')"
   ]
  }
 ],
 "metadata": {
  "kernelspec": {
   "display_name": "Python 3",
   "language": "python",
   "name": "python3"
  },
  "language_info": {
   "codemirror_mode": {
    "name": "ipython",
    "version": 3
   },
   "file_extension": ".py",
   "mimetype": "text/x-python",
   "name": "python",
   "nbconvert_exporter": "python",
   "pygments_lexer": "ipython3",
   "version": "3.7.6"
  }
 },
 "nbformat": 4,
 "nbformat_minor": 4
}
