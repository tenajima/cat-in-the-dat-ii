{
 "cells": [
  {
   "cell_type": "code",
   "execution_count": 1,
   "metadata": {},
   "outputs": [],
   "source": [
    "import luigi\n",
    "import pandas as pd\n",
    "from dotenv import load_dotenv\n",
    "\n",
    "from scripts.train.train import TrainStratifiedKFold, Preprocess\n",
    "from scripts.submit.predict import Predict\n",
    "from scripts.feature.get_feature import GetFeature, TargetEncode\n",
    "from scripts.train.tuning import TuningLGB"
   ]
  },
  {
   "cell_type": "code",
   "execution_count": 2,
   "metadata": {},
   "outputs": [],
   "source": [
    "pd.options.display.max_columns = 100"
   ]
  },
  {
   "cell_type": "code",
   "execution_count": 3,
   "metadata": {},
   "outputs": [],
   "source": [
    "%load_ext autoreload\n",
    "%autoreload 2"
   ]
  },
  {
   "cell_type": "code",
   "execution_count": 4,
   "metadata": {},
   "outputs": [
    {
     "data": {
      "text/plain": [
       "True"
      ]
     },
     "execution_count": 4,
     "metadata": {},
     "output_type": "execute_result"
    }
   ],
   "source": [
    "load_dotenv()"
   ]
  },
  {
   "cell_type": "code",
   "execution_count": 5,
   "metadata": {},
   "outputs": [
    {
     "name": "stderr",
     "output_type": "stream",
     "text": [
      "2020-02-23 17:50:31,376 INFO luigi : logging configured by default settings\n",
      "DEBUG: Checking if TuningLGB(random_state=110) is complete\n",
      "2020-02-23 17:50:31,381 DEBUG luigi-interface : Checking if TuningLGB(random_state=110) is complete\n",
      "INFO: Informed scheduler that task   TuningLGB_110_fadd22deb8   has status   DONE\n",
      "2020-02-23 17:50:31,468 INFO luigi-interface : Informed scheduler that task   TuningLGB_110_fadd22deb8   has status   DONE\n",
      "INFO: Done scheduling tasks\n",
      "2020-02-23 17:50:31,472 INFO luigi-interface : Done scheduling tasks\n",
      "INFO: Running Worker with 1 processes\n",
      "2020-02-23 17:50:31,479 INFO luigi-interface : Running Worker with 1 processes\n",
      "DEBUG: Asking scheduler for work...\n",
      "2020-02-23 17:50:31,485 DEBUG luigi-interface : Asking scheduler for work...\n",
      "DEBUG: Done\n",
      "2020-02-23 17:50:31,488 DEBUG luigi-interface : Done\n",
      "DEBUG: There are no more tasks to run at this time\n",
      "2020-02-23 17:50:31,499 DEBUG luigi-interface : There are no more tasks to run at this time\n",
      "INFO: Worker Worker(salt=074826960, workers=1, host=tenajimachine, username=yuto, pid=57187) was stopped. Shutting down Keep-Alive thread\n",
      "2020-02-23 17:50:31,508 INFO luigi-interface : Worker Worker(salt=074826960, workers=1, host=tenajimachine, username=yuto, pid=57187) was stopped. Shutting down Keep-Alive thread\n",
      "INFO: \n",
      "===== Luigi Execution Summary =====\n",
      "\n",
      "Scheduled 1 tasks of which:\n",
      "* 1 complete ones were encountered:\n",
      "    - 1 TuningLGB(...)\n",
      "\n",
      "Did not run any tasks\n",
      "This progress looks :) because there were no failed tasks or missing dependencies\n",
      "\n",
      "===== Luigi Execution Summary =====\n",
      "\n",
      "2020-02-23 17:50:31,512 INFO luigi-interface : \n",
      "===== Luigi Execution Summary =====\n",
      "\n",
      "Scheduled 1 tasks of which:\n",
      "* 1 complete ones were encountered:\n",
      "    - 1 TuningLGB(...)\n",
      "\n",
      "Did not run any tasks\n",
      "This progress looks :) because there were no failed tasks or missing dependencies\n",
      "\n",
      "===== Luigi Execution Summary =====\n",
      "\n"
     ]
    },
    {
     "data": {
      "text/plain": [
       "True"
      ]
     },
     "execution_count": 5,
     "metadata": {},
     "output_type": "execute_result"
    }
   ],
   "source": [
    "luigi.build([TuningLGB()], local_scheduler=True)"
   ]
  },
  {
   "cell_type": "code",
   "execution_count": 6,
   "metadata": {},
   "outputs": [
    {
     "data": {
      "text/plain": [
       "{'lambda_l1': 0.010078389989467947,\n",
       " 'lambda_l2': 4.5248331776487917e-07,\n",
       " 'num_leaves': 3,\n",
       " 'feature_fraction': 0.4,\n",
       " 'bagging_fraction': 0.969148612680824,\n",
       " 'bagging_freq': 3,\n",
       " 'min_child_samples': 20}"
      ]
     },
     "execution_count": 6,
     "metadata": {},
     "output_type": "execute_result"
    }
   ],
   "source": [
    "pd.read_pickle('./resources/scripts/train/tuning/TuningLGB_dc577e07ed4e54ef8fcb48cfa6c831fd.pkl')['best_params']"
   ]
  },
  {
   "cell_type": "code",
   "execution_count": 7,
   "metadata": {},
   "outputs": [
    {
     "name": "stderr",
     "output_type": "stream",
     "text": [
      "2020-02-23 17:50:31,884 INFO luigi : logging already configured\n",
      "DEBUG: Checking if GetFeature(features=[]) is complete\n",
      "2020-02-23 17:50:31,897 DEBUG luigi-interface : Checking if GetFeature(features=[]) is complete\n",
      "INFO: Informed scheduler that task   GetFeature____083ddcb1e0   has status   DONE\n",
      "2020-02-23 17:50:31,952 INFO luigi-interface : Informed scheduler that task   GetFeature____083ddcb1e0   has status   DONE\n",
      "INFO: Done scheduling tasks\n",
      "2020-02-23 17:50:31,974 INFO luigi-interface : Done scheduling tasks\n",
      "INFO: Running Worker with 1 processes\n",
      "2020-02-23 17:50:31,977 INFO luigi-interface : Running Worker with 1 processes\n",
      "DEBUG: Asking scheduler for work...\n",
      "2020-02-23 17:50:31,981 DEBUG luigi-interface : Asking scheduler for work...\n",
      "DEBUG: Done\n",
      "2020-02-23 17:50:31,987 DEBUG luigi-interface : Done\n",
      "DEBUG: There are no more tasks to run at this time\n",
      "2020-02-23 17:50:31,989 DEBUG luigi-interface : There are no more tasks to run at this time\n",
      "INFO: Worker Worker(salt=148717154, workers=1, host=tenajimachine, username=yuto, pid=57187) was stopped. Shutting down Keep-Alive thread\n",
      "2020-02-23 17:50:31,992 INFO luigi-interface : Worker Worker(salt=148717154, workers=1, host=tenajimachine, username=yuto, pid=57187) was stopped. Shutting down Keep-Alive thread\n",
      "INFO: \n",
      "===== Luigi Execution Summary =====\n",
      "\n",
      "Scheduled 1 tasks of which:\n",
      "* 1 complete ones were encountered:\n",
      "    - 1 GetFeature(...)\n",
      "\n",
      "Did not run any tasks\n",
      "This progress looks :) because there were no failed tasks or missing dependencies\n",
      "\n",
      "===== Luigi Execution Summary =====\n",
      "\n",
      "2020-02-23 17:50:31,996 INFO luigi-interface : \n",
      "===== Luigi Execution Summary =====\n",
      "\n",
      "Scheduled 1 tasks of which:\n",
      "* 1 complete ones were encountered:\n",
      "    - 1 GetFeature(...)\n",
      "\n",
      "Did not run any tasks\n",
      "This progress looks :) because there were no failed tasks or missing dependencies\n",
      "\n",
      "===== Luigi Execution Summary =====\n",
      "\n"
     ]
    },
    {
     "data": {
      "text/plain": [
       "True"
      ]
     },
     "execution_count": 7,
     "metadata": {},
     "output_type": "execute_result"
    }
   ],
   "source": [
    "luigi.build([GetFeature()], local_scheduler=True)"
   ]
  },
  {
   "cell_type": "code",
   "execution_count": 8,
   "metadata": {},
   "outputs": [
    {
     "name": "stderr",
     "output_type": "stream",
     "text": [
      "2020-02-23 17:50:32,098 INFO luigi : logging already configured\n",
      "DEBUG: Checking if Predict(random_state=110) is complete\n",
      "2020-02-23 17:50:32,106 DEBUG luigi-interface : Checking if Predict(random_state=110) is complete\n",
      "DEBUG: Checking if Preprocess(use_columns=[], drop_columns=[]) is complete\n",
      "2020-02-23 17:50:32,135 DEBUG luigi-interface : Checking if Preprocess(use_columns=[], drop_columns=[]) is complete\n",
      "DEBUG: Checking if TrainStratifiedKFold(random_state=110, params={\"objective\": \"binary\", \"learning_rates\": 0.01, \"metric\": \"binary\", \"lambda_l1\": 0.010078389989467947, \"lambda_l2\": 4.5248331776487917e-07, \"num_leaves\": 3, \"feature_fraction\": 0.4, \"bagging_fraction\": 0.969148612680824, \"bagging_freq\": 3, \"min_child_samples\": 20}, model_type=lgb) is complete\n",
      "2020-02-23 17:50:32,145 DEBUG luigi-interface : Checking if TrainStratifiedKFold(random_state=110, params={\"objective\": \"binary\", \"learning_rates\": 0.01, \"metric\": \"binary\", \"lambda_l1\": 0.010078389989467947, \"lambda_l2\": 4.5248331776487917e-07, \"num_leaves\": 3, \"feature_fraction\": 0.4, \"bagging_fraction\": 0.969148612680824, \"bagging_freq\": 3, \"min_child_samples\": 20}, model_type=lgb) is complete\n",
      "INFO: Informed scheduler that task   Predict_110_fadd22deb8   has status   PENDING\n",
      "2020-02-23 17:50:32,159 INFO luigi-interface : Informed scheduler that task   Predict_110_fadd22deb8   has status   PENDING\n",
      "INFO: Informed scheduler that task   TrainStratifiedKFold_lgb___objective____b_110_b7ade5c131   has status   PENDING\n",
      "2020-02-23 17:50:32,176 INFO luigi-interface : Informed scheduler that task   TrainStratifiedKFold_lgb___objective____b_110_b7ade5c131   has status   PENDING\n",
      "INFO: Informed scheduler that task   Preprocess_______eba3f946ba   has status   DONE\n",
      "2020-02-23 17:50:32,209 INFO luigi-interface : Informed scheduler that task   Preprocess_______eba3f946ba   has status   DONE\n",
      "INFO: Done scheduling tasks\n",
      "2020-02-23 17:50:32,235 INFO luigi-interface : Done scheduling tasks\n",
      "INFO: Running Worker with 1 processes\n",
      "2020-02-23 17:50:32,241 INFO luigi-interface : Running Worker with 1 processes\n",
      "DEBUG: Asking scheduler for work...\n",
      "2020-02-23 17:50:32,247 DEBUG luigi-interface : Asking scheduler for work...\n",
      "DEBUG: Pending tasks: 2\n",
      "2020-02-23 17:50:32,259 DEBUG luigi-interface : Pending tasks: 2\n",
      "INFO: [pid 57187] Worker Worker(salt=043326807, workers=1, host=tenajimachine, username=yuto, pid=57187) running   TrainStratifiedKFold(random_state=110, params={\"objective\": \"binary\", \"learning_rates\": 0.01, \"metric\": \"binary\", \"lambda_l1\": 0.010078389989467947, \"lambda_l2\": 4.5248331776487917e-07, \"num_leaves\": 3, \"feature_fraction\": 0.4, \"bagging_fraction\": 0.969148612680824, \"bagging_freq\": 3, \"min_child_samples\": 20}, model_type=lgb)\n",
      "2020-02-23 17:50:32,265 INFO luigi-interface : [pid 57187] Worker Worker(salt=043326807, workers=1, host=tenajimachine, username=yuto, pid=57187) running   TrainStratifiedKFold(random_state=110, params={\"objective\": \"binary\", \"learning_rates\": 0.01, \"metric\": \"binary\", \"lambda_l1\": 0.010078389989467947, \"lambda_l2\": 4.5248331776487917e-07, \"num_leaves\": 3, \"feature_fraction\": 0.4, \"bagging_fraction\": 0.969148612680824, \"bagging_freq\": 3, \"min_child_samples\": 20}, model_type=lgb)\n",
      "2020-02-23 17:50:32,313 INFO gokart.file_processor : writing a file with total_bytes=335...\n",
      "2020-02-23 17:50:32,313 INFO gokart.file_processor : writing bytes [0, 335)\n",
      "2020-02-23 17:50:32,315 INFO gokart.file_processor : done\n",
      "2020-02-23 17:50:34,901 INFO scripts.model.model_lightgbm : train 1th model\n"
     ]
    },
    {
     "name": "stdout",
     "output_type": "stream",
     "text": [
      "Training until validation scores don't improve for 100 rounds\n",
      "[100]\ttraining's binary_logloss: 0.416523\tvalid_1's binary_logloss: 0.416952\n",
      "[200]\ttraining's binary_logloss: 0.403257\tvalid_1's binary_logloss: 0.403958\n",
      "[300]\ttraining's binary_logloss: 0.398543\tvalid_1's binary_logloss: 0.399368\n",
      "[400]\ttraining's binary_logloss: 0.396484\tvalid_1's binary_logloss: 0.397405\n",
      "[500]\ttraining's binary_logloss: 0.39552\tvalid_1's binary_logloss: 0.39654\n",
      "[600]\ttraining's binary_logloss: 0.395019\tvalid_1's binary_logloss: 0.396168\n",
      "[700]\ttraining's binary_logloss: 0.394703\tvalid_1's binary_logloss: 0.396016\n",
      "[800]\ttraining's binary_logloss: 0.394457\tvalid_1's binary_logloss: 0.39597\n",
      "[900]\ttraining's binary_logloss: 0.394246\tvalid_1's binary_logloss: 0.395951\n"
     ]
    },
    {
     "name": "stderr",
     "output_type": "stream",
     "text": [
      "2020-02-23 17:52:20,021 INFO scripts.model.model_lightgbm : train 2th model\n"
     ]
    },
    {
     "name": "stdout",
     "output_type": "stream",
     "text": [
      "[1000]\ttraining's binary_logloss: 0.394048\tvalid_1's binary_logloss: 0.395954\n",
      "Did not meet early stopping. Best iteration is:\n",
      "[1000]\ttraining's binary_logloss: 0.394048\tvalid_1's binary_logloss: 0.395954\n",
      "Training until validation scores don't improve for 100 rounds\n",
      "[100]\ttraining's binary_logloss: 0.416311\tvalid_1's binary_logloss: 0.417004\n",
      "[200]\ttraining's binary_logloss: 0.403163\tvalid_1's binary_logloss: 0.404165\n",
      "[300]\ttraining's binary_logloss: 0.398463\tvalid_1's binary_logloss: 0.39969\n",
      "[400]\ttraining's binary_logloss: 0.39641\tvalid_1's binary_logloss: 0.397772\n",
      "[500]\ttraining's binary_logloss: 0.39543\tvalid_1's binary_logloss: 0.396935\n",
      "[600]\ttraining's binary_logloss: 0.394915\tvalid_1's binary_logloss: 0.396595\n",
      "[700]\ttraining's binary_logloss: 0.394597\tvalid_1's binary_logloss: 0.396456\n",
      "[800]\ttraining's binary_logloss: 0.394349\tvalid_1's binary_logloss: 0.396393\n"
     ]
    },
    {
     "name": "stderr",
     "output_type": "stream",
     "text": [
      "2020-02-23 17:53:54,779 INFO scripts.model.model_lightgbm : train 3th model\n"
     ]
    },
    {
     "name": "stdout",
     "output_type": "stream",
     "text": [
      "Early stopping, best iteration is:\n",
      "[788]\ttraining's binary_logloss: 0.394376\tvalid_1's binary_logloss: 0.396383\n",
      "Training until validation scores don't improve for 100 rounds\n",
      "[100]\ttraining's binary_logloss: 0.416578\tvalid_1's binary_logloss: 0.417421\n",
      "[200]\ttraining's binary_logloss: 0.403301\tvalid_1's binary_logloss: 0.404233\n",
      "[300]\ttraining's binary_logloss: 0.398534\tvalid_1's binary_logloss: 0.399589\n",
      "[400]\ttraining's binary_logloss: 0.396473\tvalid_1's binary_logloss: 0.397606\n",
      "[500]\ttraining's binary_logloss: 0.39549\tvalid_1's binary_logloss: 0.396719\n",
      "[600]\ttraining's binary_logloss: 0.394979\tvalid_1's binary_logloss: 0.396317\n",
      "[700]\ttraining's binary_logloss: 0.394654\tvalid_1's binary_logloss: 0.396143\n",
      "[800]\ttraining's binary_logloss: 0.394404\tvalid_1's binary_logloss: 0.396048\n",
      "[900]\ttraining's binary_logloss: 0.394184\tvalid_1's binary_logloss: 0.396026\n"
     ]
    },
    {
     "name": "stderr",
     "output_type": "stream",
     "text": [
      "2020-02-23 17:55:37,882 INFO scripts.model.model_lightgbm : train 4th model\n"
     ]
    },
    {
     "name": "stdout",
     "output_type": "stream",
     "text": [
      "[1000]\ttraining's binary_logloss: 0.39399\tvalid_1's binary_logloss: 0.396021\n",
      "Did not meet early stopping. Best iteration is:\n",
      "[1000]\ttraining's binary_logloss: 0.39399\tvalid_1's binary_logloss: 0.396021\n",
      "Training until validation scores don't improve for 100 rounds\n",
      "[100]\ttraining's binary_logloss: 0.416262\tvalid_1's binary_logloss: 0.41765\n",
      "[200]\ttraining's binary_logloss: 0.402907\tvalid_1's binary_logloss: 0.405167\n",
      "[300]\ttraining's binary_logloss: 0.398084\tvalid_1's binary_logloss: 0.400922\n",
      "[400]\ttraining's binary_logloss: 0.395963\tvalid_1's binary_logloss: 0.399216\n",
      "[500]\ttraining's binary_logloss: 0.39497\tvalid_1's binary_logloss: 0.398465\n",
      "[600]\ttraining's binary_logloss: 0.394456\tvalid_1's binary_logloss: 0.398172\n",
      "[700]\ttraining's binary_logloss: 0.394133\tvalid_1's binary_logloss: 0.398055\n",
      "[800]\ttraining's binary_logloss: 0.393893\tvalid_1's binary_logloss: 0.398017\n",
      "[900]\ttraining's binary_logloss: 0.393681\tvalid_1's binary_logloss: 0.398037\n"
     ]
    },
    {
     "name": "stderr",
     "output_type": "stream",
     "text": [
      "2020-02-23 17:57:10,225 INFO scripts.model.model_lightgbm : train 5th model\n"
     ]
    },
    {
     "name": "stdout",
     "output_type": "stream",
     "text": [
      "Early stopping, best iteration is:\n",
      "[818]\ttraining's binary_logloss: 0.393853\tvalid_1's binary_logloss: 0.39801\n",
      "Training until validation scores don't improve for 100 rounds\n",
      "[100]\ttraining's binary_logloss: 0.4167\tvalid_1's binary_logloss: 0.416607\n",
      "[200]\ttraining's binary_logloss: 0.403429\tvalid_1's binary_logloss: 0.403567\n",
      "[300]\ttraining's binary_logloss: 0.39867\tvalid_1's binary_logloss: 0.399051\n",
      "[400]\ttraining's binary_logloss: 0.396598\tvalid_1's binary_logloss: 0.397171\n",
      "[500]\ttraining's binary_logloss: 0.39561\tvalid_1's binary_logloss: 0.396294\n",
      "[600]\ttraining's binary_logloss: 0.395093\tvalid_1's binary_logloss: 0.395929\n",
      "[700]\ttraining's binary_logloss: 0.394775\tvalid_1's binary_logloss: 0.395762\n",
      "[800]\ttraining's binary_logloss: 0.394528\tvalid_1's binary_logloss: 0.395728\n",
      "[900]\ttraining's binary_logloss: 0.394321\tvalid_1's binary_logloss: 0.395714\n"
     ]
    },
    {
     "name": "stderr",
     "output_type": "stream",
     "text": [
      "2020-02-23 17:58:59,620 INFO scripts.utils : delete ./tmp_model_1_fold.pkl ...\n",
      "2020-02-23 17:58:59,621 INFO scripts.utils : delete ./tmp_model_4_fold.pkl ...\n",
      "2020-02-23 17:58:59,622 INFO scripts.utils : delete ./tmp_model_5_fold.pkl ...\n",
      "2020-02-23 17:58:59,624 INFO scripts.utils : delete ./tmp_model_3_fold.pkl ...\n",
      "2020-02-23 17:58:59,625 INFO scripts.utils : delete ./tmp_model_2_fold.pkl ...\n"
     ]
    },
    {
     "name": "stdout",
     "output_type": "stream",
     "text": [
      "Early stopping, best iteration is:\n",
      "[875]\ttraining's binary_logloss: 0.394368\tvalid_1's binary_logloss: 0.395707\n"
     ]
    },
    {
     "name": "stderr",
     "output_type": "stream",
     "text": [
      "2020-02-23 17:58:59,779 INFO gokart.file_processor : writing a file with total_bytes=2173412...\n",
      "2020-02-23 17:58:59,780 INFO gokart.file_processor : writing bytes [0, 2173412)\n",
      "2020-02-23 17:58:59,781 INFO gokart.file_processor : done\n",
      "2020-02-23 17:58:59,937 INFO gokart.file_processor : writing a file with total_bytes=21...\n",
      "2020-02-23 17:58:59,939 INFO gokart.file_processor : writing bytes [0, 21)\n",
      "2020-02-23 17:58:59,957 INFO gokart.file_processor : done\n",
      "INFO: [pid 57187] Worker Worker(salt=043326807, workers=1, host=tenajimachine, username=yuto, pid=57187) done      TrainStratifiedKFold(random_state=110, params={\"objective\": \"binary\", \"learning_rates\": 0.01, \"metric\": \"binary\", \"lambda_l1\": 0.010078389989467947, \"lambda_l2\": 4.5248331776487917e-07, \"num_leaves\": 3, \"feature_fraction\": 0.4, \"bagging_fraction\": 0.969148612680824, \"bagging_freq\": 3, \"min_child_samples\": 20}, model_type=lgb)\n",
      "2020-02-23 17:58:59,970 INFO luigi-interface : [pid 57187] Worker Worker(salt=043326807, workers=1, host=tenajimachine, username=yuto, pid=57187) done      TrainStratifiedKFold(random_state=110, params={\"objective\": \"binary\", \"learning_rates\": 0.01, \"metric\": \"binary\", \"lambda_l1\": 0.010078389989467947, \"lambda_l2\": 4.5248331776487917e-07, \"num_leaves\": 3, \"feature_fraction\": 0.4, \"bagging_fraction\": 0.969148612680824, \"bagging_freq\": 3, \"min_child_samples\": 20}, model_type=lgb)\n",
      "2020-02-23 17:58:59,979 INFO gokart.file_processor : writing a file with total_bytes=96...\n",
      "2020-02-23 17:58:59,980 INFO gokart.file_processor : writing bytes [0, 96)\n",
      "2020-02-23 17:58:59,980 INFO gokart.file_processor : done\n",
      "DEBUG: 1 running tasks, waiting for next task to finish\n",
      "2020-02-23 17:58:59,989 DEBUG luigi-interface : 1 running tasks, waiting for next task to finish\n",
      "INFO: Informed scheduler that task   TrainStratifiedKFold_lgb___objective____b_110_b7ade5c131   has status   DONE\n",
      "2020-02-23 17:58:59,993 INFO luigi-interface : Informed scheduler that task   TrainStratifiedKFold_lgb___objective____b_110_b7ade5c131   has status   DONE\n",
      "DEBUG: Asking scheduler for work...\n",
      "2020-02-23 17:58:59,994 DEBUG luigi-interface : Asking scheduler for work...\n",
      "DEBUG: Pending tasks: 1\n",
      "2020-02-23 17:58:59,998 DEBUG luigi-interface : Pending tasks: 1\n",
      "INFO: [pid 57187] Worker Worker(salt=043326807, workers=1, host=tenajimachine, username=yuto, pid=57187) running   Predict(random_state=110)\n",
      "2020-02-23 17:59:00,006 INFO luigi-interface : [pid 57187] Worker Worker(salt=043326807, workers=1, host=tenajimachine, username=yuto, pid=57187) running   Predict(random_state=110)\n",
      "2020-02-23 17:59:00,042 INFO gokart.file_processor : writing a file with total_bytes=36...\n",
      "2020-02-23 17:59:00,043 INFO gokart.file_processor : writing bytes [0, 36)\n",
      "2020-02-23 17:59:00,043 INFO gokart.file_processor : done\n"
     ]
    },
    {
     "name": "stdout",
     "output_type": "stream",
     "text": [
      "          target\n",
      "id              \n",
      "600000  0.123808\n",
      "600001  0.269728\n",
      "600002  0.172794\n",
      "600003  0.123032\n",
      "600004  0.135531\n"
     ]
    },
    {
     "name": "stderr",
     "output_type": "stream",
     "text": [
      "2020-02-23 17:59:56,947 INFO gokart.file_processor : writing a file with total_bytes=21...\n",
      "2020-02-23 17:59:56,947 INFO gokart.file_processor : writing bytes [0, 21)\n",
      "2020-02-23 17:59:56,948 INFO gokart.file_processor : done\n",
      "INFO: [pid 57187] Worker Worker(salt=043326807, workers=1, host=tenajimachine, username=yuto, pid=57187) done      Predict(random_state=110)\n",
      "2020-02-23 17:59:56,950 INFO luigi-interface : [pid 57187] Worker Worker(salt=043326807, workers=1, host=tenajimachine, username=yuto, pid=57187) done      Predict(random_state=110)\n",
      "2020-02-23 17:59:56,956 INFO gokart.file_processor : writing a file with total_bytes=334...\n",
      "2020-02-23 17:59:56,959 INFO gokart.file_processor : writing bytes [0, 334)\n",
      "2020-02-23 17:59:56,961 INFO gokart.file_processor : done\n",
      "DEBUG: 1 running tasks, waiting for next task to finish\n",
      "2020-02-23 17:59:56,964 DEBUG luigi-interface : 1 running tasks, waiting for next task to finish\n",
      "INFO: Informed scheduler that task   Predict_110_fadd22deb8   has status   DONE\n",
      "2020-02-23 17:59:56,967 INFO luigi-interface : Informed scheduler that task   Predict_110_fadd22deb8   has status   DONE\n",
      "DEBUG: Asking scheduler for work...\n",
      "2020-02-23 17:59:56,970 DEBUG luigi-interface : Asking scheduler for work...\n",
      "DEBUG: Done\n",
      "2020-02-23 17:59:56,972 DEBUG luigi-interface : Done\n",
      "DEBUG: There are no more tasks to run at this time\n",
      "2020-02-23 17:59:56,976 DEBUG luigi-interface : There are no more tasks to run at this time\n",
      "INFO: Worker Worker(salt=043326807, workers=1, host=tenajimachine, username=yuto, pid=57187) was stopped. Shutting down Keep-Alive thread\n",
      "2020-02-23 17:59:56,983 INFO luigi-interface : Worker Worker(salt=043326807, workers=1, host=tenajimachine, username=yuto, pid=57187) was stopped. Shutting down Keep-Alive thread\n",
      "INFO: \n",
      "===== Luigi Execution Summary =====\n",
      "\n",
      "Scheduled 3 tasks of which:\n",
      "* 1 complete ones were encountered:\n",
      "    - 1 Preprocess(...)\n",
      "* 2 ran successfully:\n",
      "    - 1 Predict(...)\n",
      "    - 1 TrainStratifiedKFold(...)\n",
      "\n",
      "This progress looks :) because there were no failed tasks or missing dependencies\n",
      "\n",
      "===== Luigi Execution Summary =====\n",
      "\n",
      "2020-02-23 17:59:56,991 INFO luigi-interface : \n",
      "===== Luigi Execution Summary =====\n",
      "\n",
      "Scheduled 3 tasks of which:\n",
      "* 1 complete ones were encountered:\n",
      "    - 1 Preprocess(...)\n",
      "* 2 ran successfully:\n",
      "    - 1 Predict(...)\n",
      "    - 1 TrainStratifiedKFold(...)\n",
      "\n",
      "This progress looks :) because there were no failed tasks or missing dependencies\n",
      "\n",
      "===== Luigi Execution Summary =====\n",
      "\n"
     ]
    },
    {
     "data": {
      "text/plain": [
       "True"
      ]
     },
     "execution_count": 8,
     "metadata": {},
     "output_type": "execute_result"
    }
   ],
   "source": [
    "luigi.build([Predict()], local_scheduler=True)"
   ]
  },
  {
   "cell_type": "code",
   "execution_count": null,
   "metadata": {},
   "outputs": [],
   "source": []
  }
 ],
 "metadata": {
  "kernelspec": {
   "display_name": "Python 3",
   "language": "python",
   "name": "python3"
  },
  "language_info": {
   "codemirror_mode": {
    "name": "ipython",
    "version": 3
   },
   "file_extension": ".py",
   "mimetype": "text/x-python",
   "name": "python",
   "nbconvert_exporter": "python",
   "pygments_lexer": "ipython3",
   "version": "3.7.6"
  }
 },
 "nbformat": 4,
 "nbformat_minor": 4
}
