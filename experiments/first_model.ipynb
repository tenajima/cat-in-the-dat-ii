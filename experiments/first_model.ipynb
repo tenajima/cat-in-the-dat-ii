{
 "cells": [
  {
   "cell_type": "code",
   "execution_count": 1,
   "metadata": {},
   "outputs": [],
   "source": [
    "import numpy as np\n",
    "import luigi\n",
    "import pandas as pd\n",
    "import lightgbm as lgb\n",
    "from sklearn.model_selection import StratifiedKFold\n",
    "from sklearn.metrics import roc_auc_score\n",
    "from dotenv import load_dotenv\n",
    "\n",
    "from scripts.train.train import TrainStratifiedKFold, Preprocess\n",
    "from scripts.submit.predict import Predict\n",
    "from scripts.feature.get_feature import GetFeature, Nom0"
   ]
  },
  {
   "cell_type": "code",
   "execution_count": 2,
   "metadata": {},
   "outputs": [],
   "source": [
    "%load_ext autoreload\n",
    "%autoreload 2"
   ]
  },
  {
   "cell_type": "code",
   "execution_count": 3,
   "metadata": {},
   "outputs": [
    {
     "data": {
      "text/plain": [
       "True"
      ]
     },
     "execution_count": 3,
     "metadata": {},
     "output_type": "execute_result"
    }
   ],
   "source": [
    "load_dotenv()"
   ]
  },
  {
   "cell_type": "code",
   "execution_count": 21,
   "metadata": {},
   "outputs": [
    {
     "name": "stderr",
     "output_type": "stream",
     "text": [
      "2020-02-18 12:58:07,429 INFO luigi : logging already configured\n",
      "DEBUG: Checking if Predict(random_state=110) is complete\n",
      "2020-02-18 12:58:07,437 DEBUG luigi-interface : Checking if Predict(random_state=110) is complete\n",
      "DEBUG: Checking if Preprocess(n_split=5, random_state=110, use_columns=[], drop_columns=[]) is complete\n",
      "2020-02-18 12:58:07,470 DEBUG luigi-interface : Checking if Preprocess(n_split=5, random_state=110, use_columns=[], drop_columns=[]) is complete\n",
      "DEBUG: Checking if TrainStratifiedKFold(random_state=110, params={\"objective\": \"regression\", \"learning_rates\": 0.1, \"metric\": \"auc\", \"num_leaves\": 32, \"min_data_in_leaf\": 32, \"max_depth\": 8}, model_type=lgb) is complete\n",
      "2020-02-18 12:58:07,487 DEBUG luigi-interface : Checking if TrainStratifiedKFold(random_state=110, params={\"objective\": \"regression\", \"learning_rates\": 0.1, \"metric\": \"auc\", \"num_leaves\": 32, \"min_data_in_leaf\": 32, \"max_depth\": 8}, model_type=lgb) is complete\n",
      "INFO: Informed scheduler that task   Predict_110_fadd22deb8   has status   PENDING\n",
      "2020-02-18 12:58:07,511 INFO luigi-interface : Informed scheduler that task   Predict_110_fadd22deb8   has status   PENDING\n",
      "INFO: Informed scheduler that task   TrainStratifiedKFold_lgb___objective____r_110_72d2f16ac3   has status   PENDING\n",
      "2020-02-18 12:58:07,537 INFO luigi-interface : Informed scheduler that task   TrainStratifiedKFold_lgb___objective____r_110_72d2f16ac3   has status   PENDING\n",
      "INFO: Informed scheduler that task   Preprocess____5_110_7e4e1448e4   has status   DONE\n",
      "2020-02-18 12:58:07,547 INFO luigi-interface : Informed scheduler that task   Preprocess____5_110_7e4e1448e4   has status   DONE\n",
      "INFO: Done scheduling tasks\n",
      "2020-02-18 12:58:07,553 INFO luigi-interface : Done scheduling tasks\n",
      "INFO: Running Worker with 1 processes\n",
      "2020-02-18 12:58:07,555 INFO luigi-interface : Running Worker with 1 processes\n",
      "DEBUG: Asking scheduler for work...\n",
      "2020-02-18 12:58:07,567 DEBUG luigi-interface : Asking scheduler for work...\n",
      "DEBUG: Pending tasks: 2\n",
      "2020-02-18 12:58:07,573 DEBUG luigi-interface : Pending tasks: 2\n",
      "INFO: [pid 26233] Worker Worker(salt=690239274, workers=1, host=tenajimachine, username=yuto, pid=26233) running   TrainStratifiedKFold(random_state=110, params={\"objective\": \"regression\", \"learning_rates\": 0.1, \"metric\": \"auc\", \"num_leaves\": 32, \"min_data_in_leaf\": 32, \"max_depth\": 8}, model_type=lgb)\n",
      "2020-02-18 12:58:07,582 INFO luigi-interface : [pid 26233] Worker Worker(salt=690239274, workers=1, host=tenajimachine, username=yuto, pid=26233) running   TrainStratifiedKFold(random_state=110, params={\"objective\": \"regression\", \"learning_rates\": 0.1, \"metric\": \"auc\", \"num_leaves\": 32, \"min_data_in_leaf\": 32, \"max_depth\": 8}, model_type=lgb)\n",
      "2020-02-18 12:58:07,590 INFO gokart.file_processor : writing a file with total_bytes=193...\n",
      "2020-02-18 12:58:07,594 INFO gokart.file_processor : writing bytes [0, 193)\n",
      "2020-02-18 12:58:07,598 INFO gokart.file_processor : done\n",
      "2020-02-18 12:58:07,799 INFO scripts.model.model_lightgbm : train 1th model\n"
     ]
    },
    {
     "name": "stdout",
     "output_type": "stream",
     "text": [
      "Training until validation scores don't improve for 100 rounds\n",
      "[100]\ttraining's auc: 0.763632\tvalid_1's auc: 0.753739\n",
      "[200]\ttraining's auc: 0.770152\tvalid_1's auc: 0.75451\n"
     ]
    },
    {
     "name": "stderr",
     "output_type": "stream",
     "text": [
      "2020-02-18 12:58:26,593 INFO scripts.model.model_lightgbm : train 2th model\n"
     ]
    },
    {
     "name": "stdout",
     "output_type": "stream",
     "text": [
      "Early stopping, best iteration is:\n",
      "[168]\ttraining's auc: 0.768268\tvalid_1's auc: 0.754626\n",
      "Training until validation scores don't improve for 100 rounds\n",
      "[100]\ttraining's auc: 0.763287\tvalid_1's auc: 0.755462\n",
      "[200]\ttraining's auc: 0.769737\tvalid_1's auc: 0.756169\n"
     ]
    },
    {
     "name": "stderr",
     "output_type": "stream",
     "text": [
      "2020-02-18 12:58:45,447 INFO scripts.model.model_lightgbm : train 3th model\n"
     ]
    },
    {
     "name": "stdout",
     "output_type": "stream",
     "text": [
      "Early stopping, best iteration is:\n",
      "[151]\ttraining's auc: 0.766902\tvalid_1's auc: 0.756273\n",
      "Training until validation scores don't improve for 100 rounds\n",
      "[100]\ttraining's auc: 0.763371\tvalid_1's auc: 0.754432\n",
      "[200]\ttraining's auc: 0.769785\tvalid_1's auc: 0.755088\n"
     ]
    },
    {
     "name": "stderr",
     "output_type": "stream",
     "text": [
      "2020-02-18 12:59:04,789 INFO scripts.model.model_lightgbm : train 4th model\n"
     ]
    },
    {
     "name": "stdout",
     "output_type": "stream",
     "text": [
      "Early stopping, best iteration is:\n",
      "[144]\ttraining's auc: 0.766468\tvalid_1's auc: 0.755334\n",
      "Training until validation scores don't improve for 100 rounds\n",
      "[100]\ttraining's auc: 0.76429\tvalid_1's auc: 0.751609\n",
      "[200]\ttraining's auc: 0.770731\tvalid_1's auc: 0.752373\n"
     ]
    },
    {
     "name": "stderr",
     "output_type": "stream",
     "text": [
      "2020-02-18 12:59:25,214 INFO scripts.model.model_lightgbm : train 5th model\n"
     ]
    },
    {
     "name": "stdout",
     "output_type": "stream",
     "text": [
      "Early stopping, best iteration is:\n",
      "[146]\ttraining's auc: 0.76754\tvalid_1's auc: 0.752497\n",
      "Training until validation scores don't improve for 100 rounds\n",
      "[100]\ttraining's auc: 0.763683\tvalid_1's auc: 0.754496\n",
      "[200]\ttraining's auc: 0.770093\tvalid_1's auc: 0.755461\n"
     ]
    },
    {
     "name": "stderr",
     "output_type": "stream",
     "text": [
      "2020-02-18 12:59:47,891 INFO scripts.utils : delete ./tmp_model_1_fold.pkl ...\n",
      "2020-02-18 12:59:47,900 INFO scripts.utils : delete ./tmp_model_4_fold.pkl ...\n",
      "2020-02-18 12:59:47,906 INFO scripts.utils : delete ./tmp_model_5_fold.pkl ...\n",
      "2020-02-18 12:59:47,909 INFO scripts.utils : delete ./tmp_model_3_fold.pkl ...\n",
      "2020-02-18 12:59:47,914 INFO scripts.utils : delete ./tmp_model_2_fold.pkl ...\n",
      "2020-02-18 12:59:47,986 INFO gokart.file_processor : writing a file with total_bytes=2558493...\n",
      "2020-02-18 12:59:47,987 INFO gokart.file_processor : writing bytes [0, 2558493)\n",
      "2020-02-18 12:59:47,989 INFO gokart.file_processor : done\n",
      "2020-02-18 12:59:48,006 INFO gokart.file_processor : writing a file with total_bytes=21...\n",
      "2020-02-18 12:59:48,007 INFO gokart.file_processor : writing bytes [0, 21)\n",
      "2020-02-18 12:59:48,007 INFO gokart.file_processor : done\n",
      "INFO: [pid 26233] Worker Worker(salt=690239274, workers=1, host=tenajimachine, username=yuto, pid=26233) done      TrainStratifiedKFold(random_state=110, params={\"objective\": \"regression\", \"learning_rates\": 0.1, \"metric\": \"auc\", \"num_leaves\": 32, \"min_data_in_leaf\": 32, \"max_depth\": 8}, model_type=lgb)\n",
      "2020-02-18 12:59:48,012 INFO luigi-interface : [pid 26233] Worker Worker(salt=690239274, workers=1, host=tenajimachine, username=yuto, pid=26233) done      TrainStratifiedKFold(random_state=110, params={\"objective\": \"regression\", \"learning_rates\": 0.1, \"metric\": \"auc\", \"num_leaves\": 32, \"min_data_in_leaf\": 32, \"max_depth\": 8}, model_type=lgb)\n",
      "2020-02-18 12:59:48,020 INFO gokart.file_processor : writing a file with total_bytes=96...\n",
      "2020-02-18 12:59:48,021 INFO gokart.file_processor : writing bytes [0, 96)\n",
      "2020-02-18 12:59:48,024 INFO gokart.file_processor : done\n",
      "DEBUG: 1 running tasks, waiting for next task to finish\n",
      "2020-02-18 12:59:48,029 DEBUG luigi-interface : 1 running tasks, waiting for next task to finish\n",
      "INFO: Informed scheduler that task   TrainStratifiedKFold_lgb___objective____r_110_72d2f16ac3   has status   DONE\n",
      "2020-02-18 12:59:48,041 INFO luigi-interface : Informed scheduler that task   TrainStratifiedKFold_lgb___objective____r_110_72d2f16ac3   has status   DONE\n"
     ]
    },
    {
     "name": "stdout",
     "output_type": "stream",
     "text": [
      "Early stopping, best iteration is:\n",
      "[197]\ttraining's auc: 0.769919\tvalid_1's auc: 0.755492\n"
     ]
    },
    {
     "name": "stderr",
     "output_type": "stream",
     "text": [
      "DEBUG: Asking scheduler for work...\n",
      "2020-02-18 12:59:48,048 DEBUG luigi-interface : Asking scheduler for work...\n",
      "DEBUG: Pending tasks: 1\n",
      "2020-02-18 12:59:48,052 DEBUG luigi-interface : Pending tasks: 1\n",
      "INFO: [pid 26233] Worker Worker(salt=690239274, workers=1, host=tenajimachine, username=yuto, pid=26233) running   Predict(random_state=110)\n",
      "2020-02-18 12:59:48,054 INFO luigi-interface : [pid 26233] Worker Worker(salt=690239274, workers=1, host=tenajimachine, username=yuto, pid=26233) running   Predict(random_state=110)\n",
      "2020-02-18 12:59:48,065 INFO gokart.file_processor : writing a file with total_bytes=36...\n",
      "2020-02-18 12:59:48,066 INFO gokart.file_processor : writing bytes [0, 36)\n",
      "2020-02-18 12:59:48,069 INFO gokart.file_processor : done\n"
     ]
    },
    {
     "name": "stdout",
     "output_type": "stream",
     "text": [
      "          target\n",
      "id              \n",
      "600000  0.295080\n",
      "600001  0.222200\n",
      "600002  0.167897\n",
      "600003  0.149027\n",
      "600004  0.188741\n"
     ]
    },
    {
     "name": "stderr",
     "output_type": "stream",
     "text": [
      "2020-02-18 13:00:05,183 INFO gokart.file_processor : writing a file with total_bytes=21...\n",
      "2020-02-18 13:00:05,184 INFO gokart.file_processor : writing bytes [0, 21)\n",
      "2020-02-18 13:00:05,185 INFO gokart.file_processor : done\n",
      "INFO: [pid 26233] Worker Worker(salt=690239274, workers=1, host=tenajimachine, username=yuto, pid=26233) done      Predict(random_state=110)\n",
      "2020-02-18 13:00:05,186 INFO luigi-interface : [pid 26233] Worker Worker(salt=690239274, workers=1, host=tenajimachine, username=yuto, pid=26233) done      Predict(random_state=110)\n",
      "2020-02-18 13:00:05,192 INFO gokart.file_processor : writing a file with total_bytes=334...\n",
      "2020-02-18 13:00:05,194 INFO gokart.file_processor : writing bytes [0, 334)\n",
      "2020-02-18 13:00:05,194 INFO gokart.file_processor : done\n",
      "DEBUG: 1 running tasks, waiting for next task to finish\n",
      "2020-02-18 13:00:05,197 DEBUG luigi-interface : 1 running tasks, waiting for next task to finish\n",
      "INFO: Informed scheduler that task   Predict_110_fadd22deb8   has status   DONE\n",
      "2020-02-18 13:00:05,201 INFO luigi-interface : Informed scheduler that task   Predict_110_fadd22deb8   has status   DONE\n",
      "DEBUG: Asking scheduler for work...\n",
      "2020-02-18 13:00:05,204 DEBUG luigi-interface : Asking scheduler for work...\n",
      "DEBUG: Done\n",
      "2020-02-18 13:00:05,209 DEBUG luigi-interface : Done\n",
      "DEBUG: There are no more tasks to run at this time\n",
      "2020-02-18 13:00:05,212 DEBUG luigi-interface : There are no more tasks to run at this time\n",
      "INFO: Worker Worker(salt=690239274, workers=1, host=tenajimachine, username=yuto, pid=26233) was stopped. Shutting down Keep-Alive thread\n",
      "2020-02-18 13:00:05,216 INFO luigi-interface : Worker Worker(salt=690239274, workers=1, host=tenajimachine, username=yuto, pid=26233) was stopped. Shutting down Keep-Alive thread\n",
      "INFO: \n",
      "===== Luigi Execution Summary =====\n",
      "\n",
      "Scheduled 3 tasks of which:\n",
      "* 1 complete ones were encountered:\n",
      "    - 1 Preprocess(...)\n",
      "* 2 ran successfully:\n",
      "    - 1 Predict(...)\n",
      "    - 1 TrainStratifiedKFold(...)\n",
      "\n",
      "This progress looks :) because there were no failed tasks or missing dependencies\n",
      "\n",
      "===== Luigi Execution Summary =====\n",
      "\n",
      "2020-02-18 13:00:05,228 INFO luigi-interface : \n",
      "===== Luigi Execution Summary =====\n",
      "\n",
      "Scheduled 3 tasks of which:\n",
      "* 1 complete ones were encountered:\n",
      "    - 1 Preprocess(...)\n",
      "* 2 ran successfully:\n",
      "    - 1 Predict(...)\n",
      "    - 1 TrainStratifiedKFold(...)\n",
      "\n",
      "This progress looks :) because there were no failed tasks or missing dependencies\n",
      "\n",
      "===== Luigi Execution Summary =====\n",
      "\n"
     ]
    },
    {
     "data": {
      "text/plain": [
       "True"
      ]
     },
     "execution_count": 21,
     "metadata": {},
     "output_type": "execute_result"
    }
   ],
   "source": [
    "luigi.build([Predict()], local_scheduler=True)"
   ]
  },
  {
   "cell_type": "code",
   "execution_count": null,
   "metadata": {},
   "outputs": [],
   "source": []
  }
 ],
 "metadata": {
  "kernelspec": {
   "display_name": "Python 3",
   "language": "python",
   "name": "python3"
  },
  "language_info": {
   "codemirror_mode": {
    "name": "ipython",
    "version": 3
   },
   "file_extension": ".py",
   "mimetype": "text/x-python",
   "name": "python",
   "nbconvert_exporter": "python",
   "pygments_lexer": "ipython3",
   "version": "3.7.6"
  }
 },
 "nbformat": 4,
 "nbformat_minor": 4
}
