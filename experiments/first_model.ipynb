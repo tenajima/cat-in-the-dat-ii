{
 "cells": [
  {
   "cell_type": "code",
   "execution_count": 1,
   "metadata": {},
   "outputs": [],
   "source": [
    "import numpy as np\n",
    "import luigi\n",
    "import pandas as pd\n",
    "import lightgbm as lgb\n",
    "from sklearn.model_selection import StratifiedKFold\n",
    "from sklearn.metrics import roc_auc_score\n",
    "from dotenv import load_dotenv\n",
    "\n",
    "from scripts.train.train import TrainStratifiedKFold\n",
    "from scripts.submit.predict import Predict"
   ]
  },
  {
   "cell_type": "code",
   "execution_count": 2,
   "metadata": {},
   "outputs": [],
   "source": [
    "%load_ext autoreload\n",
    "%autoreload 2"
   ]
  },
  {
   "cell_type": "code",
   "execution_count": 3,
   "metadata": {},
   "outputs": [
    {
     "data": {
      "text/plain": [
       "True"
      ]
     },
     "execution_count": 3,
     "metadata": {},
     "output_type": "execute_result"
    }
   ],
   "source": [
    "load_dotenv()"
   ]
  },
  {
   "cell_type": "code",
   "execution_count": 7,
   "metadata": {},
   "outputs": [
    {
     "name": "stderr",
     "output_type": "stream",
     "text": [
      "2020-02-16 22:25:05,588 INFO luigi : logging already configured\n",
      "DEBUG: Checking if Predict(random_state=110) is complete\n",
      "2020-02-16 22:25:05,595 DEBUG luigi-interface : Checking if Predict(random_state=110) is complete\n",
      "DEBUG: Checking if Preprocess(n_split=5, random_state=110, use_columns=[], drop_columns=[]) is complete\n",
      "2020-02-16 22:25:05,612 DEBUG luigi-interface : Checking if Preprocess(n_split=5, random_state=110, use_columns=[], drop_columns=[]) is complete\n",
      "DEBUG: Checking if TrainStratifiedKFold(random_state=110, params={\"objective\": \"regression\", \"learning_rates\": 0.1, \"metric\": \"auc\", \"num_leaves\": 32, \"min_data_in_leaf\": 32, \"max_depth\": 8}, model_type=lgb) is complete\n",
      "2020-02-16 22:25:05,618 DEBUG luigi-interface : Checking if TrainStratifiedKFold(random_state=110, params={\"objective\": \"regression\", \"learning_rates\": 0.1, \"metric\": \"auc\", \"num_leaves\": 32, \"min_data_in_leaf\": 32, \"max_depth\": 8}, model_type=lgb) is complete\n",
      "INFO: Informed scheduler that task   Predict_110_fadd22deb8   has status   PENDING\n",
      "2020-02-16 22:25:05,678 INFO luigi-interface : Informed scheduler that task   Predict_110_fadd22deb8   has status   PENDING\n",
      "INFO: Informed scheduler that task   TrainStratifiedKFold_lgb___objective____r_110_72d2f16ac3   has status   DONE\n",
      "2020-02-16 22:25:05,687 INFO luigi-interface : Informed scheduler that task   TrainStratifiedKFold_lgb___objective____r_110_72d2f16ac3   has status   DONE\n",
      "INFO: Informed scheduler that task   Preprocess____5_110_7e4e1448e4   has status   DONE\n",
      "2020-02-16 22:25:05,698 INFO luigi-interface : Informed scheduler that task   Preprocess____5_110_7e4e1448e4   has status   DONE\n",
      "INFO: Done scheduling tasks\n",
      "2020-02-16 22:25:05,720 INFO luigi-interface : Done scheduling tasks\n",
      "INFO: Running Worker with 1 processes\n",
      "2020-02-16 22:25:05,731 INFO luigi-interface : Running Worker with 1 processes\n",
      "DEBUG: Asking scheduler for work...\n",
      "2020-02-16 22:25:05,743 DEBUG luigi-interface : Asking scheduler for work...\n",
      "DEBUG: Pending tasks: 1\n",
      "2020-02-16 22:25:05,756 DEBUG luigi-interface : Pending tasks: 1\n",
      "INFO: [pid 39796] Worker Worker(salt=306585796, workers=1, host=tenajimachine, username=yuto, pid=39796) running   Predict(random_state=110)\n",
      "2020-02-16 22:25:05,764 INFO luigi-interface : [pid 39796] Worker Worker(salt=306585796, workers=1, host=tenajimachine, username=yuto, pid=39796) running   Predict(random_state=110)\n",
      "2020-02-16 22:25:05,807 INFO gokart.file_processor : writing a file with total_bytes=36...\n",
      "2020-02-16 22:25:05,813 INFO gokart.file_processor : writing bytes [0, 36)\n",
      "2020-02-16 22:25:05,816 INFO gokart.file_processor : done\n",
      "2020-02-16 22:25:16,113 INFO gokart.file_processor : writing a file with total_bytes=21...\n",
      "2020-02-16 22:25:16,117 INFO gokart.file_processor : writing bytes [0, 21)\n",
      "2020-02-16 22:25:16,128 INFO gokart.file_processor : done\n",
      "INFO: [pid 39796] Worker Worker(salt=306585796, workers=1, host=tenajimachine, username=yuto, pid=39796) done      Predict(random_state=110)\n",
      "2020-02-16 22:25:16,144 INFO luigi-interface : [pid 39796] Worker Worker(salt=306585796, workers=1, host=tenajimachine, username=yuto, pid=39796) done      Predict(random_state=110)\n",
      "2020-02-16 22:25:16,165 INFO gokart.file_processor : writing a file with total_bytes=334...\n",
      "2020-02-16 22:25:16,182 INFO gokart.file_processor : writing bytes [0, 334)\n",
      "2020-02-16 22:25:16,183 INFO gokart.file_processor : done\n",
      "DEBUG: 1 running tasks, waiting for next task to finish\n",
      "2020-02-16 22:25:16,187 DEBUG luigi-interface : 1 running tasks, waiting for next task to finish\n",
      "INFO: Informed scheduler that task   Predict_110_fadd22deb8   has status   DONE\n",
      "2020-02-16 22:25:16,196 INFO luigi-interface : Informed scheduler that task   Predict_110_fadd22deb8   has status   DONE\n",
      "DEBUG: Asking scheduler for work...\n",
      "2020-02-16 22:25:16,199 DEBUG luigi-interface : Asking scheduler for work...\n",
      "DEBUG: Done\n",
      "2020-02-16 22:25:16,203 DEBUG luigi-interface : Done\n",
      "DEBUG: There are no more tasks to run at this time\n",
      "2020-02-16 22:25:16,209 DEBUG luigi-interface : There are no more tasks to run at this time\n",
      "INFO: Worker Worker(salt=306585796, workers=1, host=tenajimachine, username=yuto, pid=39796) was stopped. Shutting down Keep-Alive thread\n",
      "2020-02-16 22:25:16,220 INFO luigi-interface : Worker Worker(salt=306585796, workers=1, host=tenajimachine, username=yuto, pid=39796) was stopped. Shutting down Keep-Alive thread\n",
      "INFO: \n",
      "===== Luigi Execution Summary =====\n",
      "\n",
      "Scheduled 3 tasks of which:\n",
      "* 2 complete ones were encountered:\n",
      "    - 1 Preprocess(...)\n",
      "    - 1 TrainStratifiedKFold(...)\n",
      "* 1 ran successfully:\n",
      "    - 1 Predict(...)\n",
      "\n",
      "This progress looks :) because there were no failed tasks or missing dependencies\n",
      "\n",
      "===== Luigi Execution Summary =====\n",
      "\n",
      "2020-02-16 22:25:16,227 INFO luigi-interface : \n",
      "===== Luigi Execution Summary =====\n",
      "\n",
      "Scheduled 3 tasks of which:\n",
      "* 2 complete ones were encountered:\n",
      "    - 1 Preprocess(...)\n",
      "    - 1 TrainStratifiedKFold(...)\n",
      "* 1 ran successfully:\n",
      "    - 1 Predict(...)\n",
      "\n",
      "This progress looks :) because there were no failed tasks or missing dependencies\n",
      "\n",
      "===== Luigi Execution Summary =====\n",
      "\n"
     ]
    },
    {
     "data": {
      "text/plain": [
       "True"
      ]
     },
     "execution_count": 7,
     "metadata": {},
     "output_type": "execute_result"
    }
   ],
   "source": [
    "luigi.build([Predict()], local_scheduler=True)"
   ]
  },
  {
   "cell_type": "code",
   "execution_count": null,
   "metadata": {},
   "outputs": [],
   "source": []
  }
 ],
 "metadata": {
  "kernelspec": {
   "display_name": "Python 3",
   "language": "python",
   "name": "python3"
  },
  "language_info": {
   "codemirror_mode": {
    "name": "ipython",
    "version": 3
   },
   "file_extension": ".py",
   "mimetype": "text/x-python",
   "name": "python",
   "nbconvert_exporter": "python",
   "pygments_lexer": "ipython3",
   "version": "3.7.6"
  }
 },
 "nbformat": 4,
 "nbformat_minor": 4
}
