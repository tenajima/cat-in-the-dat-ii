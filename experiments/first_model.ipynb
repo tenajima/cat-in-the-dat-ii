{
 "cells": [
  {
   "cell_type": "code",
   "execution_count": 7,
   "metadata": {},
   "outputs": [],
   "source": [
    "import luigi\n",
    "import pandas as pd\n",
    "from dotenv import load_dotenv\n",
    "\n",
    "from scripts.train.train import TrainStratifiedKFold, Preprocess\n",
    "from scripts.submit.predict import Predict\n",
    "from scripts.feature.get_feature import GetFeature, TargetEncode\n",
    "from scripts.train.tuning import TuningLGB"
   ]
  },
  {
   "cell_type": "code",
   "execution_count": 8,
   "metadata": {},
   "outputs": [],
   "source": [
    "pd.options.display.max_columns = 100"
   ]
  },
  {
   "cell_type": "code",
   "execution_count": 9,
   "metadata": {},
   "outputs": [
    {
     "name": "stdout",
     "output_type": "stream",
     "text": [
      "The autoreload extension is already loaded. To reload it, use:\n",
      "  %reload_ext autoreload\n"
     ]
    }
   ],
   "source": [
    "%load_ext autoreload\n",
    "%autoreload 2"
   ]
  },
  {
   "cell_type": "code",
   "execution_count": 10,
   "metadata": {},
   "outputs": [
    {
     "data": {
      "text/plain": [
       "True"
      ]
     },
     "execution_count": 10,
     "metadata": {},
     "output_type": "execute_result"
    }
   ],
   "source": [
    "load_dotenv()"
   ]
  },
  {
   "cell_type": "code",
   "execution_count": 11,
   "metadata": {},
   "outputs": [
    {
     "ename": "FileNotFoundError",
     "evalue": "[Errno 2] No such file or directory: './resources/scripts/train/tuning/TuningLGB_b0b161233d6587a97bc4952d65083e96.pkl'",
     "output_type": "error",
     "traceback": [
      "\u001b[0;31m---------------------------------------------------------------------------\u001b[0m",
      "\u001b[0;31mFileNotFoundError\u001b[0m                         Traceback (most recent call last)",
      "\u001b[0;32m<ipython-input-11-619e0407abf0>\u001b[0m in \u001b[0;36m<module>\u001b[0;34m\u001b[0m\n\u001b[0;32m----> 1\u001b[0;31m \u001b[0mpd\u001b[0m\u001b[0;34m.\u001b[0m\u001b[0mread_pickle\u001b[0m\u001b[0;34m(\u001b[0m\u001b[0;34m'./resources/scripts/train/tuning/TuningLGB_b0b161233d6587a97bc4952d65083e96.pkl'\u001b[0m\u001b[0;34m)\u001b[0m\u001b[0;34m[\u001b[0m\u001b[0;34m'best_params'\u001b[0m\u001b[0;34m]\u001b[0m\u001b[0;34m\u001b[0m\u001b[0;34m\u001b[0m\u001b[0m\n\u001b[0m",
      "\u001b[0;32m~/cat-in-the-dat-ii/.venv/lib/python3.7/site-packages/pandas/io/pickle.py\u001b[0m in \u001b[0;36mread_pickle\u001b[0;34m(filepath_or_buffer, compression)\u001b[0m\n\u001b[1;32m    168\u001b[0m     \u001b[0;32mif\u001b[0m \u001b[0;32mnot\u001b[0m \u001b[0misinstance\u001b[0m\u001b[0;34m(\u001b[0m\u001b[0mfp_or_buf\u001b[0m\u001b[0;34m,\u001b[0m \u001b[0mstr\u001b[0m\u001b[0;34m)\u001b[0m \u001b[0;32mand\u001b[0m \u001b[0mcompression\u001b[0m \u001b[0;34m==\u001b[0m \u001b[0;34m\"infer\"\u001b[0m\u001b[0;34m:\u001b[0m\u001b[0;34m\u001b[0m\u001b[0;34m\u001b[0m\u001b[0m\n\u001b[1;32m    169\u001b[0m         \u001b[0mcompression\u001b[0m \u001b[0;34m=\u001b[0m \u001b[0;32mNone\u001b[0m\u001b[0;34m\u001b[0m\u001b[0;34m\u001b[0m\u001b[0m\n\u001b[0;32m--> 170\u001b[0;31m     \u001b[0mf\u001b[0m\u001b[0;34m,\u001b[0m \u001b[0mfh\u001b[0m \u001b[0;34m=\u001b[0m \u001b[0mget_handle\u001b[0m\u001b[0;34m(\u001b[0m\u001b[0mfp_or_buf\u001b[0m\u001b[0;34m,\u001b[0m \u001b[0;34m\"rb\"\u001b[0m\u001b[0;34m,\u001b[0m \u001b[0mcompression\u001b[0m\u001b[0;34m=\u001b[0m\u001b[0mcompression\u001b[0m\u001b[0;34m,\u001b[0m \u001b[0mis_text\u001b[0m\u001b[0;34m=\u001b[0m\u001b[0;32mFalse\u001b[0m\u001b[0;34m)\u001b[0m\u001b[0;34m\u001b[0m\u001b[0;34m\u001b[0m\u001b[0m\n\u001b[0m\u001b[1;32m    171\u001b[0m \u001b[0;34m\u001b[0m\u001b[0m\n\u001b[1;32m    172\u001b[0m     \u001b[0;31m# 1) try standard library Pickle\u001b[0m\u001b[0;34m\u001b[0m\u001b[0;34m\u001b[0m\u001b[0;34m\u001b[0m\u001b[0m\n",
      "\u001b[0;32m~/cat-in-the-dat-ii/.venv/lib/python3.7/site-packages/pandas/io/common.py\u001b[0m in \u001b[0;36mget_handle\u001b[0;34m(path_or_buf, mode, encoding, compression, memory_map, is_text)\u001b[0m\n\u001b[1;32m    432\u001b[0m         \u001b[0;32melse\u001b[0m\u001b[0;34m:\u001b[0m\u001b[0;34m\u001b[0m\u001b[0;34m\u001b[0m\u001b[0m\n\u001b[1;32m    433\u001b[0m             \u001b[0;31m# Binary mode\u001b[0m\u001b[0;34m\u001b[0m\u001b[0;34m\u001b[0m\u001b[0;34m\u001b[0m\u001b[0m\n\u001b[0;32m--> 434\u001b[0;31m             \u001b[0mf\u001b[0m \u001b[0;34m=\u001b[0m \u001b[0mopen\u001b[0m\u001b[0;34m(\u001b[0m\u001b[0mpath_or_buf\u001b[0m\u001b[0;34m,\u001b[0m \u001b[0mmode\u001b[0m\u001b[0;34m)\u001b[0m\u001b[0;34m\u001b[0m\u001b[0;34m\u001b[0m\u001b[0m\n\u001b[0m\u001b[1;32m    435\u001b[0m         \u001b[0mhandles\u001b[0m\u001b[0;34m.\u001b[0m\u001b[0mappend\u001b[0m\u001b[0;34m(\u001b[0m\u001b[0mf\u001b[0m\u001b[0;34m)\u001b[0m\u001b[0;34m\u001b[0m\u001b[0;34m\u001b[0m\u001b[0m\n\u001b[1;32m    436\u001b[0m \u001b[0;34m\u001b[0m\u001b[0m\n",
      "\u001b[0;31mFileNotFoundError\u001b[0m: [Errno 2] No such file or directory: './resources/scripts/train/tuning/TuningLGB_b0b161233d6587a97bc4952d65083e96.pkl'"
     ]
    }
   ],
   "source": [
    "pd.read_pickle('./resources/scripts/train/tuning/TuningLGB_b0b161233d6587a97bc4952d65083e96.pkl')['best_params']"
   ]
  },
  {
   "cell_type": "code",
   "execution_count": 19,
   "metadata": {},
   "outputs": [
    {
     "name": "stderr",
     "output_type": "stream",
     "text": [
      "2020-02-24 14:17:47,315 INFO luigi : logging already configured\n",
      "DEBUG: Checking if TuningLGB(random_state=110) is complete\n",
      "2020-02-24 14:17:47,319 DEBUG luigi-interface : Checking if TuningLGB(random_state=110) is complete\n",
      "DEBUG: Checking if Preprocess(use_columns=[], drop_columns=[\"BinaryCategorical_bin_0\", \"BinaryCategorical_bin_1\", \"BinaryCategorical_bin_3\", \"BinaryCategorical_bin_4\", \"CatBoostEncoder_bin_1\", \"CatBoostEncoder_bin_3\", \"CatBoostEncoder_bin_4\", \"CatBoostEncoder_nom_0\", \"CatBoostEncoder_nom_6\", \"JamesSteinEncoder_bin_1\", \"JamesSteinEncoder_bin_3\", \"JamesSteinEncoder_bin_4\", \"JamesSteinEncoder_nom_0\", \"JamesSteinEncoder_nom_6\", \"MEstimateEncoder_bin_1\", \"MEstimateEncoder_bin_3\", \"MEstimateEncoder_bin_4\", \"MEstimateEncoder_nom_0\", \"MEstimateEncoder_nom_6\", \"OHE_bin_0_0.0\", \"OHE_bin_0_nan\", \"OHE_bin_1_0.0\", \"OHE_bin_1_1.0\", \"OHE_bin_1_nan\", \"OHE_bin_2_nan\", \"OHE_bin_3_F\", \"OHE_bin_3_T\", \"OHE_bin_3_nan\", \"OHE_bin_4_N\", \"OHE_bin_4_Y\", \"OHE_bin_4_nan\", \"OHE_nom_0_Blue\", \"OHE_nom_0_Green\", \"OHE_nom_0_Red\", \"OHE_nom_0_nan\", \"OHE_nom_1_Circle\", \"OHE_nom_1_Polygon\", \"OHE_nom_1_Square\", \"OHE_nom_1_Star\", \"OHE_nom_1_Trapezoid\", \"OHE_nom_1_Triangle\", \"OHE_nom_1_nan\", \"OHE_nom_2_Axolotl\", \"OHE_nom_2_Cat\", \"OHE_nom_2_Dog\", \"OHE_nom_2_Hamster\", \"OHE_nom_2_Lion\", \"OHE_nom_2_Snake\", \"OHE_nom_2_nan\", \"OHE_nom_3_Canada\", \"OHE_nom_3_China\", \"OHE_nom_3_Costa Rica\", \"OHE_nom_3_Finland\", \"OHE_nom_3_India\", \"OHE_nom_3_Russia\", \"OHE_nom_3_nan\", \"OHE_nom_4_Oboe\", \"OHE_nom_4_Piano\", \"OHE_nom_4_Theremin\", \"OHE_nom_4_nan\", \"OHE_ord_0_2.0\", \"OHE_ord_0_nan\", \"OHE_ord_1_Contributor\", \"OHE_ord_1_Expert\", \"OHE_ord_1_Grandmaster\", \"OHE_ord_1_Master\", \"OHE_ord_1_Novice\", \"OHE_ord_1_nan\", \"OHE_ord_2_Boiling Hot\", \"OHE_ord_2_Cold\", \"OHE_ord_2_Hot\", \"OHE_ord_2_Warm\", \"OHE_ord_2_nan\", \"OHE_ord_3_a\", \"OHE_ord_3_b\", \"OHE_ord_3_c\", \"OHE_ord_3_d\", \"OHE_ord_3_e\", \"OHE_ord_3_f\", \"OHE_ord_3_g\", \"OHE_ord_3_h\", \"OHE_ord_3_i\", \"OHE_ord_3_j\", \"OHE_ord_3_k\", \"OHE_ord_3_l\", \"OHE_ord_3_m\", \"OHE_ord_3_n\", \"OHE_ord_3_nan\", \"OHE_ord_3_o\", \"OHE_ord_4_A\", \"OHE_ord_4_B\", \"OHE_ord_4_C\", \"OHE_ord_4_D\", \"OHE_ord_4_E\", \"OHE_ord_4_F\", \"OHE_ord_4_G\", \"OHE_ord_4_H\", \"OHE_ord_4_I\", \"OHE_ord_4_J\", \"OHE_ord_4_K\", \"OHE_ord_4_L\", \"OHE_ord_4_M\", \"OHE_ord_4_N\", \"OHE_ord_4_O\", \"OHE_ord_4_P\", \"OHE_ord_4_Q\", \"OHE_ord_4_R\", \"OHE_ord_4_S\", \"OHE_ord_4_T\", \"OHE_ord_4_U\", \"OHE_ord_4_V\", \"OHE_ord_4_W\", \"OHE_ord_4_X\", \"OHE_ord_4_Y\", \"OHE_ord_4_Z\", \"OHE_ord_4_nan\", \"OHE_ord_5_AG\", \"OHE_ord_5_AI\", \"OHE_ord_5_AU\", \"OHE_ord_5_AW\", \"OHE_ord_5_Ay\", \"OHE_ord_5_BL\", \"OHE_ord_5_BX\", \"OHE_ord_5_Bx\", \"OHE_ord_5_CN\", \"OHE_ord_5_CU\", \"OHE_ord_5_Cn\", \"OHE_ord_5_DI\", \"OHE_ord_5_DN\", \"OHE_ord_5_DR\", \"OHE_ord_5_DT\", \"OHE_ord_5_Dj\", \"OHE_ord_5_Dn\", \"OHE_ord_5_EC\", \"OHE_ord_5_Ey\", \"OHE_ord_5_FB\", \"OHE_ord_5_FH\", \"OHE_ord_5_Fl\", \"OHE_ord_5_GZ\", \"OHE_ord_5_HF\", \"OHE_ord_5_HK\", \"OHE_ord_5_HO\", \"OHE_ord_5_Hk\", \"OHE_ord_5_IA\", \"OHE_ord_5_IS\", \"OHE_ord_5_Ib\", \"OHE_ord_5_In\", \"OHE_ord_5_Io\", \"OHE_ord_5_Iq\", \"OHE_ord_5_JQ\", \"OHE_ord_5_JT\", \"OHE_ord_5_Ji\", \"OHE_ord_5_Kq\", \"OHE_ord_5_LS\", \"OHE_ord_5_LY\", \"OHE_ord_5_Lo\", \"OHE_ord_5_MF\", \"OHE_ord_5_MU\", \"OHE_ord_5_MV\", \"OHE_ord_5_MX\", \"OHE_ord_5_Mg\", \"OHE_ord_5_Mq\", \"OHE_ord_5_NS\", \"OHE_ord_5_NT\", \"OHE_ord_5_Nh\", \"OHE_ord_5_OM\", \"OHE_ord_5_OZ\", \"OHE_ord_5_Oe\", \"OHE_ord_5_Ox\", \"OHE_ord_5_PG\", \"OHE_ord_5_PS\", \"OHE_ord_5_Pk\", \"OHE_ord_5_Pw\", \"OHE_ord_5_QV\", \"OHE_ord_5_Qm\", \"OHE_ord_5_RB\", \"OHE_ord_5_RD\", \"OHE_ord_5_RT\", \"OHE_ord_5_RV\", \"OHE_ord_5_Re\", \"OHE_ord_5_Rj\", \"OHE_ord_5_Ro\", \"OHE_ord_5_Rv\", \"OHE_ord_5_Rz\", \"OHE_ord_5_SL\", \"OHE_ord_5_SS\", \"OHE_ord_5_Sk\", \"OHE_ord_5_Sz\", \"OHE_ord_5_TH\", \"OHE_ord_5_TL\", \"OHE_ord_5_TP\", \"OHE_ord_5_TZ\", \"OHE_ord_5_Tg\", \"OHE_ord_5_Ty\", \"OHE_ord_5_Tz\", \"OHE_ord_5_US\", \"OHE_ord_5_UV\", \"OHE_ord_5_WC\", \"OHE_ord_5_WW\", \"OHE_ord_5_Wr\", \"OHE_ord_5_XC\", \"OHE_ord_5_XI\", \"OHE_ord_5_XM\", \"OHE_ord_5_XR\", \"OHE_ord_5_XU\", \"OHE_ord_5_YJ\", \"OHE_ord_5_Yb\", \"OHE_ord_5_Yi\", \"OHE_ord_5_Yr\", \"OHE_ord_5_Zv\", \"OHE_ord_5_aA\", \"OHE_ord_5_aE\", \"OHE_ord_5_al\", \"OHE_ord_5_be\", \"OHE_ord_5_cR\", \"OHE_ord_5_cY\", \"OHE_ord_5_cg\", \"OHE_ord_5_cy\", \"OHE_ord_5_dh\", \"OHE_ord_5_dp\", \"OHE_ord_5_eA\", \"OHE_ord_5_eN\", \"OHE_ord_5_ep\", \"OHE_ord_5_fF\", \"OHE_ord_5_fO\", \"OHE_ord_5_fV\", \"OHE_ord_5_fe\", \"OHE_ord_5_gK\", \"OHE_ord_5_gL\", \"OHE_ord_5_gV\", \"OHE_ord_5_gc\", \"OHE_ord_5_gj\", \"OHE_ord_5_gt\", \"OHE_ord_5_hG\", \"OHE_ord_5_hT\", \"OHE_ord_5_ht\", \"OHE_ord_5_hx\", \"OHE_ord_5_iS\", \"OHE_ord_5_iv\", \"OHE_ord_5_ja\", \"OHE_ord_5_jf\", \"OHE_ord_5_jp\", \"OHE_ord_5_kB\", \"OHE_ord_5_kP\", \"OHE_ord_5_kT\", \"OHE_ord_5_kv\", \"OHE_ord_5_lA\", \"OHE_ord_5_lR\", \"OHE_ord_5_lS\", \"OHE_ord_5_ly\", \"OHE_ord_5_mD\", \"OHE_ord_5_mP\", \"OHE_ord_5_mX\", \"OHE_ord_5_mi\", \"OHE_ord_5_mo\", \"OHE_ord_5_nS\", \"OHE_ord_5_nan\", \"OHE_ord_5_ne\", \"OHE_ord_5_nf\", \"OHE_ord_5_nj\", \"OHE_ord_5_nn\", \"OHE_ord_5_oI\", \"OHE_ord_5_oJ\", \"OHE_ord_5_oU\", \"OHE_ord_5_oh\", \"OHE_ord_5_ok\", \"OHE_ord_5_pB\", \"OHE_ord_5_pE\", \"OHE_ord_5_pT\", \"OHE_ord_5_pZ\", \"OHE_ord_5_pl\", \"OHE_ord_5_qN\", \"OHE_ord_5_qP\", \"OHE_ord_5_rA\", \"OHE_ord_5_rM\", \"OHE_ord_5_rg\", \"OHE_ord_5_rl\", \"OHE_ord_5_sF\", \"OHE_ord_5_sY\", \"OHE_ord_5_sc\", \"OHE_ord_5_sf\", \"OHE_ord_5_tT\", \"OHE_ord_5_th\", \"OHE_ord_5_tn\", \"OHE_ord_5_uI\", \"OHE_ord_5_uP\", \"OHE_ord_5_uQ\", \"OHE_ord_5_uW\", \"OHE_ord_5_uZ\", \"OHE_ord_5_ur\", \"OHE_ord_5_us\", \"OHE_ord_5_vQ\", \"OHE_ord_5_vq\", \"OHE_ord_5_vw\", \"OHE_ord_5_vx\", \"OHE_ord_5_wJ\", \"OHE_ord_5_wU\", \"OHE_ord_5_wa\", \"OHE_ord_5_xB\", \"OHE_ord_5_xF\", \"OHE_ord_5_xG\", \"OHE_ord_5_yE\", \"OHE_ord_5_yK\", \"OHE_ord_5_zc\", \"OHE_ord_5_ze\", \"OHE_ord_5_zf\", \"OHE_ord_5_zp\", \"Ord5_2\", \"TargetEncoder_bin_1\", \"TargetEncoder_bin_3\", \"TargetEncoder_bin_4\", \"TargetEncoder_nom_0\", \"TargetEncoder_nom_6\", \"WOEEncoder_bin_1\", \"WOEEncoder_bin_3\", \"WOEEncoder_bin_4\", \"WOEEncoder_nom_0\", \"WOEEncoder_nom_4\", \"WOEEncoder_nom_6\", \"count_encode_nom_1\", \"count_encode_nom_2\", \"count_encode_nom_3\", \"count_encode_nom_4\", \"count_encode_nom_5\", \"count_encode_nom_6\", \"count_encode_nom_7\", \"count_encode_nom_8\", \"count_encode_nom_9\", \"day_sin\", \"month_cos\"]) is complete\n",
      "2020-02-24 14:17:47,322 DEBUG luigi-interface : Checking if Preprocess(use_columns=[], drop_columns=[\"BinaryCategorical_bin_0\", \"BinaryCategorical_bin_1\", \"BinaryCategorical_bin_3\", \"BinaryCategorical_bin_4\", \"CatBoostEncoder_bin_1\", \"CatBoostEncoder_bin_3\", \"CatBoostEncoder_bin_4\", \"CatBoostEncoder_nom_0\", \"CatBoostEncoder_nom_6\", \"JamesSteinEncoder_bin_1\", \"JamesSteinEncoder_bin_3\", \"JamesSteinEncoder_bin_4\", \"JamesSteinEncoder_nom_0\", \"JamesSteinEncoder_nom_6\", \"MEstimateEncoder_bin_1\", \"MEstimateEncoder_bin_3\", \"MEstimateEncoder_bin_4\", \"MEstimateEncoder_nom_0\", \"MEstimateEncoder_nom_6\", \"OHE_bin_0_0.0\", \"OHE_bin_0_nan\", \"OHE_bin_1_0.0\", \"OHE_bin_1_1.0\", \"OHE_bin_1_nan\", \"OHE_bin_2_nan\", \"OHE_bin_3_F\", \"OHE_bin_3_T\", \"OHE_bin_3_nan\", \"OHE_bin_4_N\", \"OHE_bin_4_Y\", \"OHE_bin_4_nan\", \"OHE_nom_0_Blue\", \"OHE_nom_0_Green\", \"OHE_nom_0_Red\", \"OHE_nom_0_nan\", \"OHE_nom_1_Circle\", \"OHE_nom_1_Polygon\", \"OHE_nom_1_Square\", \"OHE_nom_1_Star\", \"OHE_nom_1_Trapezoid\", \"OHE_nom_1_Triangle\", \"OHE_nom_1_nan\", \"OHE_nom_2_Axolotl\", \"OHE_nom_2_Cat\", \"OHE_nom_2_Dog\", \"OHE_nom_2_Hamster\", \"OHE_nom_2_Lion\", \"OHE_nom_2_Snake\", \"OHE_nom_2_nan\", \"OHE_nom_3_Canada\", \"OHE_nom_3_China\", \"OHE_nom_3_Costa Rica\", \"OHE_nom_3_Finland\", \"OHE_nom_3_India\", \"OHE_nom_3_Russia\", \"OHE_nom_3_nan\", \"OHE_nom_4_Oboe\", \"OHE_nom_4_Piano\", \"OHE_nom_4_Theremin\", \"OHE_nom_4_nan\", \"OHE_ord_0_2.0\", \"OHE_ord_0_nan\", \"OHE_ord_1_Contributor\", \"OHE_ord_1_Expert\", \"OHE_ord_1_Grandmaster\", \"OHE_ord_1_Master\", \"OHE_ord_1_Novice\", \"OHE_ord_1_nan\", \"OHE_ord_2_Boiling Hot\", \"OHE_ord_2_Cold\", \"OHE_ord_2_Hot\", \"OHE_ord_2_Warm\", \"OHE_ord_2_nan\", \"OHE_ord_3_a\", \"OHE_ord_3_b\", \"OHE_ord_3_c\", \"OHE_ord_3_d\", \"OHE_ord_3_e\", \"OHE_ord_3_f\", \"OHE_ord_3_g\", \"OHE_ord_3_h\", \"OHE_ord_3_i\", \"OHE_ord_3_j\", \"OHE_ord_3_k\", \"OHE_ord_3_l\", \"OHE_ord_3_m\", \"OHE_ord_3_n\", \"OHE_ord_3_nan\", \"OHE_ord_3_o\", \"OHE_ord_4_A\", \"OHE_ord_4_B\", \"OHE_ord_4_C\", \"OHE_ord_4_D\", \"OHE_ord_4_E\", \"OHE_ord_4_F\", \"OHE_ord_4_G\", \"OHE_ord_4_H\", \"OHE_ord_4_I\", \"OHE_ord_4_J\", \"OHE_ord_4_K\", \"OHE_ord_4_L\", \"OHE_ord_4_M\", \"OHE_ord_4_N\", \"OHE_ord_4_O\", \"OHE_ord_4_P\", \"OHE_ord_4_Q\", \"OHE_ord_4_R\", \"OHE_ord_4_S\", \"OHE_ord_4_T\", \"OHE_ord_4_U\", \"OHE_ord_4_V\", \"OHE_ord_4_W\", \"OHE_ord_4_X\", \"OHE_ord_4_Y\", \"OHE_ord_4_Z\", \"OHE_ord_4_nan\", \"OHE_ord_5_AG\", \"OHE_ord_5_AI\", \"OHE_ord_5_AU\", \"OHE_ord_5_AW\", \"OHE_ord_5_Ay\", \"OHE_ord_5_BL\", \"OHE_ord_5_BX\", \"OHE_ord_5_Bx\", \"OHE_ord_5_CN\", \"OHE_ord_5_CU\", \"OHE_ord_5_Cn\", \"OHE_ord_5_DI\", \"OHE_ord_5_DN\", \"OHE_ord_5_DR\", \"OHE_ord_5_DT\", \"OHE_ord_5_Dj\", \"OHE_ord_5_Dn\", \"OHE_ord_5_EC\", \"OHE_ord_5_Ey\", \"OHE_ord_5_FB\", \"OHE_ord_5_FH\", \"OHE_ord_5_Fl\", \"OHE_ord_5_GZ\", \"OHE_ord_5_HF\", \"OHE_ord_5_HK\", \"OHE_ord_5_HO\", \"OHE_ord_5_Hk\", \"OHE_ord_5_IA\", \"OHE_ord_5_IS\", \"OHE_ord_5_Ib\", \"OHE_ord_5_In\", \"OHE_ord_5_Io\", \"OHE_ord_5_Iq\", \"OHE_ord_5_JQ\", \"OHE_ord_5_JT\", \"OHE_ord_5_Ji\", \"OHE_ord_5_Kq\", \"OHE_ord_5_LS\", \"OHE_ord_5_LY\", \"OHE_ord_5_Lo\", \"OHE_ord_5_MF\", \"OHE_ord_5_MU\", \"OHE_ord_5_MV\", \"OHE_ord_5_MX\", \"OHE_ord_5_Mg\", \"OHE_ord_5_Mq\", \"OHE_ord_5_NS\", \"OHE_ord_5_NT\", \"OHE_ord_5_Nh\", \"OHE_ord_5_OM\", \"OHE_ord_5_OZ\", \"OHE_ord_5_Oe\", \"OHE_ord_5_Ox\", \"OHE_ord_5_PG\", \"OHE_ord_5_PS\", \"OHE_ord_5_Pk\", \"OHE_ord_5_Pw\", \"OHE_ord_5_QV\", \"OHE_ord_5_Qm\", \"OHE_ord_5_RB\", \"OHE_ord_5_RD\", \"OHE_ord_5_RT\", \"OHE_ord_5_RV\", \"OHE_ord_5_Re\", \"OHE_ord_5_Rj\", \"OHE_ord_5_Ro\", \"OHE_ord_5_Rv\", \"OHE_ord_5_Rz\", \"OHE_ord_5_SL\", \"OHE_ord_5_SS\", \"OHE_ord_5_Sk\", \"OHE_ord_5_Sz\", \"OHE_ord_5_TH\", \"OHE_ord_5_TL\", \"OHE_ord_5_TP\", \"OHE_ord_5_TZ\", \"OHE_ord_5_Tg\", \"OHE_ord_5_Ty\", \"OHE_ord_5_Tz\", \"OHE_ord_5_US\", \"OHE_ord_5_UV\", \"OHE_ord_5_WC\", \"OHE_ord_5_WW\", \"OHE_ord_5_Wr\", \"OHE_ord_5_XC\", \"OHE_ord_5_XI\", \"OHE_ord_5_XM\", \"OHE_ord_5_XR\", \"OHE_ord_5_XU\", \"OHE_ord_5_YJ\", \"OHE_ord_5_Yb\", \"OHE_ord_5_Yi\", \"OHE_ord_5_Yr\", \"OHE_ord_5_Zv\", \"OHE_ord_5_aA\", \"OHE_ord_5_aE\", \"OHE_ord_5_al\", \"OHE_ord_5_be\", \"OHE_ord_5_cR\", \"OHE_ord_5_cY\", \"OHE_ord_5_cg\", \"OHE_ord_5_cy\", \"OHE_ord_5_dh\", \"OHE_ord_5_dp\", \"OHE_ord_5_eA\", \"OHE_ord_5_eN\", \"OHE_ord_5_ep\", \"OHE_ord_5_fF\", \"OHE_ord_5_fO\", \"OHE_ord_5_fV\", \"OHE_ord_5_fe\", \"OHE_ord_5_gK\", \"OHE_ord_5_gL\", \"OHE_ord_5_gV\", \"OHE_ord_5_gc\", \"OHE_ord_5_gj\", \"OHE_ord_5_gt\", \"OHE_ord_5_hG\", \"OHE_ord_5_hT\", \"OHE_ord_5_ht\", \"OHE_ord_5_hx\", \"OHE_ord_5_iS\", \"OHE_ord_5_iv\", \"OHE_ord_5_ja\", \"OHE_ord_5_jf\", \"OHE_ord_5_jp\", \"OHE_ord_5_kB\", \"OHE_ord_5_kP\", \"OHE_ord_5_kT\", \"OHE_ord_5_kv\", \"OHE_ord_5_lA\", \"OHE_ord_5_lR\", \"OHE_ord_5_lS\", \"OHE_ord_5_ly\", \"OHE_ord_5_mD\", \"OHE_ord_5_mP\", \"OHE_ord_5_mX\", \"OHE_ord_5_mi\", \"OHE_ord_5_mo\", \"OHE_ord_5_nS\", \"OHE_ord_5_nan\", \"OHE_ord_5_ne\", \"OHE_ord_5_nf\", \"OHE_ord_5_nj\", \"OHE_ord_5_nn\", \"OHE_ord_5_oI\", \"OHE_ord_5_oJ\", \"OHE_ord_5_oU\", \"OHE_ord_5_oh\", \"OHE_ord_5_ok\", \"OHE_ord_5_pB\", \"OHE_ord_5_pE\", \"OHE_ord_5_pT\", \"OHE_ord_5_pZ\", \"OHE_ord_5_pl\", \"OHE_ord_5_qN\", \"OHE_ord_5_qP\", \"OHE_ord_5_rA\", \"OHE_ord_5_rM\", \"OHE_ord_5_rg\", \"OHE_ord_5_rl\", \"OHE_ord_5_sF\", \"OHE_ord_5_sY\", \"OHE_ord_5_sc\", \"OHE_ord_5_sf\", \"OHE_ord_5_tT\", \"OHE_ord_5_th\", \"OHE_ord_5_tn\", \"OHE_ord_5_uI\", \"OHE_ord_5_uP\", \"OHE_ord_5_uQ\", \"OHE_ord_5_uW\", \"OHE_ord_5_uZ\", \"OHE_ord_5_ur\", \"OHE_ord_5_us\", \"OHE_ord_5_vQ\", \"OHE_ord_5_vq\", \"OHE_ord_5_vw\", \"OHE_ord_5_vx\", \"OHE_ord_5_wJ\", \"OHE_ord_5_wU\", \"OHE_ord_5_wa\", \"OHE_ord_5_xB\", \"OHE_ord_5_xF\", \"OHE_ord_5_xG\", \"OHE_ord_5_yE\", \"OHE_ord_5_yK\", \"OHE_ord_5_zc\", \"OHE_ord_5_ze\", \"OHE_ord_5_zf\", \"OHE_ord_5_zp\", \"Ord5_2\", \"TargetEncoder_bin_1\", \"TargetEncoder_bin_3\", \"TargetEncoder_bin_4\", \"TargetEncoder_nom_0\", \"TargetEncoder_nom_6\", \"WOEEncoder_bin_1\", \"WOEEncoder_bin_3\", \"WOEEncoder_bin_4\", \"WOEEncoder_nom_0\", \"WOEEncoder_nom_4\", \"WOEEncoder_nom_6\", \"count_encode_nom_1\", \"count_encode_nom_2\", \"count_encode_nom_3\", \"count_encode_nom_4\", \"count_encode_nom_5\", \"count_encode_nom_6\", \"count_encode_nom_7\", \"count_encode_nom_8\", \"count_encode_nom_9\", \"day_sin\", \"month_cos\"]) is complete\n",
      "INFO: Informed scheduler that task   TuningLGB_110_fadd22deb8   has status   PENDING\n",
      "2020-02-24 14:17:47,326 INFO luigi-interface : Informed scheduler that task   TuningLGB_110_fadd22deb8   has status   PENDING\n",
      "INFO: Informed scheduler that task   Preprocess___BinaryCategori____f1d589dadc   has status   DONE\n",
      "2020-02-24 14:17:47,328 INFO luigi-interface : Informed scheduler that task   Preprocess___BinaryCategori____f1d589dadc   has status   DONE\n",
      "INFO: Done scheduling tasks\n",
      "2020-02-24 14:17:47,329 INFO luigi-interface : Done scheduling tasks\n",
      "INFO: Running Worker with 1 processes\n",
      "2020-02-24 14:17:47,331 INFO luigi-interface : Running Worker with 1 processes\n",
      "DEBUG: Asking scheduler for work...\n",
      "2020-02-24 14:17:47,333 DEBUG luigi-interface : Asking scheduler for work...\n",
      "DEBUG: Pending tasks: 1\n",
      "2020-02-24 14:17:47,334 DEBUG luigi-interface : Pending tasks: 1\n",
      "INFO: [pid 11634] Worker Worker(salt=289895173, workers=1, host=itohara, username=yuto, pid=11634) running   TuningLGB(random_state=110)\n",
      "2020-02-24 14:17:47,336 INFO luigi-interface : [pid 11634] Worker Worker(salt=289895173, workers=1, host=itohara, username=yuto, pid=11634) running   TuningLGB(random_state=110)\n",
      "2020-02-24 14:17:47,347 INFO gokart.file_processor : writing a file with total_bytes=36...\n",
      "2020-02-24 14:17:47,348 INFO gokart.file_processor : writing bytes [0, 36)\n",
      "2020-02-24 14:17:47,348 INFO gokart.file_processor : done\n",
      "ERROR: [pid 11634] Worker Worker(salt=289895173, workers=1, host=itohara, username=yuto, pid=11634) failed    TuningLGB(random_state=110)\n",
      "Traceback (most recent call last):\n",
      "  File \"/home/yuto/cat-in-the-dat-ii/.venv/lib/python3.7/site-packages/luigi/worker.py\", line 199, in run\n",
      "    new_deps = self._run_get_new_deps()\n",
      "  File \"/home/yuto/cat-in-the-dat-ii/.venv/lib/python3.7/site-packages/luigi/worker.py\", line 141, in _run_get_new_deps\n",
      "    task_gen = self.task.run()\n",
      "  File \"/home/yuto/cat-in-the-dat-ii/experiments/scripts/train/tuning.py\", line 18, in run\n",
      "    result = tune_lgb(train_X, train_y, seed=self.random_state)\n",
      "  File \"/home/yuto/cat-in-the-dat-ii/experiments/scripts/model/model_lightgbm.py\", line 111, in tune_lgb\n",
      "    early_stopping_rounds=100,\n",
      "  File \"/home/yuto/cat-in-the-dat-ii/.venv/lib/python3.7/site-packages/optuna/integration/lightgbm_tuner/__init__.py\", line 22, in train\n",
      "    auto_booster = LightGBMTuner(*args, **kwargs)\n",
      "TypeError: __init__() got an unexpected keyword argument 'learning_rate'\n",
      "2020-02-24 14:17:48,894 ERROR luigi-interface : [pid 11634] Worker Worker(salt=289895173, workers=1, host=itohara, username=yuto, pid=11634) failed    TuningLGB(random_state=110)\n",
      "Traceback (most recent call last):\n",
      "  File \"/home/yuto/cat-in-the-dat-ii/.venv/lib/python3.7/site-packages/luigi/worker.py\", line 199, in run\n",
      "    new_deps = self._run_get_new_deps()\n",
      "  File \"/home/yuto/cat-in-the-dat-ii/.venv/lib/python3.7/site-packages/luigi/worker.py\", line 141, in _run_get_new_deps\n",
      "    task_gen = self.task.run()\n",
      "  File \"/home/yuto/cat-in-the-dat-ii/experiments/scripts/train/tuning.py\", line 18, in run\n",
      "    result = tune_lgb(train_X, train_y, seed=self.random_state)\n",
      "  File \"/home/yuto/cat-in-the-dat-ii/experiments/scripts/model/model_lightgbm.py\", line 111, in tune_lgb\n",
      "    early_stopping_rounds=100,\n",
      "  File \"/home/yuto/cat-in-the-dat-ii/.venv/lib/python3.7/site-packages/optuna/integration/lightgbm_tuner/__init__.py\", line 22, in train\n",
      "    auto_booster = LightGBMTuner(*args, **kwargs)\n",
      "TypeError: __init__() got an unexpected keyword argument 'learning_rate'\n",
      "2020-02-24 14:17:48,897 INFO gokart.task : FAILURE:\n",
      "    task name=TuningLGB\n",
      "    unique id=b0b161233d6587a97bc4952d65083e96\n",
      "DEBUG: 1 running tasks, waiting for next task to finish\n",
      "2020-02-24 14:17:48,926 DEBUG luigi-interface : 1 running tasks, waiting for next task to finish\n",
      "INFO: Informed scheduler that task   TuningLGB_110_fadd22deb8   has status   FAILED\n",
      "2020-02-24 14:17:48,930 INFO luigi-interface : Informed scheduler that task   TuningLGB_110_fadd22deb8   has status   FAILED\n",
      "DEBUG: Asking scheduler for work...\n",
      "2020-02-24 14:17:48,932 DEBUG luigi-interface : Asking scheduler for work...\n",
      "DEBUG: Done\n",
      "2020-02-24 14:17:48,935 DEBUG luigi-interface : Done\n",
      "DEBUG: There are no more tasks to run at this time\n",
      "2020-02-24 14:17:48,936 DEBUG luigi-interface : There are no more tasks to run at this time\n",
      "DEBUG: There are 1 pending tasks possibly being run by other workers\n",
      "2020-02-24 14:17:48,938 DEBUG luigi-interface : There are 1 pending tasks possibly being run by other workers\n",
      "DEBUG: There are 1 pending tasks unique to this worker\n",
      "2020-02-24 14:17:48,940 DEBUG luigi-interface : There are 1 pending tasks unique to this worker\n",
      "DEBUG: There are 1 pending tasks last scheduled by this worker\n",
      "2020-02-24 14:17:48,942 DEBUG luigi-interface : There are 1 pending tasks last scheduled by this worker\n",
      "INFO: Worker Worker(salt=289895173, workers=1, host=itohara, username=yuto, pid=11634) was stopped. Shutting down Keep-Alive thread\n",
      "2020-02-24 14:17:48,944 INFO luigi-interface : Worker Worker(salt=289895173, workers=1, host=itohara, username=yuto, pid=11634) was stopped. Shutting down Keep-Alive thread\n",
      "INFO: \n",
      "===== Luigi Execution Summary =====\n",
      "\n",
      "Scheduled 2 tasks of which:\n",
      "* 1 complete ones were encountered:\n",
      "    - 1 Preprocess(...)\n",
      "* 1 failed:\n",
      "    - 1 TuningLGB(...)\n",
      "\n",
      "This progress looks :( because there were failed tasks\n",
      "\n",
      "===== Luigi Execution Summary =====\n",
      "\n",
      "2020-02-24 14:17:48,948 INFO luigi-interface : \n",
      "===== Luigi Execution Summary =====\n",
      "\n",
      "Scheduled 2 tasks of which:\n",
      "* 1 complete ones were encountered:\n",
      "    - 1 Preprocess(...)\n",
      "* 1 failed:\n",
      "    - 1 TuningLGB(...)\n",
      "\n",
      "This progress looks :( because there were failed tasks\n",
      "\n",
      "===== Luigi Execution Summary =====\n",
      "\n"
     ]
    },
    {
     "data": {
      "text/plain": [
       "False"
      ]
     },
     "execution_count": 19,
     "metadata": {},
     "output_type": "execute_result"
    }
   ],
   "source": [
    "luigi.build([TuningLGB()], local_scheduler=True)"
   ]
  },
  {
   "cell_type": "code",
   "execution_count": 6,
   "metadata": {
    "collapsed": true,
    "jupyter": {
     "outputs_hidden": true
    }
   },
   "outputs": [
    {
     "name": "stderr",
     "output_type": "stream",
     "text": [
      "2020-02-24 12:59:26,128 INFO luigi : logging configured by default settings\n",
      "DEBUG: Checking if Predict(random_state=110) is complete\n",
      "2020-02-24 12:59:26,133 DEBUG luigi-interface : Checking if Predict(random_state=110) is complete\n",
      "DEBUG: Checking if Preprocess(use_columns=[], drop_columns=[\"BinaryCategorical_bin_0\", \"BinaryCategorical_bin_1\", \"BinaryCategorical_bin_3\", \"BinaryCategorical_bin_4\", \"CatBoostEncoder_bin_1\", \"CatBoostEncoder_bin_3\", \"CatBoostEncoder_bin_4\", \"CatBoostEncoder_nom_0\", \"CatBoostEncoder_nom_6\", \"JamesSteinEncoder_bin_1\", \"JamesSteinEncoder_bin_3\", \"JamesSteinEncoder_bin_4\", \"JamesSteinEncoder_nom_0\", \"JamesSteinEncoder_nom_6\", \"MEstimateEncoder_bin_1\", \"MEstimateEncoder_bin_3\", \"MEstimateEncoder_bin_4\", \"MEstimateEncoder_nom_0\", \"MEstimateEncoder_nom_6\", \"OHE_bin_0_0.0\", \"OHE_bin_0_nan\", \"OHE_bin_1_0.0\", \"OHE_bin_1_1.0\", \"OHE_bin_1_nan\", \"OHE_bin_2_nan\", \"OHE_bin_3_F\", \"OHE_bin_3_T\", \"OHE_bin_3_nan\", \"OHE_bin_4_N\", \"OHE_bin_4_Y\", \"OHE_bin_4_nan\", \"OHE_nom_0_Blue\", \"OHE_nom_0_Green\", \"OHE_nom_0_Red\", \"OHE_nom_0_nan\", \"OHE_nom_1_Circle\", \"OHE_nom_1_Polygon\", \"OHE_nom_1_Square\", \"OHE_nom_1_Star\", \"OHE_nom_1_Trapezoid\", \"OHE_nom_1_Triangle\", \"OHE_nom_1_nan\", \"OHE_nom_2_Axolotl\", \"OHE_nom_2_Cat\", \"OHE_nom_2_Dog\", \"OHE_nom_2_Hamster\", \"OHE_nom_2_Lion\", \"OHE_nom_2_Snake\", \"OHE_nom_2_nan\", \"OHE_nom_3_Canada\", \"OHE_nom_3_China\", \"OHE_nom_3_Costa Rica\", \"OHE_nom_3_Finland\", \"OHE_nom_3_India\", \"OHE_nom_3_Russia\", \"OHE_nom_3_nan\", \"OHE_nom_4_Oboe\", \"OHE_nom_4_Piano\", \"OHE_nom_4_Theremin\", \"OHE_nom_4_nan\", \"OHE_ord_0_2.0\", \"OHE_ord_0_nan\", \"OHE_ord_1_Contributor\", \"OHE_ord_1_Expert\", \"OHE_ord_1_Grandmaster\", \"OHE_ord_1_Master\", \"OHE_ord_1_Novice\", \"OHE_ord_1_nan\", \"OHE_ord_2_Boiling Hot\", \"OHE_ord_2_Cold\", \"OHE_ord_2_Hot\", \"OHE_ord_2_Warm\", \"OHE_ord_2_nan\", \"OHE_ord_3_a\", \"OHE_ord_3_b\", \"OHE_ord_3_c\", \"OHE_ord_3_d\", \"OHE_ord_3_e\", \"OHE_ord_3_f\", \"OHE_ord_3_g\", \"OHE_ord_3_h\", \"OHE_ord_3_i\", \"OHE_ord_3_j\", \"OHE_ord_3_k\", \"OHE_ord_3_l\", \"OHE_ord_3_m\", \"OHE_ord_3_n\", \"OHE_ord_3_nan\", \"OHE_ord_3_o\", \"OHE_ord_4_A\", \"OHE_ord_4_B\", \"OHE_ord_4_C\", \"OHE_ord_4_D\", \"OHE_ord_4_E\", \"OHE_ord_4_F\", \"OHE_ord_4_G\", \"OHE_ord_4_H\", \"OHE_ord_4_I\", \"OHE_ord_4_J\", \"OHE_ord_4_K\", \"OHE_ord_4_L\", \"OHE_ord_4_M\", \"OHE_ord_4_N\", \"OHE_ord_4_O\", \"OHE_ord_4_P\", \"OHE_ord_4_Q\", \"OHE_ord_4_R\", \"OHE_ord_4_S\", \"OHE_ord_4_T\", \"OHE_ord_4_U\", \"OHE_ord_4_V\", \"OHE_ord_4_W\", \"OHE_ord_4_X\", \"OHE_ord_4_Y\", \"OHE_ord_4_Z\", \"OHE_ord_4_nan\", \"OHE_ord_5_AG\", \"OHE_ord_5_AI\", \"OHE_ord_5_AU\", \"OHE_ord_5_AW\", \"OHE_ord_5_Ay\", \"OHE_ord_5_BL\", \"OHE_ord_5_BX\", \"OHE_ord_5_Bx\", \"OHE_ord_5_CN\", \"OHE_ord_5_CU\", \"OHE_ord_5_Cn\", \"OHE_ord_5_DI\", \"OHE_ord_5_DN\", \"OHE_ord_5_DR\", \"OHE_ord_5_DT\", \"OHE_ord_5_Dj\", \"OHE_ord_5_Dn\", \"OHE_ord_5_EC\", \"OHE_ord_5_Ey\", \"OHE_ord_5_FB\", \"OHE_ord_5_FH\", \"OHE_ord_5_Fl\", \"OHE_ord_5_GZ\", \"OHE_ord_5_HF\", \"OHE_ord_5_HK\", \"OHE_ord_5_HO\", \"OHE_ord_5_Hk\", \"OHE_ord_5_IA\", \"OHE_ord_5_IS\", \"OHE_ord_5_Ib\", \"OHE_ord_5_In\", \"OHE_ord_5_Io\", \"OHE_ord_5_Iq\", \"OHE_ord_5_JQ\", \"OHE_ord_5_JT\", \"OHE_ord_5_Ji\", \"OHE_ord_5_Kq\", \"OHE_ord_5_LS\", \"OHE_ord_5_LY\", \"OHE_ord_5_Lo\", \"OHE_ord_5_MF\", \"OHE_ord_5_MU\", \"OHE_ord_5_MV\", \"OHE_ord_5_MX\", \"OHE_ord_5_Mg\", \"OHE_ord_5_Mq\", \"OHE_ord_5_NS\", \"OHE_ord_5_NT\", \"OHE_ord_5_Nh\", \"OHE_ord_5_OM\", \"OHE_ord_5_OZ\", \"OHE_ord_5_Oe\", \"OHE_ord_5_Ox\", \"OHE_ord_5_PG\", \"OHE_ord_5_PS\", \"OHE_ord_5_Pk\", \"OHE_ord_5_Pw\", \"OHE_ord_5_QV\", \"OHE_ord_5_Qm\", \"OHE_ord_5_RB\", \"OHE_ord_5_RD\", \"OHE_ord_5_RT\", \"OHE_ord_5_RV\", \"OHE_ord_5_Re\", \"OHE_ord_5_Rj\", \"OHE_ord_5_Ro\", \"OHE_ord_5_Rv\", \"OHE_ord_5_Rz\", \"OHE_ord_5_SL\", \"OHE_ord_5_SS\", \"OHE_ord_5_Sk\", \"OHE_ord_5_Sz\", \"OHE_ord_5_TH\", \"OHE_ord_5_TL\", \"OHE_ord_5_TP\", \"OHE_ord_5_TZ\", \"OHE_ord_5_Tg\", \"OHE_ord_5_Ty\", \"OHE_ord_5_Tz\", \"OHE_ord_5_US\", \"OHE_ord_5_UV\", \"OHE_ord_5_WC\", \"OHE_ord_5_WW\", \"OHE_ord_5_Wr\", \"OHE_ord_5_XC\", \"OHE_ord_5_XI\", \"OHE_ord_5_XM\", \"OHE_ord_5_XR\", \"OHE_ord_5_XU\", \"OHE_ord_5_YJ\", \"OHE_ord_5_Yb\", \"OHE_ord_5_Yi\", \"OHE_ord_5_Yr\", \"OHE_ord_5_Zv\", \"OHE_ord_5_aA\", \"OHE_ord_5_aE\", \"OHE_ord_5_al\", \"OHE_ord_5_be\", \"OHE_ord_5_cR\", \"OHE_ord_5_cY\", \"OHE_ord_5_cg\", \"OHE_ord_5_cy\", \"OHE_ord_5_dh\", \"OHE_ord_5_dp\", \"OHE_ord_5_eA\", \"OHE_ord_5_eN\", \"OHE_ord_5_ep\", \"OHE_ord_5_fF\", \"OHE_ord_5_fO\", \"OHE_ord_5_fV\", \"OHE_ord_5_fe\", \"OHE_ord_5_gK\", \"OHE_ord_5_gL\", \"OHE_ord_5_gV\", \"OHE_ord_5_gc\", \"OHE_ord_5_gj\", \"OHE_ord_5_gt\", \"OHE_ord_5_hG\", \"OHE_ord_5_hT\", \"OHE_ord_5_ht\", \"OHE_ord_5_hx\", \"OHE_ord_5_iS\", \"OHE_ord_5_iv\", \"OHE_ord_5_ja\", \"OHE_ord_5_jf\", \"OHE_ord_5_jp\", \"OHE_ord_5_kB\", \"OHE_ord_5_kP\", \"OHE_ord_5_kT\", \"OHE_ord_5_kv\", \"OHE_ord_5_lA\", \"OHE_ord_5_lR\", \"OHE_ord_5_lS\", \"OHE_ord_5_ly\", \"OHE_ord_5_mD\", \"OHE_ord_5_mP\", \"OHE_ord_5_mX\", \"OHE_ord_5_mi\", \"OHE_ord_5_mo\", \"OHE_ord_5_nS\", \"OHE_ord_5_nan\", \"OHE_ord_5_ne\", \"OHE_ord_5_nf\", \"OHE_ord_5_nj\", \"OHE_ord_5_nn\", \"OHE_ord_5_oI\", \"OHE_ord_5_oJ\", \"OHE_ord_5_oU\", \"OHE_ord_5_oh\", \"OHE_ord_5_ok\", \"OHE_ord_5_pB\", \"OHE_ord_5_pE\", \"OHE_ord_5_pT\", \"OHE_ord_5_pZ\", \"OHE_ord_5_pl\", \"OHE_ord_5_qN\", \"OHE_ord_5_qP\", \"OHE_ord_5_rA\", \"OHE_ord_5_rM\", \"OHE_ord_5_rg\", \"OHE_ord_5_rl\", \"OHE_ord_5_sF\", \"OHE_ord_5_sY\", \"OHE_ord_5_sc\", \"OHE_ord_5_sf\", \"OHE_ord_5_tT\", \"OHE_ord_5_th\", \"OHE_ord_5_tn\", \"OHE_ord_5_uI\", \"OHE_ord_5_uP\", \"OHE_ord_5_uQ\", \"OHE_ord_5_uW\", \"OHE_ord_5_uZ\", \"OHE_ord_5_ur\", \"OHE_ord_5_us\", \"OHE_ord_5_vQ\", \"OHE_ord_5_vq\", \"OHE_ord_5_vw\", \"OHE_ord_5_vx\", \"OHE_ord_5_wJ\", \"OHE_ord_5_wU\", \"OHE_ord_5_wa\", \"OHE_ord_5_xB\", \"OHE_ord_5_xF\", \"OHE_ord_5_xG\", \"OHE_ord_5_yE\", \"OHE_ord_5_yK\", \"OHE_ord_5_zc\", \"OHE_ord_5_ze\", \"OHE_ord_5_zf\", \"OHE_ord_5_zp\", \"Ord5_2\", \"TargetEncoder_bin_1\", \"TargetEncoder_bin_3\", \"TargetEncoder_bin_4\", \"TargetEncoder_nom_0\", \"TargetEncoder_nom_6\", \"WOEEncoder_bin_1\", \"WOEEncoder_bin_3\", \"WOEEncoder_bin_4\", \"WOEEncoder_nom_0\", \"WOEEncoder_nom_4\", \"WOEEncoder_nom_6\", \"count_encode_nom_1\", \"count_encode_nom_2\", \"count_encode_nom_3\", \"count_encode_nom_4\", \"count_encode_nom_5\", \"count_encode_nom_6\", \"count_encode_nom_7\", \"count_encode_nom_8\", \"count_encode_nom_9\", \"day_sin\", \"month_cos\"]) is complete\n",
      "2020-02-24 12:59:26,213 DEBUG luigi-interface : Checking if Preprocess(use_columns=[], drop_columns=[\"BinaryCategorical_bin_0\", \"BinaryCategorical_bin_1\", \"BinaryCategorical_bin_3\", \"BinaryCategorical_bin_4\", \"CatBoostEncoder_bin_1\", \"CatBoostEncoder_bin_3\", \"CatBoostEncoder_bin_4\", \"CatBoostEncoder_nom_0\", \"CatBoostEncoder_nom_6\", \"JamesSteinEncoder_bin_1\", \"JamesSteinEncoder_bin_3\", \"JamesSteinEncoder_bin_4\", \"JamesSteinEncoder_nom_0\", \"JamesSteinEncoder_nom_6\", \"MEstimateEncoder_bin_1\", \"MEstimateEncoder_bin_3\", \"MEstimateEncoder_bin_4\", \"MEstimateEncoder_nom_0\", \"MEstimateEncoder_nom_6\", \"OHE_bin_0_0.0\", \"OHE_bin_0_nan\", \"OHE_bin_1_0.0\", \"OHE_bin_1_1.0\", \"OHE_bin_1_nan\", \"OHE_bin_2_nan\", \"OHE_bin_3_F\", \"OHE_bin_3_T\", \"OHE_bin_3_nan\", \"OHE_bin_4_N\", \"OHE_bin_4_Y\", \"OHE_bin_4_nan\", \"OHE_nom_0_Blue\", \"OHE_nom_0_Green\", \"OHE_nom_0_Red\", \"OHE_nom_0_nan\", \"OHE_nom_1_Circle\", \"OHE_nom_1_Polygon\", \"OHE_nom_1_Square\", \"OHE_nom_1_Star\", \"OHE_nom_1_Trapezoid\", \"OHE_nom_1_Triangle\", \"OHE_nom_1_nan\", \"OHE_nom_2_Axolotl\", \"OHE_nom_2_Cat\", \"OHE_nom_2_Dog\", \"OHE_nom_2_Hamster\", \"OHE_nom_2_Lion\", \"OHE_nom_2_Snake\", \"OHE_nom_2_nan\", \"OHE_nom_3_Canada\", \"OHE_nom_3_China\", \"OHE_nom_3_Costa Rica\", \"OHE_nom_3_Finland\", \"OHE_nom_3_India\", \"OHE_nom_3_Russia\", \"OHE_nom_3_nan\", \"OHE_nom_4_Oboe\", \"OHE_nom_4_Piano\", \"OHE_nom_4_Theremin\", \"OHE_nom_4_nan\", \"OHE_ord_0_2.0\", \"OHE_ord_0_nan\", \"OHE_ord_1_Contributor\", \"OHE_ord_1_Expert\", \"OHE_ord_1_Grandmaster\", \"OHE_ord_1_Master\", \"OHE_ord_1_Novice\", \"OHE_ord_1_nan\", \"OHE_ord_2_Boiling Hot\", \"OHE_ord_2_Cold\", \"OHE_ord_2_Hot\", \"OHE_ord_2_Warm\", \"OHE_ord_2_nan\", \"OHE_ord_3_a\", \"OHE_ord_3_b\", \"OHE_ord_3_c\", \"OHE_ord_3_d\", \"OHE_ord_3_e\", \"OHE_ord_3_f\", \"OHE_ord_3_g\", \"OHE_ord_3_h\", \"OHE_ord_3_i\", \"OHE_ord_3_j\", \"OHE_ord_3_k\", \"OHE_ord_3_l\", \"OHE_ord_3_m\", \"OHE_ord_3_n\", \"OHE_ord_3_nan\", \"OHE_ord_3_o\", \"OHE_ord_4_A\", \"OHE_ord_4_B\", \"OHE_ord_4_C\", \"OHE_ord_4_D\", \"OHE_ord_4_E\", \"OHE_ord_4_F\", \"OHE_ord_4_G\", \"OHE_ord_4_H\", \"OHE_ord_4_I\", \"OHE_ord_4_J\", \"OHE_ord_4_K\", \"OHE_ord_4_L\", \"OHE_ord_4_M\", \"OHE_ord_4_N\", \"OHE_ord_4_O\", \"OHE_ord_4_P\", \"OHE_ord_4_Q\", \"OHE_ord_4_R\", \"OHE_ord_4_S\", \"OHE_ord_4_T\", \"OHE_ord_4_U\", \"OHE_ord_4_V\", \"OHE_ord_4_W\", \"OHE_ord_4_X\", \"OHE_ord_4_Y\", \"OHE_ord_4_Z\", \"OHE_ord_4_nan\", \"OHE_ord_5_AG\", \"OHE_ord_5_AI\", \"OHE_ord_5_AU\", \"OHE_ord_5_AW\", \"OHE_ord_5_Ay\", \"OHE_ord_5_BL\", \"OHE_ord_5_BX\", \"OHE_ord_5_Bx\", \"OHE_ord_5_CN\", \"OHE_ord_5_CU\", \"OHE_ord_5_Cn\", \"OHE_ord_5_DI\", \"OHE_ord_5_DN\", \"OHE_ord_5_DR\", \"OHE_ord_5_DT\", \"OHE_ord_5_Dj\", \"OHE_ord_5_Dn\", \"OHE_ord_5_EC\", \"OHE_ord_5_Ey\", \"OHE_ord_5_FB\", \"OHE_ord_5_FH\", \"OHE_ord_5_Fl\", \"OHE_ord_5_GZ\", \"OHE_ord_5_HF\", \"OHE_ord_5_HK\", \"OHE_ord_5_HO\", \"OHE_ord_5_Hk\", \"OHE_ord_5_IA\", \"OHE_ord_5_IS\", \"OHE_ord_5_Ib\", \"OHE_ord_5_In\", \"OHE_ord_5_Io\", \"OHE_ord_5_Iq\", \"OHE_ord_5_JQ\", \"OHE_ord_5_JT\", \"OHE_ord_5_Ji\", \"OHE_ord_5_Kq\", \"OHE_ord_5_LS\", \"OHE_ord_5_LY\", \"OHE_ord_5_Lo\", \"OHE_ord_5_MF\", \"OHE_ord_5_MU\", \"OHE_ord_5_MV\", \"OHE_ord_5_MX\", \"OHE_ord_5_Mg\", \"OHE_ord_5_Mq\", \"OHE_ord_5_NS\", \"OHE_ord_5_NT\", \"OHE_ord_5_Nh\", \"OHE_ord_5_OM\", \"OHE_ord_5_OZ\", \"OHE_ord_5_Oe\", \"OHE_ord_5_Ox\", \"OHE_ord_5_PG\", \"OHE_ord_5_PS\", \"OHE_ord_5_Pk\", \"OHE_ord_5_Pw\", \"OHE_ord_5_QV\", \"OHE_ord_5_Qm\", \"OHE_ord_5_RB\", \"OHE_ord_5_RD\", \"OHE_ord_5_RT\", \"OHE_ord_5_RV\", \"OHE_ord_5_Re\", \"OHE_ord_5_Rj\", \"OHE_ord_5_Ro\", \"OHE_ord_5_Rv\", \"OHE_ord_5_Rz\", \"OHE_ord_5_SL\", \"OHE_ord_5_SS\", \"OHE_ord_5_Sk\", \"OHE_ord_5_Sz\", \"OHE_ord_5_TH\", \"OHE_ord_5_TL\", \"OHE_ord_5_TP\", \"OHE_ord_5_TZ\", \"OHE_ord_5_Tg\", \"OHE_ord_5_Ty\", \"OHE_ord_5_Tz\", \"OHE_ord_5_US\", \"OHE_ord_5_UV\", \"OHE_ord_5_WC\", \"OHE_ord_5_WW\", \"OHE_ord_5_Wr\", \"OHE_ord_5_XC\", \"OHE_ord_5_XI\", \"OHE_ord_5_XM\", \"OHE_ord_5_XR\", \"OHE_ord_5_XU\", \"OHE_ord_5_YJ\", \"OHE_ord_5_Yb\", \"OHE_ord_5_Yi\", \"OHE_ord_5_Yr\", \"OHE_ord_5_Zv\", \"OHE_ord_5_aA\", \"OHE_ord_5_aE\", \"OHE_ord_5_al\", \"OHE_ord_5_be\", \"OHE_ord_5_cR\", \"OHE_ord_5_cY\", \"OHE_ord_5_cg\", \"OHE_ord_5_cy\", \"OHE_ord_5_dh\", \"OHE_ord_5_dp\", \"OHE_ord_5_eA\", \"OHE_ord_5_eN\", \"OHE_ord_5_ep\", \"OHE_ord_5_fF\", \"OHE_ord_5_fO\", \"OHE_ord_5_fV\", \"OHE_ord_5_fe\", \"OHE_ord_5_gK\", \"OHE_ord_5_gL\", \"OHE_ord_5_gV\", \"OHE_ord_5_gc\", \"OHE_ord_5_gj\", \"OHE_ord_5_gt\", \"OHE_ord_5_hG\", \"OHE_ord_5_hT\", \"OHE_ord_5_ht\", \"OHE_ord_5_hx\", \"OHE_ord_5_iS\", \"OHE_ord_5_iv\", \"OHE_ord_5_ja\", \"OHE_ord_5_jf\", \"OHE_ord_5_jp\", \"OHE_ord_5_kB\", \"OHE_ord_5_kP\", \"OHE_ord_5_kT\", \"OHE_ord_5_kv\", \"OHE_ord_5_lA\", \"OHE_ord_5_lR\", \"OHE_ord_5_lS\", \"OHE_ord_5_ly\", \"OHE_ord_5_mD\", \"OHE_ord_5_mP\", \"OHE_ord_5_mX\", \"OHE_ord_5_mi\", \"OHE_ord_5_mo\", \"OHE_ord_5_nS\", \"OHE_ord_5_nan\", \"OHE_ord_5_ne\", \"OHE_ord_5_nf\", \"OHE_ord_5_nj\", \"OHE_ord_5_nn\", \"OHE_ord_5_oI\", \"OHE_ord_5_oJ\", \"OHE_ord_5_oU\", \"OHE_ord_5_oh\", \"OHE_ord_5_ok\", \"OHE_ord_5_pB\", \"OHE_ord_5_pE\", \"OHE_ord_5_pT\", \"OHE_ord_5_pZ\", \"OHE_ord_5_pl\", \"OHE_ord_5_qN\", \"OHE_ord_5_qP\", \"OHE_ord_5_rA\", \"OHE_ord_5_rM\", \"OHE_ord_5_rg\", \"OHE_ord_5_rl\", \"OHE_ord_5_sF\", \"OHE_ord_5_sY\", \"OHE_ord_5_sc\", \"OHE_ord_5_sf\", \"OHE_ord_5_tT\", \"OHE_ord_5_th\", \"OHE_ord_5_tn\", \"OHE_ord_5_uI\", \"OHE_ord_5_uP\", \"OHE_ord_5_uQ\", \"OHE_ord_5_uW\", \"OHE_ord_5_uZ\", \"OHE_ord_5_ur\", \"OHE_ord_5_us\", \"OHE_ord_5_vQ\", \"OHE_ord_5_vq\", \"OHE_ord_5_vw\", \"OHE_ord_5_vx\", \"OHE_ord_5_wJ\", \"OHE_ord_5_wU\", \"OHE_ord_5_wa\", \"OHE_ord_5_xB\", \"OHE_ord_5_xF\", \"OHE_ord_5_xG\", \"OHE_ord_5_yE\", \"OHE_ord_5_yK\", \"OHE_ord_5_zc\", \"OHE_ord_5_ze\", \"OHE_ord_5_zf\", \"OHE_ord_5_zp\", \"Ord5_2\", \"TargetEncoder_bin_1\", \"TargetEncoder_bin_3\", \"TargetEncoder_bin_4\", \"TargetEncoder_nom_0\", \"TargetEncoder_nom_6\", \"WOEEncoder_bin_1\", \"WOEEncoder_bin_3\", \"WOEEncoder_bin_4\", \"WOEEncoder_nom_0\", \"WOEEncoder_nom_4\", \"WOEEncoder_nom_6\", \"count_encode_nom_1\", \"count_encode_nom_2\", \"count_encode_nom_3\", \"count_encode_nom_4\", \"count_encode_nom_5\", \"count_encode_nom_6\", \"count_encode_nom_7\", \"count_encode_nom_8\", \"count_encode_nom_9\", \"day_sin\", \"month_cos\"]) is complete\n",
      "DEBUG: Checking if TrainStratifiedKFold(random_state=110, params={\"objective\": \"binary\", \"learning_rate\": 0.01, \"metric\": \"binary\", \"lambda_l1\": 0.47475707851038346, \"lambda_l2\": 7.393120515287501, \"num_leaves\": 2, \"feature_fraction\": 0.6479999999999999, \"bagging_fraction\": 1.0, \"bagging_freq\": 0, \"min_child_samples\": 100}, model_type=lgb) is complete\n",
      "2020-02-24 12:59:26,216 DEBUG luigi-interface : Checking if TrainStratifiedKFold(random_state=110, params={\"objective\": \"binary\", \"learning_rate\": 0.01, \"metric\": \"binary\", \"lambda_l1\": 0.47475707851038346, \"lambda_l2\": 7.393120515287501, \"num_leaves\": 2, \"feature_fraction\": 0.6479999999999999, \"bagging_fraction\": 1.0, \"bagging_freq\": 0, \"min_child_samples\": 100}, model_type=lgb) is complete\n",
      "INFO: Informed scheduler that task   Predict_110_fadd22deb8   has status   PENDING\n",
      "2020-02-24 12:59:26,218 INFO luigi-interface : Informed scheduler that task   Predict_110_fadd22deb8   has status   PENDING\n",
      "INFO: Informed scheduler that task   TrainStratifiedKFold_lgb___objective____b_110_b39c396ec9   has status   PENDING\n",
      "2020-02-24 12:59:26,222 INFO luigi-interface : Informed scheduler that task   TrainStratifiedKFold_lgb___objective____b_110_b39c396ec9   has status   PENDING\n",
      "INFO: Informed scheduler that task   Preprocess___BinaryCategori____f1d589dadc   has status   DONE\n",
      "2020-02-24 12:59:26,224 INFO luigi-interface : Informed scheduler that task   Preprocess___BinaryCategori____f1d589dadc   has status   DONE\n",
      "INFO: Done scheduling tasks\n",
      "2020-02-24 12:59:26,226 INFO luigi-interface : Done scheduling tasks\n",
      "INFO: Running Worker with 1 processes\n",
      "2020-02-24 12:59:26,227 INFO luigi-interface : Running Worker with 1 processes\n",
      "DEBUG: Asking scheduler for work...\n",
      "2020-02-24 12:59:26,229 DEBUG luigi-interface : Asking scheduler for work...\n",
      "DEBUG: Pending tasks: 2\n",
      "2020-02-24 12:59:26,232 DEBUG luigi-interface : Pending tasks: 2\n",
      "INFO: [pid 11634] Worker Worker(salt=853010306, workers=1, host=itohara, username=yuto, pid=11634) running   TrainStratifiedKFold(random_state=110, params={\"objective\": \"binary\", \"learning_rate\": 0.01, \"metric\": \"binary\", \"lambda_l1\": 0.47475707851038346, \"lambda_l2\": 7.393120515287501, \"num_leaves\": 2, \"feature_fraction\": 0.6479999999999999, \"bagging_fraction\": 1.0, \"bagging_freq\": 0, \"min_child_samples\": 100}, model_type=lgb)\n",
      "2020-02-24 12:59:26,234 INFO luigi-interface : [pid 11634] Worker Worker(salt=853010306, workers=1, host=itohara, username=yuto, pid=11634) running   TrainStratifiedKFold(random_state=110, params={\"objective\": \"binary\", \"learning_rate\": 0.01, \"metric\": \"binary\", \"lambda_l1\": 0.47475707851038346, \"lambda_l2\": 7.393120515287501, \"num_leaves\": 2, \"feature_fraction\": 0.6479999999999999, \"bagging_fraction\": 1.0, \"bagging_freq\": 0, \"min_child_samples\": 100}, model_type=lgb)\n",
      "2020-02-24 12:59:26,265 INFO gokart.file_processor : writing a file with total_bytes=330...\n",
      "2020-02-24 12:59:26,265 INFO gokart.file_processor : writing bytes [0, 330)\n",
      "2020-02-24 12:59:26,266 INFO gokart.file_processor : done\n",
      "2020-02-24 12:59:27,483 INFO scripts.model.model_lightgbm : train 1th model\n"
     ]
    },
    {
     "name": "stdout",
     "output_type": "stream",
     "text": [
      "Training until validation scores don't improve for 100 rounds\n",
      "[100]\ttraining's binary_logloss: 0.467293\tvalid_1's binary_logloss: 0.467224\n",
      "[200]\ttraining's binary_logloss: 0.459674\tvalid_1's binary_logloss: 0.459669\n",
      "[300]\ttraining's binary_logloss: 0.45373\tvalid_1's binary_logloss: 0.453749\n",
      "[400]\ttraining's binary_logloss: 0.448831\tvalid_1's binary_logloss: 0.448858\n",
      "[500]\ttraining's binary_logloss: 0.444665\tvalid_1's binary_logloss: 0.444671\n",
      "[600]\ttraining's binary_logloss: 0.441033\tvalid_1's binary_logloss: 0.441029\n",
      "[700]\ttraining's binary_logloss: 0.437806\tvalid_1's binary_logloss: 0.437792\n",
      "[800]\ttraining's binary_logloss: 0.4349\tvalid_1's binary_logloss: 0.434892\n",
      "[900]\ttraining's binary_logloss: 0.432265\tvalid_1's binary_logloss: 0.432257\n",
      "[1000]\ttraining's binary_logloss: 0.429866\tvalid_1's binary_logloss: 0.42987\n",
      "[1100]\ttraining's binary_logloss: 0.427674\tvalid_1's binary_logloss: 0.427685\n",
      "[1200]\ttraining's binary_logloss: 0.425668\tvalid_1's binary_logloss: 0.425682\n",
      "[1300]\ttraining's binary_logloss: 0.42383\tvalid_1's binary_logloss: 0.423861\n",
      "[1400]\ttraining's binary_logloss: 0.422134\tvalid_1's binary_logloss: 0.422161\n",
      "[1500]\ttraining's binary_logloss: 0.420566\tvalid_1's binary_logloss: 0.420599\n",
      "[1600]\ttraining's binary_logloss: 0.419113\tvalid_1's binary_logloss: 0.41915\n",
      "[1700]\ttraining's binary_logloss: 0.417762\tvalid_1's binary_logloss: 0.417814\n",
      "[1800]\ttraining's binary_logloss: 0.416506\tvalid_1's binary_logloss: 0.416567\n",
      "[1900]\ttraining's binary_logloss: 0.415337\tvalid_1's binary_logloss: 0.415406\n",
      "[2000]\ttraining's binary_logloss: 0.414246\tvalid_1's binary_logloss: 0.414314\n",
      "[2100]\ttraining's binary_logloss: 0.413228\tvalid_1's binary_logloss: 0.413304\n",
      "[2200]\ttraining's binary_logloss: 0.412277\tvalid_1's binary_logloss: 0.412359\n",
      "[2300]\ttraining's binary_logloss: 0.411388\tvalid_1's binary_logloss: 0.411471\n",
      "[2400]\ttraining's binary_logloss: 0.410556\tvalid_1's binary_logloss: 0.410641\n",
      "[2500]\ttraining's binary_logloss: 0.409777\tvalid_1's binary_logloss: 0.409869\n",
      "[2600]\ttraining's binary_logloss: 0.409046\tvalid_1's binary_logloss: 0.409145\n",
      "[2700]\ttraining's binary_logloss: 0.408362\tvalid_1's binary_logloss: 0.408463\n",
      "[2800]\ttraining's binary_logloss: 0.40772\tvalid_1's binary_logloss: 0.407825\n",
      "[2900]\ttraining's binary_logloss: 0.407116\tvalid_1's binary_logloss: 0.407228\n",
      "[3000]\ttraining's binary_logloss: 0.406548\tvalid_1's binary_logloss: 0.406665\n",
      "[3100]\ttraining's binary_logloss: 0.406014\tvalid_1's binary_logloss: 0.406137\n",
      "[3200]\ttraining's binary_logloss: 0.405511\tvalid_1's binary_logloss: 0.405639\n",
      "[3300]\ttraining's binary_logloss: 0.405037\tvalid_1's binary_logloss: 0.405172\n",
      "[3400]\ttraining's binary_logloss: 0.40459\tvalid_1's binary_logloss: 0.404731\n",
      "[3500]\ttraining's binary_logloss: 0.404169\tvalid_1's binary_logloss: 0.404312\n",
      "[3600]\ttraining's binary_logloss: 0.403771\tvalid_1's binary_logloss: 0.403915\n",
      "[3700]\ttraining's binary_logloss: 0.403396\tvalid_1's binary_logloss: 0.403544\n",
      "[3800]\ttraining's binary_logloss: 0.403041\tvalid_1's binary_logloss: 0.403192\n",
      "[3900]\ttraining's binary_logloss: 0.402706\tvalid_1's binary_logloss: 0.402861\n",
      "[4000]\ttraining's binary_logloss: 0.402389\tvalid_1's binary_logloss: 0.402547\n",
      "[4100]\ttraining's binary_logloss: 0.40209\tvalid_1's binary_logloss: 0.402252\n",
      "[4200]\ttraining's binary_logloss: 0.401806\tvalid_1's binary_logloss: 0.40197\n",
      "[4300]\ttraining's binary_logloss: 0.401538\tvalid_1's binary_logloss: 0.401704\n",
      "[4400]\ttraining's binary_logloss: 0.401284\tvalid_1's binary_logloss: 0.401459\n",
      "[4500]\ttraining's binary_logloss: 0.401043\tvalid_1's binary_logloss: 0.40122\n",
      "[4600]\ttraining's binary_logloss: 0.400815\tvalid_1's binary_logloss: 0.400996\n",
      "[4700]\ttraining's binary_logloss: 0.400599\tvalid_1's binary_logloss: 0.400781\n",
      "[4800]\ttraining's binary_logloss: 0.400394\tvalid_1's binary_logloss: 0.40058\n",
      "[4900]\ttraining's binary_logloss: 0.400199\tvalid_1's binary_logloss: 0.400387\n",
      "[5000]\ttraining's binary_logloss: 0.400014\tvalid_1's binary_logloss: 0.400203\n",
      "[5100]\ttraining's binary_logloss: 0.399838\tvalid_1's binary_logloss: 0.400027\n",
      "[5200]\ttraining's binary_logloss: 0.399671\tvalid_1's binary_logloss: 0.399862\n",
      "[5300]\ttraining's binary_logloss: 0.399512\tvalid_1's binary_logloss: 0.399705\n",
      "[5400]\ttraining's binary_logloss: 0.39936\tvalid_1's binary_logloss: 0.399555\n",
      "[5500]\ttraining's binary_logloss: 0.399215\tvalid_1's binary_logloss: 0.399411\n",
      "[5600]\ttraining's binary_logloss: 0.399078\tvalid_1's binary_logloss: 0.399276\n",
      "[5700]\ttraining's binary_logloss: 0.398946\tvalid_1's binary_logloss: 0.399147\n",
      "[5800]\ttraining's binary_logloss: 0.398821\tvalid_1's binary_logloss: 0.399022\n",
      "[5900]\ttraining's binary_logloss: 0.398702\tvalid_1's binary_logloss: 0.398904\n",
      "[6000]\ttraining's binary_logloss: 0.398589\tvalid_1's binary_logloss: 0.398793\n",
      "[6100]\ttraining's binary_logloss: 0.39848\tvalid_1's binary_logloss: 0.398684\n",
      "[6200]\ttraining's binary_logloss: 0.398377\tvalid_1's binary_logloss: 0.398582\n",
      "[6300]\ttraining's binary_logloss: 0.398278\tvalid_1's binary_logloss: 0.398484\n",
      "[6400]\ttraining's binary_logloss: 0.398184\tvalid_1's binary_logloss: 0.398393\n",
      "[6500]\ttraining's binary_logloss: 0.398094\tvalid_1's binary_logloss: 0.398304\n",
      "[6600]\ttraining's binary_logloss: 0.398008\tvalid_1's binary_logloss: 0.398218\n",
      "[6700]\ttraining's binary_logloss: 0.397926\tvalid_1's binary_logloss: 0.398138\n",
      "[6800]\ttraining's binary_logloss: 0.397847\tvalid_1's binary_logloss: 0.398061\n",
      "[6900]\ttraining's binary_logloss: 0.397772\tvalid_1's binary_logloss: 0.397988\n",
      "[7000]\ttraining's binary_logloss: 0.397701\tvalid_1's binary_logloss: 0.397919\n",
      "[7100]\ttraining's binary_logloss: 0.397632\tvalid_1's binary_logloss: 0.397851\n",
      "[7200]\ttraining's binary_logloss: 0.397567\tvalid_1's binary_logloss: 0.397786\n",
      "[7300]\ttraining's binary_logloss: 0.397505\tvalid_1's binary_logloss: 0.397726\n",
      "[7400]\ttraining's binary_logloss: 0.397445\tvalid_1's binary_logloss: 0.397666\n",
      "[7500]\ttraining's binary_logloss: 0.397388\tvalid_1's binary_logloss: 0.397611\n",
      "[7600]\ttraining's binary_logloss: 0.397333\tvalid_1's binary_logloss: 0.397557\n",
      "[7700]\ttraining's binary_logloss: 0.397281\tvalid_1's binary_logloss: 0.397508\n",
      "[7800]\ttraining's binary_logloss: 0.397231\tvalid_1's binary_logloss: 0.397458\n",
      "[7900]\ttraining's binary_logloss: 0.397184\tvalid_1's binary_logloss: 0.397412\n",
      "[8000]\ttraining's binary_logloss: 0.397138\tvalid_1's binary_logloss: 0.397368\n",
      "[8100]\ttraining's binary_logloss: 0.397094\tvalid_1's binary_logloss: 0.397324\n",
      "[8200]\ttraining's binary_logloss: 0.397052\tvalid_1's binary_logloss: 0.397284\n",
      "[8300]\ttraining's binary_logloss: 0.397012\tvalid_1's binary_logloss: 0.397245\n",
      "[8400]\ttraining's binary_logloss: 0.396974\tvalid_1's binary_logloss: 0.397209\n",
      "[8500]\ttraining's binary_logloss: 0.396937\tvalid_1's binary_logloss: 0.397173\n",
      "[8600]\ttraining's binary_logloss: 0.396902\tvalid_1's binary_logloss: 0.397139\n",
      "[8700]\ttraining's binary_logloss: 0.396869\tvalid_1's binary_logloss: 0.397107\n",
      "[8800]\ttraining's binary_logloss: 0.396837\tvalid_1's binary_logloss: 0.397075\n",
      "[8900]\ttraining's binary_logloss: 0.396806\tvalid_1's binary_logloss: 0.397045\n",
      "[9000]\ttraining's binary_logloss: 0.396776\tvalid_1's binary_logloss: 0.397018\n",
      "[9100]\ttraining's binary_logloss: 0.396748\tvalid_1's binary_logloss: 0.396991\n",
      "[9200]\ttraining's binary_logloss: 0.396721\tvalid_1's binary_logloss: 0.396965\n",
      "[9300]\ttraining's binary_logloss: 0.396695\tvalid_1's binary_logloss: 0.396939\n",
      "[9400]\ttraining's binary_logloss: 0.396671\tvalid_1's binary_logloss: 0.396915\n",
      "[9500]\ttraining's binary_logloss: 0.396647\tvalid_1's binary_logloss: 0.396893\n",
      "[9600]\ttraining's binary_logloss: 0.396624\tvalid_1's binary_logloss: 0.396872\n",
      "[9700]\ttraining's binary_logloss: 0.396602\tvalid_1's binary_logloss: 0.39685\n",
      "[9800]\ttraining's binary_logloss: 0.396582\tvalid_1's binary_logloss: 0.396831\n",
      "[9900]\ttraining's binary_logloss: 0.396562\tvalid_1's binary_logloss: 0.396812\n",
      "[10000]\ttraining's binary_logloss: 0.396543\tvalid_1's binary_logloss: 0.396793\n",
      "[10100]\ttraining's binary_logloss: 0.396524\tvalid_1's binary_logloss: 0.396776\n",
      "[10200]\ttraining's binary_logloss: 0.396507\tvalid_1's binary_logloss: 0.396759\n",
      "[10300]\ttraining's binary_logloss: 0.39649\tvalid_1's binary_logloss: 0.396744\n",
      "[10400]\ttraining's binary_logloss: 0.396474\tvalid_1's binary_logloss: 0.396729\n",
      "[10500]\ttraining's binary_logloss: 0.396458\tvalid_1's binary_logloss: 0.396714\n",
      "[10600]\ttraining's binary_logloss: 0.396444\tvalid_1's binary_logloss: 0.3967\n",
      "[10700]\ttraining's binary_logloss: 0.396429\tvalid_1's binary_logloss: 0.396686\n",
      "[10800]\ttraining's binary_logloss: 0.396416\tvalid_1's binary_logloss: 0.396673\n",
      "[10900]\ttraining's binary_logloss: 0.396403\tvalid_1's binary_logloss: 0.396661\n",
      "[11000]\ttraining's binary_logloss: 0.39639\tvalid_1's binary_logloss: 0.396648\n",
      "[11100]\ttraining's binary_logloss: 0.396378\tvalid_1's binary_logloss: 0.396636\n",
      "[11200]\ttraining's binary_logloss: 0.396367\tvalid_1's binary_logloss: 0.396625\n",
      "[11300]\ttraining's binary_logloss: 0.396356\tvalid_1's binary_logloss: 0.396613\n",
      "[11400]\ttraining's binary_logloss: 0.396345\tvalid_1's binary_logloss: 0.396603\n",
      "[11500]\ttraining's binary_logloss: 0.396335\tvalid_1's binary_logloss: 0.396593\n",
      "[11600]\ttraining's binary_logloss: 0.396325\tvalid_1's binary_logloss: 0.396584\n",
      "[11700]\ttraining's binary_logloss: 0.396316\tvalid_1's binary_logloss: 0.396574\n",
      "[11800]\ttraining's binary_logloss: 0.396307\tvalid_1's binary_logloss: 0.396565\n",
      "[11900]\ttraining's binary_logloss: 0.396298\tvalid_1's binary_logloss: 0.396557\n",
      "[12000]\ttraining's binary_logloss: 0.39629\tvalid_1's binary_logloss: 0.396549\n",
      "[12100]\ttraining's binary_logloss: 0.396282\tvalid_1's binary_logloss: 0.396541\n",
      "[12200]\ttraining's binary_logloss: 0.396274\tvalid_1's binary_logloss: 0.396534\n",
      "[12300]\ttraining's binary_logloss: 0.396266\tvalid_1's binary_logloss: 0.396527\n",
      "[12400]\ttraining's binary_logloss: 0.396259\tvalid_1's binary_logloss: 0.39652\n",
      "[12500]\ttraining's binary_logloss: 0.396252\tvalid_1's binary_logloss: 0.396514\n",
      "[12600]\ttraining's binary_logloss: 0.396245\tvalid_1's binary_logloss: 0.396508\n",
      "[12700]\ttraining's binary_logloss: 0.396239\tvalid_1's binary_logloss: 0.396502\n",
      "[12800]\ttraining's binary_logloss: 0.396233\tvalid_1's binary_logloss: 0.396496\n",
      "[12900]\ttraining's binary_logloss: 0.396227\tvalid_1's binary_logloss: 0.396491\n",
      "[13000]\ttraining's binary_logloss: 0.396221\tvalid_1's binary_logloss: 0.396485\n",
      "[13100]\ttraining's binary_logloss: 0.396215\tvalid_1's binary_logloss: 0.39648\n",
      "[13200]\ttraining's binary_logloss: 0.39621\tvalid_1's binary_logloss: 0.396475\n",
      "[13300]\ttraining's binary_logloss: 0.396205\tvalid_1's binary_logloss: 0.396471\n",
      "[13400]\ttraining's binary_logloss: 0.3962\tvalid_1's binary_logloss: 0.396466\n",
      "[13500]\ttraining's binary_logloss: 0.396195\tvalid_1's binary_logloss: 0.396462\n",
      "[13600]\ttraining's binary_logloss: 0.39619\tvalid_1's binary_logloss: 0.396458\n",
      "[13700]\ttraining's binary_logloss: 0.396185\tvalid_1's binary_logloss: 0.396453\n",
      "[13800]\ttraining's binary_logloss: 0.396181\tvalid_1's binary_logloss: 0.39645\n",
      "[13900]\ttraining's binary_logloss: 0.396177\tvalid_1's binary_logloss: 0.396446\n",
      "[14000]\ttraining's binary_logloss: 0.396173\tvalid_1's binary_logloss: 0.396442\n",
      "[14100]\ttraining's binary_logloss: 0.396169\tvalid_1's binary_logloss: 0.396439\n",
      "[14200]\ttraining's binary_logloss: 0.396165\tvalid_1's binary_logloss: 0.396436\n",
      "[14300]\ttraining's binary_logloss: 0.396161\tvalid_1's binary_logloss: 0.396432\n",
      "[14400]\ttraining's binary_logloss: 0.396158\tvalid_1's binary_logloss: 0.396429\n",
      "[14500]\ttraining's binary_logloss: 0.396154\tvalid_1's binary_logloss: 0.396426\n"
     ]
    },
    {
     "name": "stderr",
     "output_type": "stream",
     "text": [
      "INFO: Worker Worker(salt=853010306, workers=1, host=itohara, username=yuto, pid=11634) was stopped. Shutting down Keep-Alive thread\n",
      "2020-02-24 13:06:54,563 INFO luigi-interface : Worker Worker(salt=853010306, workers=1, host=itohara, username=yuto, pid=11634) was stopped. Shutting down Keep-Alive thread\n"
     ]
    },
    {
     "ename": "KeyboardInterrupt",
     "evalue": "",
     "output_type": "error",
     "traceback": [
      "\u001b[0;31m---------------------------------------------------------------------------\u001b[0m",
      "\u001b[0;31mKeyboardInterrupt\u001b[0m                         Traceback (most recent call last)",
      "\u001b[0;32m<ipython-input-6-1fe3d834ca9c>\u001b[0m in \u001b[0;36m<module>\u001b[0;34m\u001b[0m\n\u001b[0;32m----> 1\u001b[0;31m \u001b[0mluigi\u001b[0m\u001b[0;34m.\u001b[0m\u001b[0mbuild\u001b[0m\u001b[0;34m(\u001b[0m\u001b[0;34m[\u001b[0m\u001b[0mPredict\u001b[0m\u001b[0;34m(\u001b[0m\u001b[0;34m)\u001b[0m\u001b[0;34m]\u001b[0m\u001b[0;34m,\u001b[0m \u001b[0mlocal_scheduler\u001b[0m\u001b[0;34m=\u001b[0m\u001b[0;32mTrue\u001b[0m\u001b[0;34m)\u001b[0m\u001b[0;34m\u001b[0m\u001b[0;34m\u001b[0m\u001b[0m\n\u001b[0m",
      "\u001b[0;32m~/cat-in-the-dat-ii/.venv/lib/python3.7/site-packages/luigi/interface.py\u001b[0m in \u001b[0;36mbuild\u001b[0;34m(tasks, worker_scheduler_factory, detailed_summary, **env_params)\u001b[0m\n\u001b[1;32m    235\u001b[0m         \u001b[0menv_params\u001b[0m\u001b[0;34m[\u001b[0m\u001b[0;34m\"no_lock\"\u001b[0m\u001b[0;34m]\u001b[0m \u001b[0;34m=\u001b[0m \u001b[0;32mTrue\u001b[0m\u001b[0;34m\u001b[0m\u001b[0;34m\u001b[0m\u001b[0m\n\u001b[1;32m    236\u001b[0m \u001b[0;34m\u001b[0m\u001b[0m\n\u001b[0;32m--> 237\u001b[0;31m     \u001b[0mluigi_run_result\u001b[0m \u001b[0;34m=\u001b[0m \u001b[0m_schedule_and_run\u001b[0m\u001b[0;34m(\u001b[0m\u001b[0mtasks\u001b[0m\u001b[0;34m,\u001b[0m \u001b[0mworker_scheduler_factory\u001b[0m\u001b[0;34m,\u001b[0m \u001b[0moverride_defaults\u001b[0m\u001b[0;34m=\u001b[0m\u001b[0menv_params\u001b[0m\u001b[0;34m)\u001b[0m\u001b[0;34m\u001b[0m\u001b[0;34m\u001b[0m\u001b[0m\n\u001b[0m\u001b[1;32m    238\u001b[0m     \u001b[0;32mreturn\u001b[0m \u001b[0mluigi_run_result\u001b[0m \u001b[0;32mif\u001b[0m \u001b[0mdetailed_summary\u001b[0m \u001b[0;32melse\u001b[0m \u001b[0mluigi_run_result\u001b[0m\u001b[0;34m.\u001b[0m\u001b[0mscheduling_succeeded\u001b[0m\u001b[0;34m\u001b[0m\u001b[0;34m\u001b[0m\u001b[0m\n",
      "\u001b[0;32m~/cat-in-the-dat-ii/.venv/lib/python3.7/site-packages/luigi/interface.py\u001b[0m in \u001b[0;36m_schedule_and_run\u001b[0;34m(tasks, worker_scheduler_factory, override_defaults)\u001b[0m\n\u001b[1;32m    171\u001b[0m             \u001b[0msuccess\u001b[0m \u001b[0;34m&=\u001b[0m \u001b[0mworker\u001b[0m\u001b[0;34m.\u001b[0m\u001b[0madd\u001b[0m\u001b[0;34m(\u001b[0m\u001b[0mt\u001b[0m\u001b[0;34m,\u001b[0m \u001b[0menv_params\u001b[0m\u001b[0;34m.\u001b[0m\u001b[0mparallel_scheduling\u001b[0m\u001b[0;34m,\u001b[0m \u001b[0menv_params\u001b[0m\u001b[0;34m.\u001b[0m\u001b[0mparallel_scheduling_processes\u001b[0m\u001b[0;34m)\u001b[0m\u001b[0;34m\u001b[0m\u001b[0;34m\u001b[0m\u001b[0m\n\u001b[1;32m    172\u001b[0m         \u001b[0mlogger\u001b[0m\u001b[0;34m.\u001b[0m\u001b[0minfo\u001b[0m\u001b[0;34m(\u001b[0m\u001b[0;34m'Done scheduling tasks'\u001b[0m\u001b[0;34m)\u001b[0m\u001b[0;34m\u001b[0m\u001b[0;34m\u001b[0m\u001b[0m\n\u001b[0;32m--> 173\u001b[0;31m         \u001b[0msuccess\u001b[0m \u001b[0;34m&=\u001b[0m \u001b[0mworker\u001b[0m\u001b[0;34m.\u001b[0m\u001b[0mrun\u001b[0m\u001b[0;34m(\u001b[0m\u001b[0;34m)\u001b[0m\u001b[0;34m\u001b[0m\u001b[0;34m\u001b[0m\u001b[0m\n\u001b[0m\u001b[1;32m    174\u001b[0m     \u001b[0mluigi_run_result\u001b[0m \u001b[0;34m=\u001b[0m \u001b[0mLuigiRunResult\u001b[0m\u001b[0;34m(\u001b[0m\u001b[0mworker\u001b[0m\u001b[0;34m,\u001b[0m \u001b[0msuccess\u001b[0m\u001b[0;34m)\u001b[0m\u001b[0;34m\u001b[0m\u001b[0;34m\u001b[0m\u001b[0m\n\u001b[1;32m    175\u001b[0m     \u001b[0mlogger\u001b[0m\u001b[0;34m.\u001b[0m\u001b[0minfo\u001b[0m\u001b[0;34m(\u001b[0m\u001b[0mluigi_run_result\u001b[0m\u001b[0;34m.\u001b[0m\u001b[0msummary_text\u001b[0m\u001b[0;34m)\u001b[0m\u001b[0;34m\u001b[0m\u001b[0;34m\u001b[0m\u001b[0m\n",
      "\u001b[0;32m~/cat-in-the-dat-ii/.venv/lib/python3.7/site-packages/luigi/worker.py\u001b[0m in \u001b[0;36mrun\u001b[0;34m(self)\u001b[0m\n\u001b[1;32m   1213\u001b[0m             \u001b[0;31m# task_id is not None:\u001b[0m\u001b[0;34m\u001b[0m\u001b[0;34m\u001b[0m\u001b[0;34m\u001b[0m\u001b[0m\n\u001b[1;32m   1214\u001b[0m             \u001b[0mlogger\u001b[0m\u001b[0;34m.\u001b[0m\u001b[0mdebug\u001b[0m\u001b[0;34m(\u001b[0m\u001b[0;34m\"Pending tasks: %s\"\u001b[0m\u001b[0;34m,\u001b[0m \u001b[0mget_work_response\u001b[0m\u001b[0;34m.\u001b[0m\u001b[0mn_pending_tasks\u001b[0m\u001b[0;34m)\u001b[0m\u001b[0;34m\u001b[0m\u001b[0;34m\u001b[0m\u001b[0m\n\u001b[0;32m-> 1215\u001b[0;31m             \u001b[0mself\u001b[0m\u001b[0;34m.\u001b[0m\u001b[0m_run_task\u001b[0m\u001b[0;34m(\u001b[0m\u001b[0mget_work_response\u001b[0m\u001b[0;34m.\u001b[0m\u001b[0mtask_id\u001b[0m\u001b[0;34m)\u001b[0m\u001b[0;34m\u001b[0m\u001b[0;34m\u001b[0m\u001b[0m\n\u001b[0m\u001b[1;32m   1216\u001b[0m \u001b[0;34m\u001b[0m\u001b[0m\n\u001b[1;32m   1217\u001b[0m         \u001b[0;32mwhile\u001b[0m \u001b[0mlen\u001b[0m\u001b[0;34m(\u001b[0m\u001b[0mself\u001b[0m\u001b[0;34m.\u001b[0m\u001b[0m_running_tasks\u001b[0m\u001b[0;34m)\u001b[0m\u001b[0;34m:\u001b[0m\u001b[0;34m\u001b[0m\u001b[0;34m\u001b[0m\u001b[0m\n",
      "\u001b[0;32m~/cat-in-the-dat-ii/.venv/lib/python3.7/site-packages/luigi/worker.py\u001b[0m in \u001b[0;36m_run_task\u001b[0;34m(self, task_id)\u001b[0m\n\u001b[1;32m   1017\u001b[0m         \u001b[0;32melse\u001b[0m\u001b[0;34m:\u001b[0m\u001b[0;34m\u001b[0m\u001b[0;34m\u001b[0m\u001b[0m\n\u001b[1;32m   1018\u001b[0m             \u001b[0;31m# Run in the same process\u001b[0m\u001b[0;34m\u001b[0m\u001b[0;34m\u001b[0m\u001b[0;34m\u001b[0m\u001b[0m\n\u001b[0;32m-> 1019\u001b[0;31m             \u001b[0mtask_process\u001b[0m\u001b[0;34m.\u001b[0m\u001b[0mrun\u001b[0m\u001b[0;34m(\u001b[0m\u001b[0;34m)\u001b[0m\u001b[0;34m\u001b[0m\u001b[0;34m\u001b[0m\u001b[0m\n\u001b[0m\u001b[1;32m   1020\u001b[0m \u001b[0;34m\u001b[0m\u001b[0m\n\u001b[1;32m   1021\u001b[0m     \u001b[0;32mdef\u001b[0m \u001b[0m_create_task_process\u001b[0m\u001b[0;34m(\u001b[0m\u001b[0mself\u001b[0m\u001b[0;34m,\u001b[0m \u001b[0mtask\u001b[0m\u001b[0;34m)\u001b[0m\u001b[0;34m:\u001b[0m\u001b[0;34m\u001b[0m\u001b[0;34m\u001b[0m\u001b[0m\n",
      "\u001b[0;32m~/cat-in-the-dat-ii/.venv/lib/python3.7/site-packages/luigi/worker.py\u001b[0m in \u001b[0;36mrun\u001b[0;34m(self)\u001b[0m\n\u001b[1;32m    291\u001b[0m                 \u001b[0msuper\u001b[0m\u001b[0;34m(\u001b[0m\u001b[0mContextManagedTaskProcess\u001b[0m\u001b[0;34m,\u001b[0m \u001b[0mself\u001b[0m\u001b[0;34m)\u001b[0m\u001b[0;34m.\u001b[0m\u001b[0mrun\u001b[0m\u001b[0;34m(\u001b[0m\u001b[0;34m)\u001b[0m\u001b[0;34m\u001b[0m\u001b[0;34m\u001b[0m\u001b[0m\n\u001b[1;32m    292\u001b[0m         \u001b[0;32melse\u001b[0m\u001b[0;34m:\u001b[0m\u001b[0;34m\u001b[0m\u001b[0;34m\u001b[0m\u001b[0m\n\u001b[0;32m--> 293\u001b[0;31m             \u001b[0msuper\u001b[0m\u001b[0;34m(\u001b[0m\u001b[0mContextManagedTaskProcess\u001b[0m\u001b[0;34m,\u001b[0m \u001b[0mself\u001b[0m\u001b[0;34m)\u001b[0m\u001b[0;34m.\u001b[0m\u001b[0mrun\u001b[0m\u001b[0;34m(\u001b[0m\u001b[0;34m)\u001b[0m\u001b[0;34m\u001b[0m\u001b[0;34m\u001b[0m\u001b[0m\n\u001b[0m\u001b[1;32m    294\u001b[0m \u001b[0;34m\u001b[0m\u001b[0m\n\u001b[1;32m    295\u001b[0m \u001b[0;34m\u001b[0m\u001b[0m\n",
      "\u001b[0;32m~/cat-in-the-dat-ii/.venv/lib/python3.7/site-packages/luigi/worker.py\u001b[0m in \u001b[0;36mrun\u001b[0;34m(self)\u001b[0m\n\u001b[1;32m    197\u001b[0m             \u001b[0;32melse\u001b[0m\u001b[0;34m:\u001b[0m\u001b[0;34m\u001b[0m\u001b[0;34m\u001b[0m\u001b[0m\n\u001b[1;32m    198\u001b[0m                 \u001b[0;32mwith\u001b[0m \u001b[0mself\u001b[0m\u001b[0;34m.\u001b[0m\u001b[0m_forward_attributes\u001b[0m\u001b[0;34m(\u001b[0m\u001b[0;34m)\u001b[0m\u001b[0;34m:\u001b[0m\u001b[0;34m\u001b[0m\u001b[0;34m\u001b[0m\u001b[0m\n\u001b[0;32m--> 199\u001b[0;31m                     \u001b[0mnew_deps\u001b[0m \u001b[0;34m=\u001b[0m \u001b[0mself\u001b[0m\u001b[0;34m.\u001b[0m\u001b[0m_run_get_new_deps\u001b[0m\u001b[0;34m(\u001b[0m\u001b[0;34m)\u001b[0m\u001b[0;34m\u001b[0m\u001b[0;34m\u001b[0m\u001b[0m\n\u001b[0m\u001b[1;32m    200\u001b[0m                 \u001b[0;32mif\u001b[0m \u001b[0;32mnot\u001b[0m \u001b[0mnew_deps\u001b[0m\u001b[0;34m:\u001b[0m\u001b[0;34m\u001b[0m\u001b[0;34m\u001b[0m\u001b[0m\n\u001b[1;32m    201\u001b[0m                     \u001b[0;32mif\u001b[0m \u001b[0;32mnot\u001b[0m \u001b[0mself\u001b[0m\u001b[0;34m.\u001b[0m\u001b[0mcheck_complete_on_run\u001b[0m \u001b[0;32mor\u001b[0m \u001b[0mself\u001b[0m\u001b[0;34m.\u001b[0m\u001b[0mtask\u001b[0m\u001b[0;34m.\u001b[0m\u001b[0mcomplete\u001b[0m\u001b[0;34m(\u001b[0m\u001b[0;34m)\u001b[0m\u001b[0;34m:\u001b[0m\u001b[0;34m\u001b[0m\u001b[0;34m\u001b[0m\u001b[0m\n",
      "\u001b[0;32m~/cat-in-the-dat-ii/.venv/lib/python3.7/site-packages/luigi/worker.py\u001b[0m in \u001b[0;36m_run_get_new_deps\u001b[0;34m(self)\u001b[0m\n\u001b[1;32m    139\u001b[0m \u001b[0;34m\u001b[0m\u001b[0m\n\u001b[1;32m    140\u001b[0m     \u001b[0;32mdef\u001b[0m \u001b[0m_run_get_new_deps\u001b[0m\u001b[0;34m(\u001b[0m\u001b[0mself\u001b[0m\u001b[0;34m)\u001b[0m\u001b[0;34m:\u001b[0m\u001b[0;34m\u001b[0m\u001b[0;34m\u001b[0m\u001b[0m\n\u001b[0;32m--> 141\u001b[0;31m         \u001b[0mtask_gen\u001b[0m \u001b[0;34m=\u001b[0m \u001b[0mself\u001b[0m\u001b[0;34m.\u001b[0m\u001b[0mtask\u001b[0m\u001b[0;34m.\u001b[0m\u001b[0mrun\u001b[0m\u001b[0;34m(\u001b[0m\u001b[0;34m)\u001b[0m\u001b[0;34m\u001b[0m\u001b[0;34m\u001b[0m\u001b[0m\n\u001b[0m\u001b[1;32m    142\u001b[0m \u001b[0;34m\u001b[0m\u001b[0m\n\u001b[1;32m    143\u001b[0m         \u001b[0;32mif\u001b[0m \u001b[0;32mnot\u001b[0m \u001b[0misinstance\u001b[0m\u001b[0;34m(\u001b[0m\u001b[0mtask_gen\u001b[0m\u001b[0;34m,\u001b[0m \u001b[0mtypes\u001b[0m\u001b[0;34m.\u001b[0m\u001b[0mGeneratorType\u001b[0m\u001b[0;34m)\u001b[0m\u001b[0;34m:\u001b[0m\u001b[0;34m\u001b[0m\u001b[0;34m\u001b[0m\u001b[0m\n",
      "\u001b[0;32m~/cat-in-the-dat-ii/experiments/scripts/train/train.py\u001b[0m in \u001b[0;36mrun\u001b[0;34m(self)\u001b[0m\n\u001b[1;32m     31\u001b[0m                 \u001b[0mtrain_y\u001b[0m\u001b[0;34m,\u001b[0m\u001b[0;34m\u001b[0m\u001b[0;34m\u001b[0m\u001b[0m\n\u001b[1;32m     32\u001b[0m                 \u001b[0mself\u001b[0m\u001b[0;34m.\u001b[0m\u001b[0mrandom_state\u001b[0m\u001b[0;34m,\u001b[0m\u001b[0;34m\u001b[0m\u001b[0;34m\u001b[0m\u001b[0m\n\u001b[0;32m---> 33\u001b[0;31m                 \u001b[0mgroups\u001b[0m\u001b[0;34m,\u001b[0m\u001b[0;34m\u001b[0m\u001b[0;34m\u001b[0m\u001b[0m\n\u001b[0m\u001b[1;32m     34\u001b[0m             )\n\u001b[1;32m     35\u001b[0m         \u001b[0;32melse\u001b[0m\u001b[0;34m:\u001b[0m\u001b[0;34m\u001b[0m\u001b[0;34m\u001b[0m\u001b[0m\n",
      "\u001b[0;32m~/cat-in-the-dat-ii/experiments/scripts/model/model_lightgbm.py\u001b[0m in \u001b[0;36mtrain_lgb\u001b[0;34m(fold, params, X, y, seed, groups, load)\u001b[0m\n\u001b[1;32m     65\u001b[0m                 \u001b[0mnum_boost_round\u001b[0m\u001b[0;34m=\u001b[0m\u001b[0;36m100000\u001b[0m\u001b[0;34m,\u001b[0m\u001b[0;34m\u001b[0m\u001b[0;34m\u001b[0m\u001b[0m\n\u001b[1;32m     66\u001b[0m                 \u001b[0mearly_stopping_rounds\u001b[0m\u001b[0;34m=\u001b[0m\u001b[0;36m100\u001b[0m\u001b[0;34m,\u001b[0m\u001b[0;34m\u001b[0m\u001b[0;34m\u001b[0m\u001b[0m\n\u001b[0;32m---> 67\u001b[0;31m                 \u001b[0mverbose_eval\u001b[0m\u001b[0;34m=\u001b[0m\u001b[0;36m100\u001b[0m\u001b[0;34m,\u001b[0m\u001b[0;34m\u001b[0m\u001b[0;34m\u001b[0m\u001b[0m\n\u001b[0m\u001b[1;32m     68\u001b[0m             )\n\u001b[1;32m     69\u001b[0m             \u001b[0mpickle\u001b[0m\u001b[0;34m.\u001b[0m\u001b[0mdump\u001b[0m\u001b[0;34m(\u001b[0m\u001b[0mmodel\u001b[0m\u001b[0;34m,\u001b[0m \u001b[0mopen\u001b[0m\u001b[0;34m(\u001b[0m\u001b[0mtmp_file_name\u001b[0m\u001b[0;34m,\u001b[0m \u001b[0;34m\"wb\"\u001b[0m\u001b[0;34m)\u001b[0m\u001b[0;34m)\u001b[0m\u001b[0;34m\u001b[0m\u001b[0;34m\u001b[0m\u001b[0m\n",
      "\u001b[0;32m~/cat-in-the-dat-ii/.venv/lib/python3.7/site-packages/lightgbm/engine.py\u001b[0m in \u001b[0;36mtrain\u001b[0;34m(params, train_set, num_boost_round, valid_sets, valid_names, fobj, feval, init_model, feature_name, categorical_feature, early_stopping_rounds, evals_result, verbose_eval, learning_rates, keep_training_booster, callbacks)\u001b[0m\n\u001b[1;32m    253\u001b[0m         \u001b[0;32mif\u001b[0m \u001b[0mvalid_sets\u001b[0m \u001b[0;32mis\u001b[0m \u001b[0;32mnot\u001b[0m \u001b[0;32mNone\u001b[0m\u001b[0;34m:\u001b[0m\u001b[0;34m\u001b[0m\u001b[0;34m\u001b[0m\u001b[0m\n\u001b[1;32m    254\u001b[0m             \u001b[0;32mif\u001b[0m \u001b[0mis_valid_contain_train\u001b[0m\u001b[0;34m:\u001b[0m\u001b[0;34m\u001b[0m\u001b[0;34m\u001b[0m\u001b[0m\n\u001b[0;32m--> 255\u001b[0;31m                 \u001b[0mevaluation_result_list\u001b[0m\u001b[0;34m.\u001b[0m\u001b[0mextend\u001b[0m\u001b[0;34m(\u001b[0m\u001b[0mbooster\u001b[0m\u001b[0;34m.\u001b[0m\u001b[0meval_train\u001b[0m\u001b[0;34m(\u001b[0m\u001b[0mfeval\u001b[0m\u001b[0;34m)\u001b[0m\u001b[0;34m)\u001b[0m\u001b[0;34m\u001b[0m\u001b[0;34m\u001b[0m\u001b[0m\n\u001b[0m\u001b[1;32m    256\u001b[0m             \u001b[0mevaluation_result_list\u001b[0m\u001b[0;34m.\u001b[0m\u001b[0mextend\u001b[0m\u001b[0;34m(\u001b[0m\u001b[0mbooster\u001b[0m\u001b[0;34m.\u001b[0m\u001b[0meval_valid\u001b[0m\u001b[0;34m(\u001b[0m\u001b[0mfeval\u001b[0m\u001b[0;34m)\u001b[0m\u001b[0;34m)\u001b[0m\u001b[0;34m\u001b[0m\u001b[0;34m\u001b[0m\u001b[0m\n\u001b[1;32m    257\u001b[0m         \u001b[0;32mtry\u001b[0m\u001b[0;34m:\u001b[0m\u001b[0;34m\u001b[0m\u001b[0;34m\u001b[0m\u001b[0m\n",
      "\u001b[0;32m~/cat-in-the-dat-ii/.venv/lib/python3.7/site-packages/lightgbm/basic.py\u001b[0m in \u001b[0;36meval_train\u001b[0;34m(self, feval)\u001b[0m\n\u001b[1;32m   2154\u001b[0m             \u001b[0mList\u001b[0m \u001b[0;32mwith\u001b[0m \u001b[0mevaluation\u001b[0m \u001b[0mresults\u001b[0m\u001b[0;34m.\u001b[0m\u001b[0;34m\u001b[0m\u001b[0;34m\u001b[0m\u001b[0m\n\u001b[1;32m   2155\u001b[0m         \"\"\"\n\u001b[0;32m-> 2156\u001b[0;31m         \u001b[0;32mreturn\u001b[0m \u001b[0mself\u001b[0m\u001b[0;34m.\u001b[0m\u001b[0m__inner_eval\u001b[0m\u001b[0;34m(\u001b[0m\u001b[0mself\u001b[0m\u001b[0;34m.\u001b[0m\u001b[0m_train_data_name\u001b[0m\u001b[0;34m,\u001b[0m \u001b[0;36m0\u001b[0m\u001b[0;34m,\u001b[0m \u001b[0mfeval\u001b[0m\u001b[0;34m)\u001b[0m\u001b[0;34m\u001b[0m\u001b[0;34m\u001b[0m\u001b[0m\n\u001b[0m\u001b[1;32m   2157\u001b[0m \u001b[0;34m\u001b[0m\u001b[0m\n\u001b[1;32m   2158\u001b[0m     \u001b[0;32mdef\u001b[0m \u001b[0meval_valid\u001b[0m\u001b[0;34m(\u001b[0m\u001b[0mself\u001b[0m\u001b[0;34m,\u001b[0m \u001b[0mfeval\u001b[0m\u001b[0;34m=\u001b[0m\u001b[0;32mNone\u001b[0m\u001b[0;34m)\u001b[0m\u001b[0;34m:\u001b[0m\u001b[0;34m\u001b[0m\u001b[0;34m\u001b[0m\u001b[0m\n",
      "\u001b[0;32m~/cat-in-the-dat-ii/.venv/lib/python3.7/site-packages/lightgbm/basic.py\u001b[0m in \u001b[0;36m__inner_eval\u001b[0;34m(self, data_name, data_idx, feval)\u001b[0m\n\u001b[1;32m   2645\u001b[0m                 \u001b[0mctypes\u001b[0m\u001b[0;34m.\u001b[0m\u001b[0mc_int\u001b[0m\u001b[0;34m(\u001b[0m\u001b[0mdata_idx\u001b[0m\u001b[0;34m)\u001b[0m\u001b[0;34m,\u001b[0m\u001b[0;34m\u001b[0m\u001b[0;34m\u001b[0m\u001b[0m\n\u001b[1;32m   2646\u001b[0m                 \u001b[0mctypes\u001b[0m\u001b[0;34m.\u001b[0m\u001b[0mbyref\u001b[0m\u001b[0;34m(\u001b[0m\u001b[0mtmp_out_len\u001b[0m\u001b[0;34m)\u001b[0m\u001b[0;34m,\u001b[0m\u001b[0;34m\u001b[0m\u001b[0;34m\u001b[0m\u001b[0m\n\u001b[0;32m-> 2647\u001b[0;31m                 result.ctypes.data_as(ctypes.POINTER(ctypes.c_double))))\n\u001b[0m\u001b[1;32m   2648\u001b[0m             \u001b[0;32mif\u001b[0m \u001b[0mtmp_out_len\u001b[0m\u001b[0;34m.\u001b[0m\u001b[0mvalue\u001b[0m \u001b[0;34m!=\u001b[0m \u001b[0mself\u001b[0m\u001b[0;34m.\u001b[0m\u001b[0m__num_inner_eval\u001b[0m\u001b[0;34m:\u001b[0m\u001b[0;34m\u001b[0m\u001b[0;34m\u001b[0m\u001b[0m\n\u001b[1;32m   2649\u001b[0m                 \u001b[0;32mraise\u001b[0m \u001b[0mValueError\u001b[0m\u001b[0;34m(\u001b[0m\u001b[0;34m\"Wrong length of eval results\"\u001b[0m\u001b[0;34m)\u001b[0m\u001b[0;34m\u001b[0m\u001b[0;34m\u001b[0m\u001b[0m\n",
      "\u001b[0;31mKeyboardInterrupt\u001b[0m: "
     ]
    }
   ],
   "source": [
    "luigi.build([Predict()], local_scheduler=True)"
   ]
  },
  {
   "cell_type": "code",
   "execution_count": null,
   "metadata": {},
   "outputs": [],
   "source": [
    "pd.read_pickle('./resources/scripts/train/tuning/TuningLGB_dc577e07ed4e54ef8fcb48cfa6c831fd.pkl')['best_params']"
   ]
  },
  {
   "cell_type": "code",
   "execution_count": null,
   "metadata": {},
   "outputs": [],
   "source": [
    "luigi.build([GetFeature()], local_scheduler=True)"
   ]
  },
  {
   "cell_type": "code",
   "execution_count": null,
   "metadata": {},
   "outputs": [],
   "source": [
    "luigi.build([Predict()], local_scheduler=True)"
   ]
  },
  {
   "cell_type": "code",
   "execution_count": null,
   "metadata": {},
   "outputs": [],
   "source": []
  }
 ],
 "metadata": {
  "kernelspec": {
   "display_name": "Python 3",
   "language": "python",
   "name": "python3"
  },
  "language_info": {
   "codemirror_mode": {
    "name": "ipython",
    "version": 3
   },
   "file_extension": ".py",
   "mimetype": "text/x-python",
   "name": "python",
   "nbconvert_exporter": "python",
   "pygments_lexer": "ipython3",
   "version": "3.7.6"
  }
 },
 "nbformat": 4,
 "nbformat_minor": 4
}
